{
 "cells": [
  {
   "cell_type": "code",
   "execution_count": 13,
   "id": "21c0a6d2-2444-49d3-991b-dd1a30632491",
   "metadata": {},
   "outputs": [],
   "source": [
    "import numpy as np\n",
    "array_list = [[100, 65, 160],\n",
    "[150, 82, 200],\n",
    "[90, 55, 80],\n",
    "[130, 73, 220],\n",
    "[190, 80, 150]]\n",
    "\n",
    "array_list[1][2]\n",
    "\n",
    "array_list[3][0]\n",
    "\n",
    "import array as arr\n",
    "arr_x = arr.array(\"d\", [98.6, 22.35, 72.1])\n"
   ]
  },
  {
   "cell_type": "code",
   "execution_count": 15,
   "id": "9cdf5dc8-812f-4290-aec0-de2e5a6bfbc8",
   "metadata": {},
   "outputs": [],
   "source": [
    "array1d = np.array([1, 2, 3, 4])\n",
    "array2d = np.array([[0, 1, 2],[2, 3, 4]])"
   ]
  },
  {
   "cell_type": "code",
   "execution_count": 17,
   "id": "ce5fd9f2-5c71-4bda-b90c-013842373c7b",
   "metadata": {},
   "outputs": [
    {
     "data": {
      "text/plain": [
       "array([ 5.        ,  5.26315789,  5.52631579,  5.78947368,  6.05263158,\n",
       "        6.31578947,  6.57894737,  6.84210526,  7.10526316,  7.36842105,\n",
       "        7.63157895,  7.89473684,  8.15789474,  8.42105263,  8.68421053,\n",
       "        8.94736842,  9.21052632,  9.47368421,  9.73684211, 10.        ])"
      ]
     },
     "execution_count": 17,
     "metadata": {},
     "output_type": "execute_result"
    }
   ],
   "source": [
    "np.ones((2, 3, 4))\n",
    "np.zeros((2, 1, 3))\n",
    "np.identity(3)\n",
    "np.eye(N = 3)\n",
    "np.eye(N = 2, M = 3)\n",
    "np.eye(N = 4, M = 3, k = 1)\n",
    "np.eye(N = 4, M = 3, k = -2)\n",
    "\n",
    "np.arange(6)\n",
    "np.arange(2, 13, 3)\n",
    "np.linspace(start = 5, stop = 10, num = 20)\n"
   ]
  },
  {
   "cell_type": "code",
   "execution_count": 19,
   "id": "e44c08fd-63b6-4c7d-80cc-f1017df61b31",
   "metadata": {},
   "outputs": [
    {
     "data": {
      "text/plain": [
       "array([1, 2, 3, 4])"
      ]
     },
     "execution_count": 19,
     "metadata": {},
     "output_type": "execute_result"
    }
   ],
   "source": [
    "np.random.rand(2, 4)\n",
    "np.random.randn(2, 4)\n",
    "5 * np.random.randn(2, 4) + 10\n",
    "np.random.randint(2, 5, (2, 3))\n",
    "np.empty([4,3])\n",
    "arr_a = np.array([[1, 2, 3], [4, 5, 6], [7, 8, 9]])\n",
    "np.diag(arr_a)\n",
    "np.diag(np.diag(arr_a))\n",
    "np.diag(np.diag(arr_a, k = 1))\n",
    "\n",
    "np.tile(np.array([1, 2, 3]), 2)\n",
    "np.tile(np.array([[1, 2, 3], [4, 5, 6]]), 4)\n",
    "np.tile(np.array([[1, 2, 3], [4, 5, 6]]), (4,1))\n",
    "np.array([-2, -1, 0, 1, 2]).dtype\n",
    "np.array([-2, -1, 0, 1, 2], dtype = \"float\")\n",
    "np.array([-2, -1, 0, 1, 2], dtype = \"str\")\n",
    "np.array([\"a\", \"bb\", \"ccc\", \"dddd\", \"eeeee\"])\n",
    "np.array([True, False, True, True]).dtype\n",
    "np.array([0, 1, 1, 0, 0], dtype = \"bool\")\n",
    "np.array([0, 1, 2, 3, -4], dtype = \"bool\")\n",
    "np.array([[1 + 1j, 2 + 2j], [3 + 3j, 4 + 4j]])\n",
    "np.array([[1 + 1j, 2 + 2j], [3 + 3j, 4 + 4j]]).dtype\n",
    "\n",
    "int_array = np.array([0, 1, 2, 3])\n",
    "int_array.astype(\"float\")\n",
    "float_array = np.array([1.56, 2.95, 3.12, 4.65])\n",
    "float_array.astype(\"int\")"
   ]
  },
  {
   "cell_type": "code",
   "execution_count": 23,
   "id": "a46e7c05-892d-4452-9b2e-d9451beda503",
   "metadata": {},
   "outputs": [
    {
     "name": "stdout",
     "output_type": "stream",
     "text": [
      "[0 1 2 3 4]\n"
     ]
    }
   ],
   "source": [
    "ar = np.arange(5); print (ar); ar[0], ar[1], ar[-1]\n",
    "ar=np.arange(5); ar[1], ar[-1], ar[0]\n",
    "ar=np.arange(5); ar[::-1]\n",
    "ar = np.array([[2,3,4],[9,8,7],[11,12,13]])\n",
    "ar[1,1]\n",
    "ar[1,1]=5\n",
    "ar[2]\n",
    "ar[:,1]\n",
    "ar = np.array([0,1,2])\n",
    "ar=2*np.arange(6)\n",
    "ar[1:6:2]\n",
    "ar[:4]\n",
    "ar[4:]\n",
    "ar[::3]\n",
    "ar\n",
    "ar[:3]=1; ar\n",
    "ar[2:]=np.ones(4)"
   ]
  },
  {
   "cell_type": "code",
   "execution_count": 27,
   "id": "46db912b-4b8a-418a-8875-50cbe8179f22",
   "metadata": {},
   "outputs": [
    {
     "name": "stderr",
     "output_type": "stream",
     "text": [
      "/var/folders/dv/3stz4zmn5jn1dhpcpw10k25h0000gp/T/ipykernel_51298/898764788.py:2: DeprecationWarning: This function is deprecated. Please call randint(0, 25 + 1) instead\n",
      "  ar=np.random.random_integers(0,25,10)\n"
     ]
    },
    {
     "data": {
      "text/plain": [
       "array([-9, -8, -7, -6, -5, -4, -3, -2, -1,  0, 10, 11, 12, 13, 14])"
      ]
     },
     "execution_count": 27,
     "metadata": {},
     "output_type": "execute_result"
    }
   ],
   "source": [
    "np.random.seed(10)\n",
    "ar=np.random.random_integers(0,25,10)\n",
    "evenMask=(ar % 2==0); evenMask\n",
    "evenNums=ar[evenMask]; evenNums\n",
    "ar=np.array(['Hungary','Nigeria', 'Guatemala','','Poland','','Japan']); ar\n",
    "ar[ar=='']='USA'; ar\n",
    "ar=11*np.arange(0,10); ar\n",
    "ar[[1,3,4,2,7]]\n",
    "ar[[1,3]]=50; ar\n",
    "ar=np.arange(15); ar\n",
    "ar2=np.arange(0,-10,-1)[::-1]; ar2\n",
    "ar[:10]=ar2; ar"
   ]
  },
  {
   "cell_type": "code",
   "execution_count": 29,
   "id": "83c4592b-9268-420d-8630-be01c7a5e10b",
   "metadata": {},
   "outputs": [
    {
     "data": {
      "text/plain": [
       "array([[14, 32],\n",
       "       [32, 77]])"
      ]
     },
     "execution_count": 29,
     "metadata": {},
     "output_type": "execute_result"
    }
   ],
   "source": [
    "ar1=np.arange(12); ar1\n",
    "ar2=ar1[::2]; ar2\n",
    "ar2[1]=-1; ar1\n",
    "ar=np.arange(8);ar\n",
    "arc=ar[:3].copy(); arc\n",
    "arc[0]=-1; arc\n",
    "array_1 = np.array([[1, 2, 3], [4, 5, 6]])\n",
    "array_1 + 5\n",
    "array_1 * 5\n",
    "array_1 ** 2\n",
    "\n",
    "array_1 + array_1\n",
    "array_1 * array_1\n",
    "array_1 @ array_1.T"
   ]
  },
  {
   "cell_type": "code",
   "execution_count": 31,
   "id": "594aba9f-f7ac-403e-8b74-25e9b5551697",
   "metadata": {},
   "outputs": [
    {
     "name": "stdout",
     "output_type": "stream",
     "text": [
      "1.72 µs ± 12.3 ns per loop (mean ± std. dev. of 7 runs, 1,000,000 loops each)\n",
      "46.3 µs ± 380 ns per loop (mean ± std. dev. of 7 runs, 10,000 loops each)\n"
     ]
    },
    {
     "data": {
      "text/plain": [
       "array([1., 4.])"
      ]
     },
     "execution_count": 31,
     "metadata": {},
     "output_type": "execute_result"
    }
   ],
   "source": [
    "%timeit np.arange(1000) ** 3\n",
    "array_list = range(1000)\n",
    "%timeit [array_list[i]**3 for i in array_list]\n",
    "\n",
    "np.array([[1, 2, 3], [4, 5, 6]]).sum()\n",
    "np.array([[1, 2, 3], [4, 5, 6]]).sum(axis = 0)\n",
    "np.array([[1, 2, 3], [4, 5, 6]]).cumsum(axis = 0)\n",
    "np.array([[1, 2, 3], [4, 5, 6]]).cumsum()\n",
    "array_x = np.array([[0, 1, 2], [3, 4, 5]])\n",
    "np.mean(array_x)\n",
    "np.median(array_x)\n",
    "np.var(array_x)\n",
    "np.std(array_x)\n",
    "np.mean(array_x, axis = 0)\n",
    "np.mean(array_x, axis = 1)\n"
   ]
  },
  {
   "cell_type": "code",
   "execution_count": 33,
   "id": "a428fa07-1b82-4cea-a581-f5a69259369a",
   "metadata": {},
   "outputs": [
    {
     "data": {
      "text/plain": [
       "5.0"
      ]
     },
     "execution_count": 33,
     "metadata": {},
     "output_type": "execute_result"
    }
   ],
   "source": [
    "nan_array = np.array([[5, 6, np.nan], [19, 3, 2]])\n",
    "np.median(nan_array)\n",
    "np.nanmedian(nan_array)\n"
   ]
  },
  {
   "cell_type": "code",
   "execution_count": 35,
   "id": "ccc81a91-c571-424c-ac6e-df36a07d923b",
   "metadata": {},
   "outputs": [
    {
     "data": {
      "text/plain": [
       "array([False,  True, False, False])"
      ]
     },
     "execution_count": 35,
     "metadata": {},
     "output_type": "execute_result"
    }
   ],
   "source": [
    "array_corr = np.random.randn(3,4)\n",
    "array_corr\n",
    "np.corrcoef(array_corr)\n",
    "np.cov(array_corr)\n",
    "array_logical = np.random.randn(3, 4)\n",
    "np.any(array_logical < 0, axis = 0)\n",
    "np.all(array_logical < 0)\n",
    "np.isfinite(np.array([12, np.inf, 3, np.nan]))\n",
    "np.isnan((np.array([12, np.inf, 3, np.nan])))\n",
    "np.isinf((np.array([12, np.inf, 3, np.nan])))"
   ]
  },
  {
   "cell_type": "code",
   "execution_count": 37,
   "id": "50c36f57-cd28-47f7-9b5b-565b7e963c33",
   "metadata": {},
   "outputs": [
    {
     "data": {
      "text/plain": [
       "array([[False,  True, False,  True],\n",
       "       [False,  True,  True,  True],\n",
       "       [False,  True, False,  True]])"
      ]
     },
     "execution_count": 37,
     "metadata": {},
     "output_type": "execute_result"
    }
   ],
   "source": [
    "array1 = np.random.randn(3,4)\n",
    "array2 = np.random.randn(3, 4)\n",
    "np.greater(array1, array2)\n",
    "np.less(array1, array2)"
   ]
  },
  {
   "cell_type": "code",
   "execution_count": 39,
   "id": "0d813e20-26eb-421e-baf3-c4b53cba3d16",
   "metadata": {},
   "outputs": [
    {
     "data": {
      "text/plain": [
       "array([[46, 47, 48],\n",
       "       [47, 48, 49],\n",
       "       [48, 49, 50]])"
      ]
     },
     "execution_count": 39,
     "metadata": {},
     "output_type": "execute_result"
    }
   ],
   "source": [
    "ar=np.ones([3,2]); ar\n",
    "ar2=np.array([2,3]); ar2\n",
    "ar+ar2\n",
    "ar=np.array([[23,24,25]]); ar\n",
    "ar.T\n",
    "ar.T+ar"
   ]
  },
  {
   "cell_type": "code",
   "execution_count": 41,
   "id": "24503464-05d3-4619-a924-e71d235a267f",
   "metadata": {},
   "outputs": [
    {
     "data": {
      "text/plain": [
       "(4, 3, 2)"
      ]
     },
     "execution_count": 41,
     "metadata": {},
     "output_type": "execute_result"
    }
   ],
   "source": [
    "reshape_array = np.arange(0,15)\n",
    "np.reshape(reshape_array, (5, 3))\n",
    "trans_array = np.arange(0,24).reshape(4, 6)\n",
    "trans_array.T\n",
    "trans_array = np.arange(0,24).reshape(2, 3, 4)\n",
    "trans_array.T.shape\n"
   ]
  },
  {
   "cell_type": "code",
   "execution_count": 43,
   "id": "7a6dc941-3fa2-46db-bcb8-5d159065b5d4",
   "metadata": {},
   "outputs": [
    {
     "data": {
      "text/plain": [
       "array([ 0,  3,  6,  9,  1,  4,  7, 10,  2,  5,  8, 11])"
      ]
     },
     "execution_count": 43,
     "metadata": {},
     "output_type": "execute_result"
    }
   ],
   "source": [
    "ravel_array = np.arange(0,12).reshape(4, 3)\n",
    "ravel_array.ravel()\n",
    "ravel_array.ravel(order = \"F\")"
   ]
  },
  {
   "cell_type": "code",
   "execution_count": 45,
   "id": "a55415eb-e1e9-4d01-b8c2-e0d26f5dd18e",
   "metadata": {},
   "outputs": [
    {
     "data": {
      "text/plain": [
       "(7, 1, 1)"
      ]
     },
     "execution_count": 45,
     "metadata": {},
     "output_type": "execute_result"
    }
   ],
   "source": [
    "array_x = np.array([0, 1, 2, 3, 4, 5, 6])\n",
    "array_x[:, np.newaxis]\n",
    "array_x[:, np.newaxis].shape\n",
    "array_x[:, np.newaxis, np.newaxis]\n",
    "array_x[:, np.newaxis, np.newaxis].shape\n"
   ]
  },
  {
   "cell_type": "code",
   "execution_count": 47,
   "id": "6a35f07d-309d-4037-8884-0b34a3c02aa7",
   "metadata": {},
   "outputs": [
    {
     "data": {
      "text/plain": [
       "array([[ 3.10689567, -4.20433218],\n",
       "       [-0.15837941,  0.6605727 ]])"
      ]
     },
     "execution_count": 47,
     "metadata": {},
     "output_type": "execute_result"
    }
   ],
   "source": [
    "array_1 = np.random.randn(2, 4)\n",
    "array_2 = np.random.randn(4, 2)\n",
    "np.dot(array_1, array_2)"
   ]
  },
  {
   "cell_type": "code",
   "execution_count": 49,
   "id": "7f8ccbfb-3ef8-4a79-a2a1-8554d833070f",
   "metadata": {},
   "outputs": [
    {
     "data": {
      "text/plain": [
       "(2, 4, 1, 1, 1)"
      ]
     },
     "execution_count": 49,
     "metadata": {},
     "output_type": "execute_result"
    }
   ],
   "source": [
    "array_1 = np.random.randn(2, 4, 2)\n",
    "array_2 = np.random.randn(1, 1, 2, 1)\n",
    "np.dot(array_1, array_2).shape\n"
   ]
  },
  {
   "cell_type": "code",
   "execution_count": 51,
   "id": "8c64c4cd-8c10-4e17-b7c4-2566bd614eaf",
   "metadata": {},
   "outputs": [
    {
     "data": {
      "text/plain": [
       "EigResult(eigenvalues=array([2.20560487+0.j        , 0.5947018 +1.63409537j,\n",
       "       0.5947018 -1.63409537j, 0.10123614+0.j        ,\n",
       "       0.38585436+0.j        ]), eigenvectors=array([[ 4.87683648e-01+0.j        ,  4.22408431e-01-0.07052932j,\n",
       "         4.22408431e-01+0.07052932j, -9.04462019e-01+0.j        ,\n",
       "         9.17796064e-01+0.j        ],\n",
       "       [-9.94847786e-02+0.j        , -1.10642428e-01-0.36051319j,\n",
       "        -1.10642428e-01+0.36051319j, -1.12010026e-01+0.j        ,\n",
       "        -7.82501618e-03+0.j        ],\n",
       "       [-6.95653774e-01+0.j        ,  7.39343851e-02-0.21609392j,\n",
       "         7.39343851e-02+0.21609392j, -3.53889940e-04+0.j        ,\n",
       "        -5.06226269e-02+0.j        ],\n",
       "       [ 2.59331373e-01+0.j        ,  1.89842224e-01-0.49068765j,\n",
       "         1.89842224e-01+0.49068765j, -3.66981019e-01+0.j        ,\n",
       "         3.24668397e-01+0.j        ],\n",
       "       [-4.48420009e-01+0.j        , -5.87714142e-01+0.j        ,\n",
       "        -5.87714142e-01-0.j        ,  1.86351863e-01+0.j        ,\n",
       "        -2.22748594e-01+0.j        ]]))"
      ]
     },
     "execution_count": 51,
     "metadata": {},
     "output_type": "execute_result"
    }
   ],
   "source": [
    "array_svd = np.random.randn(4, 3)\n",
    "np.linalg.svd(array_svd)\n",
    "np.linalg.eig(np.random.randn(5, 5))"
   ]
  },
  {
   "cell_type": "code",
   "execution_count": 53,
   "id": "0ca878f0-0030-4ba8-a924-5f8e1d93d786",
   "metadata": {},
   "outputs": [
    {
     "data": {
      "text/plain": [
       "array([-6.27272727, 15.81818182, -6.45454545])"
      ]
     },
     "execution_count": 53,
     "metadata": {},
     "output_type": "execute_result"
    }
   ],
   "source": [
    "a = np.array([[1, 2, 3], [5, 4, 2], [8, 9, 7]])\n",
    "b = np.array([6, 19, 47])\n",
    "np.linalg.solve(a, b)"
   ]
  },
  {
   "cell_type": "code",
   "execution_count": 55,
   "id": "d6b8a62d-9486-4c6e-842f-7602bb7cdde0",
   "metadata": {},
   "outputs": [
    {
     "data": {
      "text/plain": [
       "array([-1.49068268,  0.26356622])"
      ]
     },
     "execution_count": 55,
     "metadata": {},
     "output_type": "execute_result"
    }
   ],
   "source": [
    "np.linalg.det(np.random.randn(3,3))\n",
    "np.linalg.det(np.random.randn(2,3,3))\n"
   ]
  },
  {
   "cell_type": "code",
   "execution_count": 57,
   "id": "ff6d8c95-cd29-45fd-9f87-1754f04cc153",
   "metadata": {},
   "outputs": [],
   "source": [
    "ar=np.array([[3,2],[10,-1]])\n",
    "ar.sort(axis=1)\n",
    "ar=np.array([[3,2],[10,-1]])\n",
    "ar.sort(axis=0)\n"
   ]
  },
  {
   "cell_type": "code",
   "execution_count": 71,
   "id": "86206ab6-9606-4ed7-bf8f-04ab6638fdfd",
   "metadata": {},
   "outputs": [],
   "source": [
    "N = 1000\n",
    "X1 = np.random.randn(N, 2) + np.array([0.9, 0.9])\n",
    "X2 = np.random.randn(N, 2) + np.array([-0.9, -0.9])\n",
    "Y1 = np.zeros((N, 1))\n",
    "Y2 = np.ones((N, 1))\n",
    "X = np.vstack((X1, X2))\n",
    "Y = np.vstack((Y1, Y2))\n",
    "train = np.hstack((X, Y))\n",
    "x = train[:, 0:2]\n",
    "t = train[:, 2].reshape(2000, 1)\n",
    "def sigmoid(x, derive = False):\n",
    "    if (derive == True):\n",
    "        return x * (1 - x)\n",
    "    else:\n",
    "        return 1 / (1 + np.exp(-x))\t\n",
    "x_in = np.concatenate([x, np.repeat([[1]], 2000, axis = 0)], axis = 1)\n",
    "w_ih = np.random.normal(size = (3, 3))\n",
    "y_h = np.dot(x_in, w_ih)\n",
    "a_h = sigmoid(y_h)\n",
    "a_hin = np.concatenate([a_h, np.repeat([[1]], 2000, axis = 0)], axis = 1)\n",
    "w_ho = np.random.normal(size = (4, 1))\n",
    "y_o = np.dot(a_hin, w_ho)\n",
    "a_o = sigmoid(y_o)\n",
    "delta_a_o_error = a_o - t\n",
    "delta_y_o = sigmoid(a_o, derive=True)\n",
    "delta_w_ho = a_hin\n",
    "delta_output_layer = np.dot(delta_w_ho.T,(delta_a_o_error * delta_y_o))"
   ]
  },
  {
   "cell_type": "code",
   "execution_count": 82,
   "id": "0f71e174-590f-4650-a4cf-ce048df773c1",
   "metadata": {},
   "outputs": [
    {
     "ename": "TypeError",
     "evalue": "unsupported operand type(s) for -: 'int' and 'NoneType'",
     "output_type": "error",
     "traceback": [
      "\u001b[0;31m---------------------------------------------------------------------------\u001b[0m",
      "\u001b[0;31mTypeError\u001b[0m                                 Traceback (most recent call last)",
      "Cell \u001b[0;32mIn[82], line 2\u001b[0m\n\u001b[1;32m      1\u001b[0m delta_a_h \u001b[38;5;241m=\u001b[39m np\u001b[38;5;241m.\u001b[39mdot(delta_a_o_error \u001b[38;5;241m*\u001b[39m delta_y_o, w_ho[\u001b[38;5;241m0\u001b[39m:\u001b[38;5;241m3\u001b[39m,:]\u001b[38;5;241m.\u001b[39mT)\n\u001b[0;32m----> 2\u001b[0m delta_y_h \u001b[38;5;241m=\u001b[39m sigmoid(a_h, derive\u001b[38;5;241m=\u001b[39m\u001b[38;5;28;01mTrue\u001b[39;00m)\n\u001b[1;32m      3\u001b[0m delta_w_ih \u001b[38;5;241m=\u001b[39m x_in\n\u001b[1;32m      4\u001b[0m delta_hidden_layer \u001b[38;5;241m=\u001b[39m np\u001b[38;5;241m.\u001b[39mdot(delta_w_ih\u001b[38;5;241m.\u001b[39mT, delta_a_h \u001b[38;5;241m*\u001b[39m delta_y_h)\n",
      "Cell \u001b[0;32mIn[75], line 15\u001b[0m, in \u001b[0;36msigmoid\u001b[0;34m(x, derive)\u001b[0m\n\u001b[1;32m     13\u001b[0m \u001b[38;5;28;01mdef\u001b[39;00m \u001b[38;5;21msigmoid\u001b[39m(x, derive \u001b[38;5;241m=\u001b[39m \u001b[38;5;28;01mFalse\u001b[39;00m):\n\u001b[1;32m     14\u001b[0m     \u001b[38;5;28;01mif\u001b[39;00m (derive \u001b[38;5;241m==\u001b[39m \u001b[38;5;28;01mTrue\u001b[39;00m):\n\u001b[0;32m---> 15\u001b[0m         \u001b[38;5;28;01mreturn\u001b[39;00m x \u001b[38;5;241m*\u001b[39m (\u001b[38;5;241m1\u001b[39m \u001b[38;5;241m-\u001b[39m x)\n\u001b[1;32m     16\u001b[0m         \u001b[38;5;28;01mreturn\u001b[39;00m \u001b[38;5;241m1\u001b[39m \u001b[38;5;241m/\u001b[39m (\u001b[38;5;241m1\u001b[39m \u001b[38;5;241m+\u001b[39m np\u001b[38;5;241m.\u001b[39mexp(\u001b[38;5;241m-\u001b[39mx))\n",
      "\u001b[0;31mTypeError\u001b[0m: unsupported operand type(s) for -: 'int' and 'NoneType'"
     ]
    }
   ],
   "source": [
    "delta_a_h = np.dot(delta_a_o_error * delta_y_o, w_ho[0:3,:].T)\n",
    "delta_y_h = sigmoid(a_h, derive=True)\n",
    "delta_w_ih = x_in\n",
    "delta_hidden_layer = np.dot(delta_w_ih.T, delta_a_h * delta_y_h)\n",
    "eta = 0.1\n",
    "w_ih = w_ih - eta * delta_hidden_layer\n",
    "w_ho = w_ho - eta * delta_output_layer\n",
    "x = train[:,0:2]\n",
    "t = train[:,2].reshape(2000,1)\n",
    "x_in = np.concatenate([x, np.repeat([[1]], 2000, axis = 0)], axis = 1)\n",
    "w_ih = np.random.normal(size = (3, 3))\n",
    "w_ho = np.random.normal(size = (4, 1))\n",
    "def sigmoid(x, derive = False):\n",
    "    if (derive == True):\n",
    "        return x * (1 - x)\n",
    "    else:\n",
    "        return 1 / (1 + np.exp(-x))\n",
    "epochs = 5000\n",
    "eta = 0.1\n",
    "for epoch in range(epochs):\n",
    "# Feed forward\n",
    "    y_h = np.dot(x_in, w_ih)\n",
    "    a_h = sigmoid(y_h)\n",
    "    a_hin = np.concatenate([a_h, np.repeat([[1]], 2000, axis = 0)],     axis = 1)\n",
    "    y_o = np.dot(a_hin, w_ho)\n",
    "    a_o = sigmoid(y_o)\n",
    "\n",
    "    # Calculate the error\n",
    "    a_o_error = ((1 / 2) * (np.power((a_o - t), 2)))\n",
    "\n",
    "    # Backpropagation\n",
    "    ## Output layer\n",
    "    delta_a_o_error = a_o - t\n",
    "    delta_y_o = sigmoid(a_o, derive=True)\n",
    "    delta_w_ho = a_hin\n",
    "    delta_output_layer = np.dot(delta_w_ho.T,(delta_a_o_error * delta_y_o))\n",
    "\n",
    "    ## Hidden layer\n",
    "    delta_a_h = np.dot(delta_a_o_error * delta_y_o, w_ho[0:3,:].T)\n",
    "    delta_y_h = sigmoid(a_h, derive=True)\n",
    "    delta_w_ih = x_in\n",
    "    delta_hidden_layer = np.dot(delta_w_ih.T, delta_a_h * delta_y_h)\n",
    "    w_ih = w_ih - eta * delta_hidden_layer\n",
    "    w_ho = w_ho - eta * delta_output_layer\n",
    "    print(a_o_error.mean())"
   ]
  },
  {
   "cell_type": "code",
   "execution_count": 84,
   "id": "5b19a236-05da-4ade-ab04-ac60976af90c",
   "metadata": {},
   "outputs": [
    {
     "ename": "ModuleNotFoundError",
     "evalue": "No module named 'cv2'",
     "output_type": "error",
     "traceback": [
      "\u001b[0;31m---------------------------------------------------------------------------\u001b[0m",
      "\u001b[0;31mModuleNotFoundError\u001b[0m                       Traceback (most recent call last)",
      "Cell \u001b[0;32mIn[84], line 1\u001b[0m\n\u001b[0;32m----> 1\u001b[0m \u001b[38;5;28;01mimport\u001b[39;00m \u001b[38;5;21;01mcv2\u001b[39;00m\n\u001b[1;32m      2\u001b[0m \u001b[38;5;28;01mimport\u001b[39;00m \u001b[38;5;21;01mmatplotlib\u001b[39;00m\u001b[38;5;21;01m.\u001b[39;00m\u001b[38;5;21;01mpyplot\u001b[39;00m \u001b[38;5;28;01mas\u001b[39;00m \u001b[38;5;21;01mplt\u001b[39;00m\n\u001b[1;32m      3\u001b[0m \u001b[38;5;28;01mimport\u001b[39;00m \u001b[38;5;21;01mos\u001b[39;00m\n",
      "\u001b[0;31mModuleNotFoundError\u001b[0m: No module named 'cv2'"
     ]
    }
   ],
   "source": [
    "import cv2\n",
    "import matplotlib.pyplot as plt\n",
    "import os\n",
    "os.chdir('')\n",
    "img=cv2.imread('view.jpg')\n",
    "img2=cv2.imread('rose.jpg')\n",
    "\n",
    "print(type(img))\n",
    "img.shape\n",
    "plt.imshow(img)\n",
    "img_r=img[:,:,0]\n",
    "plt.imshow(img_r) \n",
    "img_g=img[:,:,1]\n",
    "plt.imshow(img_g)\n",
    "img_b=img[:,:,2]\n",
    "plt.imshow(img_b)\n",
    "img_tree=img[50:155,95:190,:]\n",
    "plt.imshow(img_tree)\n",
    "img3=img\n",
    "img3[50:155,1:96,:]=img_tree\n",
    "plt.imshow(img3) \n",
    "fig, axes = plt.subplots(1, 3)"
   ]
  },
  {
   "cell_type": "code",
   "execution_count": 96,
   "id": "1473a956-f35b-47a1-b188-cde8cceda3fe",
   "metadata": {},
   "outputs": [
    {
     "data": {
      "text/html": [
       "<div>\n",
       "<style scoped>\n",
       "    .dataframe tbody tr th:only-of-type {\n",
       "        vertical-align: middle;\n",
       "    }\n",
       "\n",
       "    .dataframe tbody tr th {\n",
       "        vertical-align: top;\n",
       "    }\n",
       "\n",
       "    .dataframe thead th {\n",
       "        text-align: right;\n",
       "    }\n",
       "</style>\n",
       "<table border=\"1\" class=\"dataframe\">\n",
       "  <thead>\n",
       "    <tr style=\"text-align: right;\">\n",
       "      <th></th>\n",
       "      <th>search</th>\n",
       "      <th>sorting</th>\n",
       "      <th>machine learning</th>\n",
       "    </tr>\n",
       "  </thead>\n",
       "  <tbody>\n",
       "    <tr>\n",
       "      <th>algo_1</th>\n",
       "      <td>DFS</td>\n",
       "      <td>Quicksort</td>\n",
       "      <td>RandomForest</td>\n",
       "    </tr>\n",
       "    <tr>\n",
       "      <th>algo_2</th>\n",
       "      <td>BFS</td>\n",
       "      <td>Mergesort</td>\n",
       "      <td>K Nearest Neighbor</td>\n",
       "    </tr>\n",
       "    <tr>\n",
       "      <th>algo_3</th>\n",
       "      <td>Binary Search</td>\n",
       "      <td>Heapsort</td>\n",
       "      <td>Logistic Regression</td>\n",
       "    </tr>\n",
       "    <tr>\n",
       "      <th>algo_4</th>\n",
       "      <td>Linear</td>\n",
       "      <td>Bubble Sort</td>\n",
       "      <td>K-Means Clustering</td>\n",
       "    </tr>\n",
       "    <tr>\n",
       "      <th>algo_5</th>\n",
       "      <td>ShortestPath (Dijkstra)</td>\n",
       "      <td>Insertion Sort</td>\n",
       "      <td>Linear Regression</td>\n",
       "    </tr>\n",
       "  </tbody>\n",
       "</table>\n",
       "</div>"
      ],
      "text/plain": [
       "                         search         sorting     machine learning\n",
       "algo_1                      DFS       Quicksort         RandomForest\n",
       "algo_2                      BFS       Mergesort   K Nearest Neighbor\n",
       "algo_3            Binary Search        Heapsort  Logistic Regression\n",
       "algo_4                   Linear     Bubble Sort   K-Means Clustering\n",
       "algo_5  ShortestPath (Dijkstra)  Insertion Sort    Linear Regression"
      ]
     },
     "execution_count": 96,
     "metadata": {},
     "output_type": "execute_result"
    }
   ],
   "source": [
    "import numpy as np\n",
    "import pandas as pd\n",
    "import calendar as cal\n",
    "\n",
    "#ser = pd.Series(data, index=idx)  # This requires 'data' and 'idx' to be defined\n",
    "ser = pd.Series(np.random.randn(7))  # Series with random values\n",
    "\n",
    "monthNames = [cal.month_name[i] for i in np.arange(1, 6)]\n",
    "months = pd.Series(np.arange(1, 6), index=monthNames)\n",
    "months.index\n",
    "\n",
    "monthNames = [cal.month_name[i] for i in np.arange(1, 6)]\n",
    "months = pd.Series(np.arange(1, 6), index=monthNames)\n",
    "months.index\n",
    "\n",
    "currDict = {'US': 'dollar', 'UK': 'pound', 'Germany': 'euro', 'Mexico': 'peso', 'Nigeria': 'naira', 'China': 'yuan', 'Japan': 'yen'}\n",
    "currSeries = pd.Series(currDict)\n",
    "\n",
    "stockPrices = {'GOOG': 1180.97, 'FB': 62.57, 'TWTR': 64.50, 'AMZN': 358.69, 'AAPL': 500.6}\n",
    "stockPriceSeries = pd.Series(stockPrices, index=['GOOG', 'FB', 'YHOO', 'TWTR', 'AMZN', 'AAPL'], name='stockPrices')\n",
    "\n",
    "dogSeries = pd.Series('chihuahua', index=['breed', 'countryOfOrigin', 'name', 'gender'])\n",
    "\n",
    "currDict['China']\n",
    "stockPriceSeries['GOOG'] = 1200.0\n",
    "stockPriceSeries.get('MSFT', np.NaN)  # Corrected method\n",
    "stockPriceSeries[:4]\n",
    "stockPriceSeries[stockPriceSeries > 100]\n",
    "np.mean(stockPriceSeries)\n",
    "np.std(stockPriceSeries)\n",
    "ser\n",
    "ser * ser\n",
    "ser[1:]\n",
    "ser[1:] + ser[:-2]\n",
    "\n",
    "stockSummaries = {\n",
    "    'AMZN': pd.Series([346.15, 0.59, 459, 0.52, 589.8, 158.88],\n",
    "                      index=['Closing price', 'EPS', 'Shares Outstanding(M)', 'Beta', 'P/E', 'Market Cap(B)']),\n",
    "    'GOOG': pd.Series([1133.43, 36.05, 335.83, 0.87, 31.44, 380.64],\n",
    "                      index=['Closing price', 'EPS', 'Shares Outstanding(M)', 'Beta', 'P/E', 'Market Cap(B)']),\n",
    "    'FB': pd.Series([61.48, 0.59, 2450, 104.93, 150.92],\n",
    "                    index=['Closing price', 'EPS', 'Shares Outstanding(M)', 'P/E', 'Market Cap(B)']),\n",
    "    'YHOO': pd.Series([34.90, 1.27, 1010, 27.48, 0.66, 35.36],\n",
    "                      index=['Closing price', 'EPS', 'Shares Outstanding(M)', 'P/E', 'Beta', 'Market Cap(B)']),\n",
    "    'TWTR': pd.Series([65.25, -0.3, 555.2, 36.23],\n",
    "                      index=['Closing price', 'EPS', 'Shares Outstanding(M)', 'Market Cap(B)']),\n",
    "    'AAPL': pd.Series([501.53, 40.32, 892.45, 12.44, 447.59, 0.84],\n",
    "                      index=['Closing price', 'EPS', 'Shares Outstanding(M)', 'P/E', 'Market Cap(B)', 'Beta'])\n",
    "}\n",
    "\n",
    "stockDF = pd.DataFrame(stockSummaries)\n",
    "\n",
    "stockDF = pd.DataFrame(stockSummaries,\n",
    "                       index=['Closing price', 'EPS', 'Shares Outstanding(M)', 'P/E', 'Market Cap(B)', 'Beta'],\n",
    "                       columns=['FB', 'TWTR', 'GOOG'])\n",
    "\n",
    "stockDF.index\n",
    "stockDF.columns\n",
    "\n",
    "algos = {'search': ['DFS', 'BFS', 'Binary Search', 'Linear', 'ShortestPath (Dijkstra)'],\n",
    "         'sorting': ['Quicksort', 'Mergesort', 'Heapsort', 'Bubble Sort', 'Insertion Sort'],\n",
    "         'machine learning': ['RandomForest', 'K Nearest Neighbor', 'Logistic Regression', 'K-Means Clustering', 'Linear Regression']}\n",
    "\n",
    "algoDF = pd.DataFrame(algos)\n",
    "algoDF\n",
    "pd.DataFrame(algos, index=['algo_1', 'algo_2', 'algo_3', 'algo_4', 'algo_5'])\n",
    "\n",
    "\n",
    "\n",
    "\n"
   ]
  },
  {
   "cell_type": "code",
   "execution_count": 102,
   "id": "bffafb44-f3b9-4275-8701-2afa10866361",
   "metadata": {},
   "outputs": [
    {
     "data": {
      "text/html": [
       "<div>\n",
       "<style scoped>\n",
       "    .dataframe tbody tr th:only-of-type {\n",
       "        vertical-align: middle;\n",
       "    }\n",
       "\n",
       "    .dataframe tbody tr th {\n",
       "        vertical-align: top;\n",
       "    }\n",
       "\n",
       "    .dataframe thead th {\n",
       "        text-align: right;\n",
       "    }\n",
       "</style>\n",
       "<table border=\"1\" class=\"dataframe\">\n",
       "  <thead>\n",
       "    <tr style=\"text-align: right;\">\n",
       "      <th></th>\n",
       "      <th></th>\n",
       "      <th>Population(M)</th>\n",
       "      <th>GDP($B)</th>\n",
       "    </tr>\n",
       "    <tr>\n",
       "      <th>Country</th>\n",
       "      <th>Year</th>\n",
       "      <th></th>\n",
       "      <th></th>\n",
       "    </tr>\n",
       "  </thead>\n",
       "  <tbody>\n",
       "    <tr>\n",
       "      <th rowspan=\"3\" valign=\"top\">US</th>\n",
       "      <th>1990</th>\n",
       "      <td>249.62</td>\n",
       "      <td>8900.00</td>\n",
       "    </tr>\n",
       "    <tr>\n",
       "      <th>2000</th>\n",
       "      <td>282.16</td>\n",
       "      <td>12680.00</td>\n",
       "    </tr>\n",
       "    <tr>\n",
       "      <th>2010</th>\n",
       "      <td>309.35</td>\n",
       "      <td>14940.00</td>\n",
       "    </tr>\n",
       "    <tr>\n",
       "      <th rowspan=\"3\" valign=\"top\">China</th>\n",
       "      <th>1990</th>\n",
       "      <td>1133.68</td>\n",
       "      <td>390.28</td>\n",
       "    </tr>\n",
       "    <tr>\n",
       "      <th>2000</th>\n",
       "      <td>1266.83</td>\n",
       "      <td>1198.48</td>\n",
       "    </tr>\n",
       "    <tr>\n",
       "      <th>2010</th>\n",
       "      <td>1339.72</td>\n",
       "      <td>6988.47</td>\n",
       "    </tr>\n",
       "  </tbody>\n",
       "</table>\n",
       "</div>"
      ],
      "text/plain": [
       "              Population(M)   GDP($B)\n",
       "Country Year                         \n",
       "US      1990         249.62   8900.00\n",
       "        2000         282.16  12680.00\n",
       "        2010         309.35  14940.00\n",
       "China   1990        1133.68    390.28\n",
       "        2000        1266.83   1198.48\n",
       "        2010        1339.72   6988.47"
      ]
     },
     "execution_count": 102,
     "metadata": {},
     "output_type": "execute_result"
    }
   ],
   "source": [
    "import numpy as np\n",
    "import pandas as pd\n",
    "\n",
    "memberData = np.array([('Sanjeev', 37, 162.4),\n",
    "                       ('Yingluck', 45, 137.8),\n",
    "                       ('Emeka', 28, 153.2),\n",
    "                       ('Amy', 67, 101.3)],\n",
    "                      dtype=[('Name', 'U15'), ('Age', 'i4'), ('Weight', 'f4')])\n",
    "\n",
    "memberDF = pd.DataFrame(memberData)\n",
    "\n",
    "pd.DataFrame(memberData, index=['a', 'b', 'c', 'd'])  # Indexed DataFrame\n",
    "pd.DataFrame(memberData, columns=[\"Weight\", \"Name\", \"Age\"])  # Rearranged columns\n",
    "\n",
    "demographicData = [{\"Age\": 32, \"Gender\": \"Male\"}, {\"Race\": \"Hispanic\", \"Gender\": \"Female\", \"Age\": 26}]\n",
    "demographicDF = pd.DataFrame(demographicData)\n",
    "\n",
    "salesData = {(\"2012\", \"Q1\"): {(\"North\", \"Brand A\"): 100, (\"North\", \"Brand B\"): 80, (\"South\", \"Brand A\"): 25, (\"South\", \"Brand B\"): 40},\n",
    "             (\"2012\", \"Q2\"): {(\"North\", \"Brand A\"): 30, (\"South\", \"Brand B\"): 50},\n",
    "             (\"2013\", \"Q1\"): {(\"North\", \"Brand A\"): 80, (\"North\", \"Brand B\"): 10, (\"South\", \"Brand B\"): 25},\n",
    "             (\"2013\", \"Q2\"): {(\"North\", \"Brand A\"): 70, (\"North\", \"Brand B\"): 50, (\"South\", \"Brand A\"): 35, (\"South\", \"Brand B\"): 40}}\n",
    "\n",
    "salesDF = pd.DataFrame(salesData)\n",
    "\n",
    "currDict = {'US': 'dollar', 'UK': 'pound', 'Germany': 'euro', 'Mexico': 'peso', 'Nigeria': 'naira', 'China': 'yuan', 'Japan': 'yen'}\n",
    "currSeries = pd.Series(currDict)\n",
    "currDF = pd.DataFrame(currSeries, columns=[\"Currency\"])\n",
    "\n",
    "# Assuming 'algos' is a predefined dictionary\n",
    "algos = {\n",
    "    'search': ['DFS', 'BFS', 'Binary Search', 'Linear', 'ShortestPath (Dijkstra)'],\n",
    "    'sorting': ['Quicksort', 'Mergesort', 'Heapsort', 'Bubble Sort', 'Insertion Sort'],\n",
    "    'machine learning': ['RandomForest', 'K Nearest Neighbor', 'Logistic Regression', 'K-Means Clustering', 'Linear Regression']\n",
    "}\n",
    "\n",
    "pd.DataFrame.from_dict(algos, orient=\"columns\")\n",
    "pd.DataFrame.from_dict(algos, orient=\"index\", columns=[\"A\", \"B\", \"C\", \"D\", \"E\"])\n",
    "pd.DataFrame.from_records(memberData, index=\"Name\")\n",
    "\n",
    "memberDF[\"Name\"]\n",
    "memberDF['Height'] = 60\n",
    "memberDF['Height2'] = [57, 62, 65, 59]\n",
    "memberDF.insert(1, \"ID\", [\"S01\", \"S02\", \"S03\", \"S04\"])\n",
    "del memberDF[\"Height\"]\n",
    "height2 = memberDF.pop(\"Height2\")\n",
    "\n",
    "ore1DF = pd.DataFrame(np.array([[20, 35, 25, 20],\n",
    "                                [11, 28, 32, 29]]),\n",
    "                     columns=['iron', 'magnesium', 'copper', 'silver'])\n",
    "\n",
    "ore2DF = pd.DataFrame(np.array([[14, 34, 26, 26],\n",
    "                                [33, 19, 25, 23]]),\n",
    "                     columns=['iron', 'magnesium', 'gold', 'silver'])\n",
    "\n",
    "ore1DF + ore2DF\n",
    "ore1DF + pd.Series([25, 25, 25, 25], index=['iron', 'magnesium', 'copper', 'silver'])\n",
    "ore1DF[\"add_iron_copper\"] = ore1DF[\"iron\"] + ore1DF[\"copper\"]\n",
    "\n",
    "logical_df1 = pd.DataFrame({'Col1': [1, 0, 1], 'Col2': [0, 1, 1]}, dtype=bool)\n",
    "logical_df2 = pd.DataFrame({'Col1': [1, 0, 0], 'Col2': [0, 0, 1]}, dtype=bool)\n",
    "logical_df1 | logical_df2\n",
    "np.sqrt(ore1DF)\n",
    "\n",
    "stockData = np.array([[[63.03, 61.48, 75],\n",
    "                       [62.05, 62.75, 46],\n",
    "                       [62.74, 62.19, 53]],\n",
    "                      [[411.90, 404.38, 2.9],\n",
    "                       [405.45, 405.91, 2.6],\n",
    "                       [403.15, 404.42, 2.4]]])\n",
    "\n",
    "# Note: pd.Panel is deprecated, consider using xarray or multi-index DataFrames\n",
    "\n",
    "USData = pd.DataFrame(np.array([[249.62, 8900],\n",
    "                                [282.16, 12680],\n",
    "                                [309.35, 14940]]),\n",
    "                      columns=['Population(M)', 'GDP($B)'],\n",
    "                      index=[1990, 2000, 2010])\n",
    "\n",
    "ChinaData = pd.DataFrame(np.array([[1133.68, 390.28],\n",
    "                                   [1266.83, 1198.48],\n",
    "                                   [1339.72, 6988.47]]),\n",
    "                         columns=['Population(M)', 'GDP($B)'],\n",
    "                         index=[1990, 2000, 2010])\n",
    "\n",
    "US_ChinaData = pd.concat({'US': USData, 'China': ChinaData}, axis=1)\n",
    "\n",
    "mIdx = pd.MultiIndex.from_product([['US', 'China'], [1990, 2000, 2010]], names=['Country', 'Year'])\n",
    "\n",
    "ChinaUSDF = pd.DataFrame({'Population(M)': [249.62, 282.16, 309.35, 1133.68, 1266.83, 1339.72],\n",
    "                          'GDP($B)': [8900, 12680, 14940, 390.28, 1198.48, 6988.47]}, \n",
    "                         index=mIdx)\n",
    "ChinaUSDF"
   ]
  },
  {
   "cell_type": "code",
   "execution_count": null,
   "id": "7a7558f4-8775-4759-b2e4-3fd11b92cece",
   "metadata": {},
   "outputs": [],
   "source": []
  }
 ],
 "metadata": {
  "kernelspec": {
   "display_name": "Python 3 (ipykernel)",
   "language": "python",
   "name": "python3"
  },
  "language_info": {
   "codemirror_mode": {
    "name": "ipython",
    "version": 3
   },
   "file_extension": ".py",
   "mimetype": "text/x-python",
   "name": "python",
   "nbconvert_exporter": "python",
   "pygments_lexer": "ipython3",
   "version": "3.11.7"
  }
 },
 "nbformat": 4,
 "nbformat_minor": 5
}
