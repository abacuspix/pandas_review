{
 "cells": [
  {
   "cell_type": "code",
   "execution_count": 1,
   "metadata": {},
   "outputs": [],
   "source": [
    "# list 3-1\n",
    "person_info = (\"Sara\", 140, 5.7)\n"
   ]
  },
  {
   "cell_type": "code",
   "execution_count": 3,
   "metadata": {},
   "outputs": [],
   "source": [
    "# list 3-2\n",
    "people = [\"Sara\", \"Sam\", \"Joe\"]"
   ]
  },
  {
   "cell_type": "code",
   "execution_count": 5,
   "metadata": {},
   "outputs": [],
   "source": [
    "# list 3-3\n",
    "word_alphabet = {\"a\": \"apple\", \"b\": \"banana\"}"
   ]
  },
  {
   "cell_type": "code",
   "execution_count": 7,
   "metadata": {},
   "outputs": [],
   "source": [
    "#list 3-4\n",
    "alphabet = {\"a\", \"b\"}"
   ]
  },
  {
   "cell_type": "code",
   "execution_count": 9,
   "metadata": {},
   "outputs": [],
   "source": [
    "#list 3-5\n",
    "str1 = \"foo\"\n",
    "str2 = \"foo\"\n",
    "assert str1 is str2"
   ]
  },
  {
   "cell_type": "code",
   "execution_count": 11,
   "metadata": {},
   "outputs": [],
   "source": [
    "#list 3-6\n",
    "# Note this must be run on the python commandline to prevent interpreter optimizations\n",
    "str1 = \"foo bar\"\n",
    "str2 = \"foo bar\"\n",
    "assert str1 is not str2\n"
   ]
  },
  {
   "cell_type": "code",
   "execution_count": 13,
   "metadata": {},
   "outputs": [],
   "source": [
    "#list 3-7\n",
    "# Note this must be run on the python commandline to prevent interpreter optimizations\n",
    "int1 = 22\n",
    "int2 = 22\n",
    "int3 = 257\n",
    "int4 = 257\n",
    "assert int1 is int2\n",
    "assert int3 is not int4"
   ]
  },
  {
   "cell_type": "code",
   "execution_count": 15,
   "metadata": {},
   "outputs": [],
   "source": [
    "##list 3-8\n",
    "ref1 = \"foo\"\n",
    "ref2 = \"foo\"\n"
   ]
  },
  {
   "cell_type": "code",
   "execution_count": 17,
   "metadata": {},
   "outputs": [],
   "source": [
    "ref1 = \"foo\"\n",
    "ref2 = \"foo\"\n",
    "\n",
    "del(ref2)  # reference count = 1 after this line executes\n",
    "del(ref1)  # reference count = 0 after this line executes\n"
   ]
  },
  {
   "cell_type": "code",
   "execution_count": 19,
   "metadata": {},
   "outputs": [
    {
     "name": "stdout",
     "output_type": "stream",
     "text": [
      "--Return--\n",
      "None\n",
      "> \u001b[0;32m/var/folders/dv/3stz4zmn5jn1dhpcpw10k25h0000gp/T/ipykernel_64466/4084345287.py\u001b[0m(10)\u001b[0;36m<module>\u001b[0;34m()\u001b[0m\n",
      "\u001b[0;32m      8 \u001b[0;31m    \u001b[0mframe\u001b[0m \u001b[0;34m=\u001b[0m \u001b[0mexc_info\u001b[0m\u001b[0;34m[\u001b[0m\u001b[0;36m2\u001b[0m\u001b[0;34m]\u001b[0m\u001b[0;34m.\u001b[0m\u001b[0mtb_frame\u001b[0m  \u001b[0;31m# create a third reference\u001b[0m\u001b[0;34m\u001b[0m\u001b[0;34m\u001b[0m\u001b[0m\n",
      "\u001b[0m\u001b[0;32m      9 \u001b[0;31m\u001b[0;34m\u001b[0m\u001b[0m\n",
      "\u001b[0m\u001b[0;32m---> 10 \u001b[0;31m\u001b[0;32mimport\u001b[0m \u001b[0mpdb\u001b[0m\u001b[0;34m;\u001b[0m \u001b[0mpdb\u001b[0m\u001b[0;34m.\u001b[0m\u001b[0mset_trace\u001b[0m\u001b[0;34m(\u001b[0m\u001b[0;34m)\u001b[0m\u001b[0;34m\u001b[0m\u001b[0;34m\u001b[0m\u001b[0m\n",
      "\u001b[0m\u001b[0;32m     11 \u001b[0;31m\u001b[0;32massert\u001b[0m \u001b[0msys\u001b[0m\u001b[0;34m.\u001b[0m\u001b[0mgetrefcount\u001b[0m\u001b[0;34m(\u001b[0m\u001b[0mframe\u001b[0m\u001b[0;34m)\u001b[0m \u001b[0;34m==\u001b[0m \u001b[0;36m3\u001b[0m\u001b[0;34m\u001b[0m\u001b[0;34m\u001b[0m\u001b[0m\n",
      "\u001b[0m\u001b[0;32m     12 \u001b[0;31m\u001b[0;32mdel\u001b[0m \u001b[0mexc_info\u001b[0m\u001b[0;34m\u001b[0m\u001b[0;34m\u001b[0m\u001b[0m\n",
      "\u001b[0m\n"
     ]
    },
    {
     "name": "stdin",
     "output_type": "stream",
     "text": [
      "ipdb>  a'a'a\n"
     ]
    },
    {
     "name": "stdout",
     "output_type": "stream",
     "text": [
      "--KeyboardInterrupt--\n",
      "\n",
      "KeyboardInterrupt: Interrupted by user\n"
     ]
    },
    {
     "ename": "AssertionError",
     "evalue": "",
     "output_type": "error",
     "traceback": [
      "\u001b[0;31m---------------------------------------------------------------------------\u001b[0m",
      "\u001b[0;31mAssertionError\u001b[0m                            Traceback (most recent call last)",
      "Cell \u001b[0;32mIn[19], line 13\u001b[0m\n\u001b[1;32m     11\u001b[0m \u001b[38;5;28;01massert\u001b[39;00m sys\u001b[38;5;241m.\u001b[39mgetrefcount(frame) \u001b[38;5;241m==\u001b[39m \u001b[38;5;241m3\u001b[39m\n\u001b[1;32m     12\u001b[0m \u001b[38;5;28;01mdel\u001b[39;00m exc_info\n\u001b[0;32m---> 13\u001b[0m \u001b[38;5;28;01massert\u001b[39;00m sys\u001b[38;5;241m.\u001b[39mgetrefcount(frame) \u001b[38;5;241m==\u001b[39m \u001b[38;5;241m3\u001b[39m\n",
      "\u001b[0;31mAssertionError\u001b[0m: "
     ]
    }
   ],
   "source": [
    "import sys\n",
    "\n",
    "\n",
    "try:\n",
    "    raise Exception(\"Something went wrong.\")\n",
    "except Exception as e:\n",
    "    exc_info = sys.exc_info()\n",
    "    frame = exc_info[2].tb_frame  # create a third reference\n",
    "\n",
    "import pdb; pdb.set_trace()\n",
    "assert sys.getrefcount(frame) == 3\n",
    "del exc_info\n",
    "assert sys.getrefcount(frame) == 3\n"
   ]
  },
  {
   "cell_type": "code",
   "execution_count": null,
   "metadata": {},
   "outputs": [],
   "source": [
    "#include \"stdlib.h\"\n",
    "\n",
    "float* array = (float*) malloc(100 * sizeof(float)); \n"
   ]
  },
  {
   "cell_type": "code",
   "execution_count": 21,
   "metadata": {},
   "outputs": [],
   "source": [
    "import numpy as np\n",
    "\n",
    "groups_waiting_for_a_table = np.ndarray(\n",
    "    (3, 0), buffer=np.array([4, 7, 21], dtype=np.uint8), dtype=np.uint8\n",
    ")\n"
   ]
  },
  {
   "cell_type": "code",
   "execution_count": 23,
   "metadata": {},
   "outputs": [],
   "source": [
    "import pandas as pd\n",
    "\n",
    "produce = pd.Series([\"apple\", \"banana\", \"carrot\", \"apple\"], dtype=\"category\")"
   ]
  },
  {
   "cell_type": "code",
   "execution_count": 25,
   "metadata": {},
   "outputs": [
    {
     "data": {
      "text/html": [
       "<div>\n",
       "<style scoped>\n",
       "    .dataframe tbody tr th:only-of-type {\n",
       "        vertical-align: middle;\n",
       "    }\n",
       "\n",
       "    .dataframe tbody tr th {\n",
       "        vertical-align: top;\n",
       "    }\n",
       "\n",
       "    .dataframe thead th {\n",
       "        text-align: right;\n",
       "    }\n",
       "</style>\n",
       "<table border=\"1\" class=\"dataframe\">\n",
       "  <thead>\n",
       "    <tr style=\"text-align: right;\">\n",
       "      <th></th>\n",
       "      <th>score</th>\n",
       "    </tr>\n",
       "  </thead>\n",
       "  <tbody>\n",
       "    <tr>\n",
       "      <th>0</th>\n",
       "      <td>B</td>\n",
       "    </tr>\n",
       "    <tr>\n",
       "      <th>1</th>\n",
       "      <td>C</td>\n",
       "    </tr>\n",
       "    <tr>\n",
       "      <th>2</th>\n",
       "      <td>C</td>\n",
       "    </tr>\n",
       "    <tr>\n",
       "      <th>3</th>\n",
       "      <td>F</td>\n",
       "    </tr>\n",
       "    <tr>\n",
       "      <th>4</th>\n",
       "      <td>F</td>\n",
       "    </tr>\n",
       "    <tr>\n",
       "      <th>5</th>\n",
       "      <td>A</td>\n",
       "    </tr>\n",
       "    <tr>\n",
       "      <th>6</th>\n",
       "      <td>A</td>\n",
       "    </tr>\n",
       "    <tr>\n",
       "      <th>7</th>\n",
       "      <td>C</td>\n",
       "    </tr>\n",
       "  </tbody>\n",
       "</table>\n",
       "</div>"
      ],
      "text/plain": [
       "  score\n",
       "0     B\n",
       "1     C\n",
       "2     C\n",
       "3     F\n",
       "4     F\n",
       "5     A\n",
       "6     A\n",
       "7     C"
      ]
     },
     "execution_count": 25,
     "metadata": {},
     "output_type": "execute_result"
    }
   ],
   "source": [
    "import pandas as pd\n",
    "\n",
    "\n",
    "def grade(values):\n",
    "    if 70 <= values[\"score\"] < 80:\n",
    "        values[\"score\"] = \"C\"\n",
    "    elif 80 <= values[\"score\"] < 90:\n",
    "        values[\"score\"] = \"B\"\n",
    "    elif 90 <= values[\"score\"]:\n",
    "        values[\"score\"] = \"A\"\n",
    "    else:\n",
    "        values[\"score\"] = \"F\"\n",
    "    return values\n",
    "\n",
    "\n",
    "scores = pd.DataFrame({\"score\": [89, 70, 71, 65, 30, 93, 100, 75]})\n",
    "scores.apply(grade, axis=1)\n"
   ]
  },
  {
   "cell_type": "code",
   "execution_count": 27,
   "metadata": {},
   "outputs": [
    {
     "name": "stdout",
     "output_type": "stream",
     "text": [
      "  restaurant location   date  score\n",
      "0      Diner   (4, 2)  02/18     90\n",
      "1      Diner   (4, 2)  05/18    100\n",
      "2     Pandas   (5, 4)  04/18     55\n",
      "3     Pandas   (5, 4)  01/18     60\n"
     ]
    }
   ],
   "source": [
    "import pandas as pd\n",
    "\n",
    "restaurant_inspections = pd.DataFrame(\n",
    "    {\n",
    "        \"restaurant\": [\"Diner\", \"Diner\", \"Pandas\", \"Pandas\"],\n",
    "        \"location\": [(4, 2), (4, 2), (5, 4), (5, 4)],\n",
    "        \"date\": [\"02/18\", \"05/18\", \"04/18\", \"01/18\"],\n",
    "        \"score\": [90, 100, 55, 60],\n",
    "    }\n",
    ")\n",
    "\n",
    "print(restaurant_inspections)\n"
   ]
  },
  {
   "cell_type": "code",
   "execution_count": 29,
   "metadata": {},
   "outputs": [
    {
     "name": "stdout",
     "output_type": "stream",
     "text": [
      "                      date  score\n",
      "restaurant location              \n",
      "Diner      (4, 2)    02/18     90\n",
      "           (4, 2)    05/18    100\n",
      "Pandas     (5, 4)    04/18     55\n",
      "           (5, 4)    01/18     76\n"
     ]
    }
   ],
   "source": [
    "import pandas as pd\n",
    "\n",
    "restaurants = pd.MultiIndex.from_tuples(\n",
    "    ((\"Diner\", (4, 2)), (\"Diner\", (4, 2)), (\"Pandas\", (5, 4)), (\"Pandas\", (5, 4))),\n",
    "    names=[\"restaurant\", \"location\"],\n",
    ")\n",
    "\n",
    "restaurant_inspections = pd.DataFrame(\n",
    "    {\"date\": [\"02/18\", \"05/18\", \"04/18\", \"01/18\"], \"score\": [90, 100, 55, 76]},\n",
    "    index=restaurants,\n",
    ")\n",
    "\n",
    "print(restaurant_inspections)\n"
   ]
  },
  {
   "cell_type": "code",
   "execution_count": 31,
   "metadata": {},
   "outputs": [
    {
     "name": "stdout",
     "output_type": "stream",
     "text": [
      "inspection              0            1       \n",
      "                    score   date score   date\n",
      "restaurant location                          \n",
      "Diner      (4, 2)      90  02/18   100  05/18\n",
      "Pandas     (5, 4)      55  04/18    76  01/18\n"
     ]
    }
   ],
   "source": [
    "import pandas as pd\n",
    "\n",
    "restaurants = pd.MultiIndex.from_tuples(\n",
    "    ((\"Diner\", (4, 2)), (\"Pandas\", (5, 4))),\n",
    "    names=[\"restaurant\", \"location\"],\n",
    ")\n",
    "\n",
    "inspections = pd.MultiIndex.from_tuples(\n",
    "\n",
    "    (\n",
    "        (0, \"score\"),\n",
    "        (0, \"date\"),\n",
    "        (1, \"score\"),\n",
    "        (1, \"date\"),\n",
    "    ),\n",
    "    names=[\"inspection\", None],\n",
    ")\n",
    "\n",
    "restaurant_inspections = pd.DataFrame(\n",
    "    [[90, \"02/18\", 100, \"05/18\"], [55, \"04/18\", 76, \"01/18\"]], index=restaurants, columns=inspections\n",
    ")\n",
    "\n",
    "print(restaurant_inspections)\n"
   ]
  },
  {
   "cell_type": "code",
   "execution_count": 33,
   "metadata": {},
   "outputs": [
    {
     "name": "stdout",
     "output_type": "stream",
     "text": [
      "  restaurant location   date  score\n",
      "0      Diner   (4, 2)  02/18     90\n",
      "1      Diner   (4, 2)  05/18    100\n",
      "2     Pandas   (5, 4)  02/18     55\n",
      "3     Pandas   (5, 4)  05/18     60\n",
      "  restaurant location  total\n",
      "0      Diner   (4, 2)      2\n",
      "1     Pandas   (5, 4)      2\n",
      "  restaurant location   date  score  total\n",
      "0      Diner   (4, 2)  02/18     90      2\n",
      "1      Diner   (4, 2)  05/18    100      2\n",
      "2     Pandas   (5, 4)  02/18     55      2\n",
      "3     Pandas   (5, 4)  05/18     60      2\n"
     ]
    }
   ],
   "source": [
    "import pandas as pd\n",
    "\n",
    "restaurant_inspections = pd.DataFrame(\n",
    "    {\n",
    "        \"restaurant\": [\"Diner\", \"Diner\", \"Pandas\", \"Pandas\"],\n",
    "        \"location\": [(4, 2), (4, 2), (5, 4), (5, 4)],\n",
    "        \"date\": [\"02/18\", \"05/18\", \"02/18\", \"05/18\"],\n",
    "        \"score\": [90, 100, 55, 60],\n",
    "    }\n",
    ")\n",
    "print(restaurant_inspections)\n",
    "\n",
    "total_inspections = restaurant_inspections.groupby(\n",
    "    [\"restaurant\", \"location\"], as_index=False\n",
    ")[\"score\"].count()\n",
    "\n",
    "total_inspections.rename(columns={\"score\": \"total\"}, inplace=True)\n",
    "print(total_inspections)\n",
    "restaurant_inspections = pd.merge(\n",
    "    restaurant_inspections, total_inspections, how=\"outer\"\n",
    ")\n",
    "print(restaurant_inspections)\n"
   ]
  },
  {
   "cell_type": "code",
   "execution_count": 46,
   "metadata": {},
   "outputs": [
    {
     "name": "stdout",
     "output_type": "stream",
     "text": [
      "                      date  score\n",
      "restaurant location              \n",
      "Diner      (4, 2)    02/18     90\n",
      "           (4, 2)    05/18    100\n",
      "Pandas     (5, 4)    02/18     55\n",
      "           (5, 4)    05/18     76\n",
      "                            date  score\n",
      "restaurant location total              \n",
      "Diner      (4, 2)   2      02/18     90\n",
      "                    2      05/18    100\n",
      "Pandas     (5, 4)   2      02/18     55\n",
      "                    2      05/18     76\n"
     ]
    }
   ],
   "source": [
    "import pandas as pd\n",
    "\n",
    "restaurants = pd.MultiIndex.from_tuples(\n",
    "    ((\"Diner\", (4, 2)), (\"Diner\", (4, 2)), (\"Pandas\", (5, 4)), (\"Pandas\", (5, 4))),\n",
    "    names=[\"restaurant\", \"location\"],\n",
    ")\n",
    "\n",
    "restaurant_inspections = pd.DataFrame(\n",
    "    {\"date\": [\"02/18\", \"05/18\", \"02/18\", \"05/18\"], \"score\": [90, 100, 55, 76]},\n",
    "    index=restaurants,\n",
    ")\n",
    "print(restaurant_inspections)\n",
    "\n",
    "restaurant_inspections[\"total\"] = (\n",
    "    restaurant_inspections[\"score\"].groupby([\"restaurant\", \"location\"]).count()\n",
    ")\n",
    "\n",
    "restaurant_inspections.set_index([\"total\"], append=True, inplace=True)\n",
    "print(restaurant_inspections)\n"
   ]
  },
  {
   "cell_type": "code",
   "execution_count": 44,
   "metadata": {},
   "outputs": [
    {
     "name": "stdout",
     "output_type": "stream",
     "text": [
      "                     02/18  05/18\n",
      "restaurant location              \n",
      "Diner      (4, 2)       90    100\n",
      "Pandas     (5, 4)       55     76\n",
      "                           02/18  05/18\n",
      "restaurant location total              \n",
      "Diner      (4, 2)   2         90    100\n",
      "Pandas     (5, 4)   2         55     76\n"
     ]
    }
   ],
   "source": [
    "import pandas as pd\n",
    "\n",
    "restaurants = pd.MultiIndex.from_tuples(\n",
    "    ((\"Diner\", (4, 2)), (\"Pandas\", (5, 4))),\n",
    "    names=[\"restaurant\", \"location\"],\n",
    ")\n",
    "\n",
    "restaurant_inspections = pd.DataFrame(\n",
    "    {\"02/18\": [90, 55], \"05/18\": [100, 76]}, index=restaurants\n",
    ")\n",
    "print(restaurant_inspections)\n",
    "\n",
    "restaurant_inspections[\"total\"] = restaurant_inspections.count(axis=1)\n",
    "\n",
    "restaurant_inspections.set_index([\"total\"], append=True, inplace=True)\n",
    "print(restaurant_inspections)\n"
   ]
  },
  {
   "cell_type": "code",
   "execution_count": 42,
   "metadata": {},
   "outputs": [
    {
     "name": "stdout",
     "output_type": "stream",
     "text": [
      "inspection              0            1       \n",
      "data                score   date score   date\n",
      "restaurant location                          \n",
      "Diner      (4, 2)      90  02/18   100  05/18\n",
      "Pandas     (5, 4)      55  04/18    76  01/18\n",
      "inspection                    0            1       \n",
      "data                      score   date score   date\n",
      "restaurant location total                          \n",
      "Diner      (4, 2)   2        90  02/18   100  05/18\n",
      "Pandas     (5, 4)   2        55  04/18    76  01/18\n"
     ]
    }
   ],
   "source": [
    "##list 3-22\n",
    "import pandas as pd\n",
    "\n",
    "restaurants = pd.MultiIndex.from_tuples(\n",
    "    ((\"Diner\", (4, 2)), (\"Pandas\", (5, 4))),\n",
    "    names=[\"restaurant\", \"location\"],\n",
    ")\n",
    "\n",
    "inspections = pd.MultiIndex.from_tuples(\n",
    "    ((0, \"score\"), (0, \"date\"), (1, \"score\"), (1, \"date\")), names=[\"inspection\", \"data\"]\n",
    ")\n",
    "\n",
    "restaurant_inspections = pd.DataFrame(\n",
    "    [[90, \"02/18\", 100, \"05/18\"], [55, \"04/18\", 76, \"01/18\"]],\n",
    "    index=restaurants,\n",
    "    columns=inspections,\n",
    ")\n",
    "print(restaurant_inspections)\n",
    "\n",
    "\n",
    "total = restaurant_inspections.iloc[\n",
    "    :, restaurant_inspections.columns.get_level_values(\"data\") == \"score\"\n",
    "].count()\n",
    "\n",
    "new_index = pd.DataFrame(\n",
    "    total.values, columns=[\"total\"], index=restaurant_inspections.index\n",
    ")\n",
    "\n",
    "new_index.set_index(\"total\", append=True, inplace=True)\n",
    "\n",
    "restaurant_inspections.index = new_index.index\n",
    "print(restaurant_inspections)\n"
   ]
  },
  {
   "cell_type": "code",
   "execution_count": null,
   "metadata": {},
   "outputs": [],
   "source": []
  }
 ],
 "metadata": {
  "kernelspec": {
   "display_name": "Python 3 (ipykernel)",
   "language": "python",
   "name": "python3"
  },
  "language_info": {
   "codemirror_mode": {
    "name": "ipython",
    "version": 3
   },
   "file_extension": ".py",
   "mimetype": "text/x-python",
   "name": "python",
   "nbconvert_exporter": "python",
   "pygments_lexer": "ipython3",
   "version": "3.11.7"
  }
 },
 "nbformat": 4,
 "nbformat_minor": 4
}
