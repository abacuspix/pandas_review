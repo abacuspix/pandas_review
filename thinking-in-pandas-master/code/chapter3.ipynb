{
 "cells": [
  {
   "cell_type": "code",
   "execution_count": 1,
   "metadata": {},
   "outputs": [],
   "source": [
    "# list 3-1\n",
    "person_info = (\"Sara\", 140, 5.7)\n"
   ]
  },
  {
   "cell_type": "code",
   "execution_count": 2,
   "metadata": {},
   "outputs": [],
   "source": [
    "# list 3-2\n",
    "people = [\"Sara\", \"Sam\", \"Joe\"]"
   ]
  },
  {
   "cell_type": "code",
   "execution_count": 3,
   "metadata": {},
   "outputs": [],
   "source": [
    "# list 3-3\n",
    "word_alphabet = {\"a\": \"apple\", \"b\": \"banana\"}"
   ]
  },
  {
   "cell_type": "code",
   "execution_count": 4,
   "metadata": {},
   "outputs": [],
   "source": [
    "#list 3-4\n",
    "alphabet = {\"a\", \"b\"}"
   ]
  },
  {
   "cell_type": "code",
   "execution_count": 5,
   "metadata": {},
   "outputs": [],
   "source": [
    "#list 3-5\n",
    "str1 = \"foo\"\n",
    "str2 = \"foo\"\n",
    "assert str1 is str2"
   ]
  },
  {
   "cell_type": "code",
   "execution_count": 6,
   "metadata": {},
   "outputs": [],
   "source": [
    "# Note this must be run on the python commandline to prevent interpreter optimizations\n",
    "str1 = \"foo bar\"\n",
    "str2 = \"foo bar\"\n",
    "assert str1 is not str2\n"
   ]
  },
  {
   "cell_type": "code",
   "execution_count": 7,
   "metadata": {},
   "outputs": [],
   "source": [
    "# Note this must be run on the python commandline to prevent interpreter optimizations\n",
    "int1 = 22\n",
    "int2 = 22\n",
    "int3 = 257\n",
    "int4 = 257\n",
    "assert int1 is int2\n",
    "assert int3 is not int4"
   ]
  },
  {
   "cell_type": "code",
   "execution_count": 8,
   "metadata": {},
   "outputs": [],
   "source": [
    "ref1 = \"foo\"\n",
    "ref2 = \"foo\"\n"
   ]
  },
  {
   "cell_type": "code",
   "execution_count": 9,
   "metadata": {},
   "outputs": [],
   "source": [
    "ref1 = \"foo\"\n",
    "ref2 = \"foo\"\n",
    "\n",
    "del(ref2)  # reference count = 1 after this line executes\n",
    "del(ref1)  # reference count = 0 after this line executes\n"
   ]
  },
  {
   "cell_type": "code",
   "execution_count": null,
   "metadata": {},
   "outputs": [
    {
     "name": "stdout",
     "output_type": "stream",
     "text": [
      "--Return--\n",
      "> <ipython-input-10-90639f766a72>(10)<module>()->None\n",
      "-> import pdb; pdb.set_trace()\n"
     ]
    }
   ],
   "source": [
    "import sys\n",
    "\n",
    "\n",
    "try:\n",
    "    raise Exception(\"Something went wrong.\")\n",
    "except Exception as e:\n",
    "    exc_info = sys.exc_info()\n",
    "    frame = exc_info[2].tb_frame  # create a third reference\n",
    "\n",
    "import pdb; pdb.set_trace()\n",
    "assert sys.getrefcount(frame) == 3\n",
    "del exc_info\n",
    "assert sys.getrefcount(frame) == 3\n"
   ]
  },
  {
   "cell_type": "code",
   "execution_count": null,
   "metadata": {},
   "outputs": [],
   "source": [
    "#include \"stdlib.h\"\n",
    "\n",
    "float* array = (float*) malloc(100 * sizeof(float)); \n"
   ]
  },
  {
   "cell_type": "code",
   "execution_count": null,
   "metadata": {},
   "outputs": [],
   "source": [
    "import numpy as np\n",
    "\n",
    "groups_waiting_for_a_table = np.ndarray(\n",
    "    (3, 0), buffer=np.array([4, 7, 21], dtype=np.uint8), dtype=np.uint8\n",
    ")\n"
   ]
  },
  {
   "cell_type": "code",
   "execution_count": null,
   "metadata": {},
   "outputs": [],
   "source": [
    "import pandas as pd\n",
    "\n",
    "produce = pd.Series([\"apple\", \"banana\", \"carrot\", \"apple\"], dtype=\"category\")"
   ]
  },
  {
   "cell_type": "code",
   "execution_count": null,
   "metadata": {},
   "outputs": [],
   "source": [
    "import pandas as pd\n",
    "\n",
    "\n",
    "def grade(values):\n",
    "    if 70 <= values[\"score\"] < 80:\n",
    "        values[\"score\"] = \"C\"\n",
    "    elif 80 <= values[\"score\"] < 90:\n",
    "        values[\"score\"] = \"B\"\n",
    "    elif 90 <= values[\"score\"]:\n",
    "        values[\"score\"] = \"A\"\n",
    "    else:\n",
    "        values[\"score\"] = \"F\"\n",
    "    return values\n",
    "\n",
    "\n",
    "scores = pd.DataFrame({\"score\": [89, 70, 71, 65, 30, 93, 100, 75]})\n",
    "scores.apply(grade, axis=1)\n"
   ]
  },
  {
   "cell_type": "code",
   "execution_count": null,
   "metadata": {},
   "outputs": [],
   "source": [
    "import pandas as pd\n",
    "\n",
    "restaurant_inspections = pd.DataFrame(\n",
    "    {\n",
    "        \"restaurant\": [\"Diner\", \"Diner\", \"Pandas\", \"Pandas\"],\n",
    "        \"location\": [(4, 2), (4, 2), (5, 4), (5, 4)],\n",
    "        \"date\": [\"02/18\", \"05/18\", \"04/18\", \"01/18\"],\n",
    "        \"score\": [90, 100, 55, 60],\n",
    "    }\n",
    ")\n",
    "\n",
    "print(restaurant_inspections)\n"
   ]
  },
  {
   "cell_type": "code",
   "execution_count": null,
   "metadata": {},
   "outputs": [],
   "source": [
    "import pandas as pd\n",
    "\n",
    "restaurants = pd.MultiIndex.from_tuples(\n",
    "    ((\"Diner\", (4, 2)), (\"Diner\", (4, 2)), (\"Pandas\", (5, 4)), (\"Pandas\", (5, 4))),\n",
    "    names=[\"restaurant\", \"location\"],\n",
    ")\n",
    "\n",
    "restaurant_inspections = pd.DataFrame(\n",
    "    {\"date\": [\"02/18\", \"05/18\", \"04/18\", \"01/18\"], \"score\": [90, 100, 55, 76]},\n",
    "    index=restaurants,\n",
    ")\n",
    "\n",
    "print(restaurant_inspections)\n"
   ]
  },
  {
   "cell_type": "code",
   "execution_count": null,
   "metadata": {},
   "outputs": [],
   "source": [
    "import pandas as pd\n",
    "\n",
    "restaurants = pd.MultiIndex.from_tuples(\n",
    "    ((\"Diner\", (4, 2)), (\"Pandas\", (5, 4))),\n",
    "    names=[\"restaurant\", \"location\"],\n",
    ")\n",
    "\n",
    "inspections = pd.MultiIndex.from_tuples(\n",
    "\n",
    "    (\n",
    "        (0, \"score\"),\n",
    "        (0, \"date\"),\n",
    "        (1, \"score\"),\n",
    "        (1, \"date\"),\n",
    "    ),\n",
    "    names=[\"inspection\", None],\n",
    ")\n",
    "\n",
    "restaurant_inspections = pd.DataFrame(\n",
    "    [[90, \"02/18\", 100, \"05/18\"], [55, \"04/18\", 76, \"01/18\"]], index=restaurants, columns=inspections\n",
    ")\n",
    "\n",
    "print(restaurant_inspections)\n"
   ]
  },
  {
   "cell_type": "code",
   "execution_count": null,
   "metadata": {},
   "outputs": [],
   "source": [
    "import pandas as pd\n",
    "\n",
    "restaurant_inspections = pd.DataFrame(\n",
    "    {\n",
    "        \"restaurant\": [\"Diner\", \"Diner\", \"Pandas\", \"Pandas\"],\n",
    "        \"location\": [(4, 2), (4, 2), (5, 4), (5, 4)],\n",
    "        \"date\": [\"02/18\", \"05/18\", \"02/18\", \"05/18\"],\n",
    "        \"score\": [90, 100, 55, 60],\n",
    "    }\n",
    ")\n",
    "print(restaurant_inspections)\n",
    "\n",
    "total_inspections = restaurant_inspections.groupby(\n",
    "    [\"restaurant\", \"location\"], as_index=False\n",
    ")[\"score\"].count()\n",
    "\n",
    "total_inspections.rename(columns={\"score\": \"total\"}, inplace=True)\n",
    "print(total_inspections)\n",
    "restaurant_inspections = pd.merge(\n",
    "    restaurant_inspections, total_inspections, how=\"outer\"\n",
    ")\n",
    "print(restaurant_inspections)\n"
   ]
  },
  {
   "cell_type": "code",
   "execution_count": null,
   "metadata": {},
   "outputs": [],
   "source": [
    "import pandas as pd\n",
    "\n",
    "restaurants = pd.MultiIndex.from_tuples(\n",
    "    ((\"Diner\", (4, 2)), (\"Diner\", (4, 2)), (\"Pandas\", (5, 4)), (\"Pandas\", (5, 4))),\n",
    "    names=[\"restaurant\", \"location\"],\n",
    ")\n",
    "\n",
    "restaurant_inspections = pd.DataFrame(\n",
    "    {\"date\": [\"02/18\", \"05/18\", \"02/18\", \"05/18\"], \"score\": [90, 100, 55, 76]},\n",
    "    index=restaurants,\n",
    ")\n",
    "print(restaurant_inspections)\n",
    "\n",
    "restaurant_inspections[\"total\"] = (\n",
    "    restaurant_inspections[\"score\"].groupby([\"restaurant\", \"location\"]).count()\n",
    ")\n",
    "\n",
    "restaurant_inspections.set_index([\"total\"], append=True, inplace=True)\n",
    "print(restaurant_inspections)\n"
   ]
  },
  {
   "cell_type": "code",
   "execution_count": null,
   "metadata": {},
   "outputs": [],
   "source": [
    "import pandas as pd\n",
    "\n",
    "restaurants = pd.MultiIndex.from_tuples(\n",
    "    ((\"Diner\", (4, 2)), (\"Pandas\", (5, 4))),\n",
    "    names=[\"restaurant\", \"location\"],\n",
    ")\n",
    "\n",
    "restaurant_inspections = pd.DataFrame(\n",
    "    {\"02/18\": [90, 55], \"05/18\": [100, 76]}, index=restaurants\n",
    ")\n",
    "print(restaurant_inspections)\n",
    "\n",
    "restaurant_inspections[\"total\"] = restaurant_inspections.count(axis=1)\n",
    "\n",
    "restaurant_inspections.set_index([\"total\"], append=True, inplace=True)\n",
    "print(restaurant_inspections)\n"
   ]
  },
  {
   "cell_type": "code",
   "execution_count": null,
   "metadata": {},
   "outputs": [],
   "source": [
    "import pandas as pd\n",
    "\n",
    "restaurants = pd.MultiIndex.from_tuples(\n",
    "    ((\"Diner\", (4, 2)), (\"Pandas\", (5, 4))),\n",
    "    names=[\"restaurant\", \"location\"],\n",
    ")\n",
    "\n",
    "inspections = pd.MultiIndex.from_tuples(\n",
    "    ((0, \"score\"), (0, \"date\"), (1, \"score\"), (1, \"date\")), names=[\"inspection\", \"data\"]\n",
    ")\n",
    "\n",
    "restaurant_inspections = pd.DataFrame(\n",
    "    [[90, \"02/18\", 100, \"05/18\"], [55, \"04/18\", 76, \"01/18\"]],\n",
    "    index=restaurants,\n",
    "    columns=inspections,\n",
    ")\n",
    "print(restaurant_inspections)\n",
    "\n",
    "\n",
    "total = restaurant_inspections.iloc[\n",
    "    :, restaurant_inspections.columns.get_level_values(\"data\") == \"score\"\n",
    "].count()\n",
    "\n",
    "new_index = pd.DataFrame(\n",
    "    total.values, columns=[\"total\"], index=restaurant_inspections.index\n",
    ")\n",
    "\n",
    "new_index.set_index(\"total\", append=True, inplace=True)\n",
    "\n",
    "restaurant_inspections.index = new_index.index\n",
    "print(restaurant_inspections)\n"
   ]
  }
 ],
 "metadata": {
  "kernelspec": {
   "display_name": "Python 2",
   "language": "python",
   "name": "python2"
  },
  "language_info": {
   "codemirror_mode": {
    "name": "ipython",
    "version": 2
   },
   "file_extension": ".py",
   "mimetype": "text/x-python",
   "name": "python",
   "nbconvert_exporter": "python",
   "pygments_lexer": "ipython2",
   "version": "2.7.16"
  }
 },
 "nbformat": 4,
 "nbformat_minor": 2
}
