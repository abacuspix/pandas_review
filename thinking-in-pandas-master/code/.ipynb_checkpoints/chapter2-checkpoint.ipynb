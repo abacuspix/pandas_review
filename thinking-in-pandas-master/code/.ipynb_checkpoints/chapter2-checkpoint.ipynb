{
 "cells": [
  {
   "cell_type": "code",
   "execution_count": 1,
   "metadata": {},
   "outputs": [
    {
     "name": "stdout",
     "output_type": "stream",
     "text": [
      "0     Bob\n",
      "1    Mary\n",
      "2    Mita\n",
      "Name: name, dtype: object\n",
      "   account  balance   name\n",
      "0   123846      123  Smith\n",
      "1   123972     3972   Jane\n",
      "2   347209     7209  Patel\n"
     ]
    }
   ],
   "source": [
    "#list2-1\n",
    "import pandas as pd\n",
    "\n",
    "account_info = pd.DataFrame(\n",
    "    {\n",
    "        \"name\": [\"Bob\", \"Mary\", \"Mita\"],\n",
    "        \"account\": [123846, 123972, 347209],\n",
    "        \"balance\": [123, 3972, 7209],\n",
    "    }\n",
    ")\n",
    "\n",
    "print(account_info[\"name\"])\n",
    "\n",
    "account_info[\"name\"] = [\"Smith\", \"Jane\", \"Patel\"]\n",
    "\n",
    "print(account_info)"
   ]
  },
  {
   "cell_type": "code",
   "execution_count": 2,
   "metadata": {},
   "outputs": [
    {
     "name": "stdout",
     "output_type": "stream",
     "text": [
      "   name  balance\n",
      "0   Bob      123\n",
      "1  Mary     3972\n",
      "2  Mita     7209\n"
     ]
    }
   ],
   "source": [
    "#List 2-2\n",
    "import pandas as pd\n",
    "\n",
    "account_info = pd.DataFrame(\n",
    "    {\n",
    "        \"name\": [\"Bob\", \"Mary\", \"Mita\"],\n",
    "        \"account\": [123846, 123972, 347209],\n",
    "        \"balance\": [123, 3972, 7209],\n",
    "    }\n",
    ")\n",
    "\n",
    "print(account_info[[\"name\", \"balance\"]])\n"
   ]
  },
  {
   "cell_type": "code",
   "execution_count": 3,
   "metadata": {},
   "outputs": [
    {
     "name": "stdout",
     "output_type": "stream",
     "text": [
      "account    123972\n",
      "balance      3972\n",
      "name         Mary\n",
      "Name: 1, dtype: object\n",
      "   account  balance  name\n",
      "0   123846      123   Bob\n",
      "1   123972     3972  Mary\n",
      "   account  balance  name\n",
      "0   123846      123   Bob\n",
      "1   123972     3972  Mary\n",
      "2   347209     7209  Mita\n"
     ]
    }
   ],
   "source": [
    "#list 2-3\n",
    "import pandas as pd\n",
    "\n",
    "account_info = pd.DataFrame(\n",
    "    {\n",
    "        \"name\": [\"Bob\", \"Mary\", \"Mita\"],\n",
    "        \"account\": [123846, 123972, 347209],\n",
    "        \"balance\": [123, 3972, 7209],\n",
    "    }\n",
    ")\n",
    "\n",
    "print(account_info.iloc[1])\n",
    "print(account_info.iloc[0:2])\n",
    "print(account_info.iloc[:])\n"
   ]
  },
  {
   "cell_type": "code",
   "execution_count": 4,
   "metadata": {},
   "outputs": [
    {
     "name": "stdout",
     "output_type": "stream",
     "text": [
      "Mary\n",
      "3975\n",
      "   account  name\n",
      "0   123846   Bob\n",
      "1   123972  3975\n",
      "2   347209  Mita\n"
     ]
    }
   ],
   "source": [
    "#list 2-4\n",
    "import pandas as pd\n",
    "\n",
    "account_info = pd.DataFrame(\n",
    "    {\n",
    "        \"name\": [\"Bob\", \"Mary\", \"Mita\"],\n",
    "        \"account\": [123846, 123972, 347209],\n",
    "        \"balance\": [123, 3972, 7209],\n",
    "    }\n",
    ")\n",
    "\n",
    "print(account_info.iloc[1, 2])\n",
    "\n",
    "account_info.iloc[1, 2] = 3975\n",
    "\n",
    "print(account_info.iloc[1, 2])\n",
    "print(account_info.iloc[:, [0, 2]])\n"
   ]
  },
  {
   "cell_type": "code",
   "execution_count": 5,
   "metadata": {},
   "outputs": [
    {
     "name": "stdout",
     "output_type": "stream",
     "text": [
      "   account  balance  name\n",
      "1   123972     3972  Mary\n"
     ]
    }
   ],
   "source": [
    "#list 2-5\n",
    "import pandas as pd\n",
    "\n",
    "account_info = pd.DataFrame(\n",
    "    {\n",
    "        \"name\": [\"Bob\", \"Mary\", \"Mita\"],\n",
    "        \"account\": [123846, 123972, 347209],\n",
    "        \"balance\": [123, 3972, 7209],\n",
    "    }\n",
    ")\n",
    "\n",
    "print(account_info.iloc[account_info.index % 2 == 1])"
   ]
  },
  {
   "cell_type": "code",
   "execution_count": 6,
   "metadata": {},
   "outputs": [
    {
     "name": "stdout",
     "output_type": "stream",
     "text": [
      "inspection              0             1        \n",
      "data                score    date score    date\n",
      "restaurant location                            \n",
      "Diner      (4, 2)      90   02/18   100   05/18\n",
      "Pandas     (5, 4)      55  042/18    76  015/18\n",
      "[ True False  True False]\n",
      "inspection              0     1\n",
      "data                score score\n",
      "restaurant location            \n",
      "Diner      (4, 2)      90   100\n",
      "Pandas     (5, 4)      55    76\n"
     ]
    }
   ],
   "source": [
    "#list 2-6\n",
    "import pandas as pd\n",
    "\n",
    "restaurants = pd.MultiIndex.from_tuples(\n",
    "    ((\"Diner\", (4, 2)), (\"Pandas\", (5, 4))),\n",
    "    names=[\"restaurant\", \"location\"],\n",
    ")\n",
    "\n",
    "inspections = pd.MultiIndex.from_tuples(\n",
    "    ((0, \"score\"), (0, \"date\"), (1, \"score\"), (1, \"date\")), names=[\"inspection\", \"data\"]\n",
    ")\n",
    "\n",
    "restaurant_inspections = pd.DataFrame(\n",
    "    [[90, \"02/18\", 100, \"05/18\"], [55, \"042/18\", 76, \"015/18\"]],\n",
    "    index=restaurants,\n",
    "    columns=inspections,\n",
    ")\n",
    "\n",
    "print(restaurant_inspections)\n",
    "\n",
    "score_columns = restaurant_inspections.columns.get_level_values(\"data\") == \"score\"\n",
    "\n",
    "print(score_columns)\n",
    "\n",
    "print(restaurant_inspections.iloc[:, score_columns])\n"
   ]
  },
  {
   "cell_type": "code",
   "execution_count": 7,
   "metadata": {},
   "outputs": [
    {
     "name": "stdout",
     "output_type": "stream",
     "text": [
      "3972\n",
      "   name  balance\n",
      "0   Bob      123\n",
      "1  Mary     3972\n",
      "2  Mita     7209\n"
     ]
    }
   ],
   "source": [
    "#list 2-7\n",
    "import pandas as pd\n",
    "\n",
    "account_info = pd.DataFrame(\n",
    "    {\n",
    "        \"name\": [\"Bob\", \"Mary\", \"Mita\"],\n",
    "        \"account\": [123846, 123972, 347209],\n",
    "        \"balance\": [123, 3972, 7209],\n",
    "    }\n",
    ")\n",
    "\n",
    "print(account_info.loc[1, \"balance\"])\n",
    "\n",
    "print(account_info.loc[:, [\"name\", \"balance\"]])\n"
   ]
  },
  {
   "cell_type": "code",
   "execution_count": 8,
   "metadata": {},
   "outputs": [
    {
     "name": "stdout",
     "output_type": "stream",
     "text": [
      "account             0                 1        \n",
      "account_info   number balance    number balance\n",
      "name username                                  \n",
      "Bob  smithb    123846     123  123847.0   450.0\n",
      "Mary mj100     123972    3972  123973.0   222.0\n",
      "Mita patelm    347209    7209       NaN     NaN\n",
      "account  account_info\n",
      "0        balance         3972.0\n",
      "1        balance          222.0\n",
      "Name: (Mary, mj100), dtype: float64\n"
     ]
    }
   ],
   "source": [
    "#list 2-8\n",
    "import pandas as pd\n",
    "import numpy as np\n",
    "\n",
    "\n",
    "customers = pd.MultiIndex.from_tuples(\n",
    "    ((\"Bob\", \"smithb\"), (\"Mary\", \"mj100\"), (\"Mita\", \"patelm\")),\n",
    "    names=[\"name\", \"username\"],\n",
    ")\n",
    "\n",
    "accounts = pd.MultiIndex.from_tuples(\n",
    "    ((0, \"number\"), (0, \"balance\"), (1, \"number\"), (1, \"balance\")), names=[\"account\", \"account_info\"]\n",
    ")\n",
    "\n",
    "account_info = pd.DataFrame(\n",
    "    [[123846, 123, 123847, 450], [123972, 3972, 123973, 222], [347209, 7209, np.nan, np.nan]],\n",
    "    index=customers,\n",
    "    columns=accounts,\n",
    ")\n",
    "\n",
    "print(account_info)\n",
    "\n",
    "print(account_info.loc[(\"Mary\", \"mj100\"), pd.IndexSlice[:, \"balance\"]])\n"
   ]
  },
  {
   "cell_type": "code",
   "execution_count": 9,
   "metadata": {},
   "outputs": [
    {
     "name": "stderr",
     "output_type": "stream",
     "text": [
      "d:\\ProgramData\\Anaconda2\\lib\\site-packages\\ipykernel_launcher.py:35: SettingWithCopyWarning: \n",
      "A value is trying to be set on a copy of a slice from a DataFrame.\n",
      "Try using .loc[row_indexer,col_indexer] = value instead\n",
      "\n",
      "See the caveats in the documentation: http://pandas.pydata.org/pandas-docs/stable/indexing.html#indexing-view-versus-copy\n"
     ]
    }
   ],
   "source": [
    "#list 2-9\n",
    "import pandas as pd\n",
    "import numpy as np\n",
    "\n",
    "\n",
    "customers = pd.MultiIndex.from_tuples(\n",
    "    ((\"Bob\", \"smithb\"), (\"Mary\", \"mj100\"), (\"Mita\", \"patelm\")),\n",
    "    names=[\"name\", \"username\"],\n",
    ")\n",
    "\n",
    "accounts = pd.MultiIndex.from_tuples(\n",
    "    ((0, \"number\"), (0, \"balance\"), (1, \"number\"), (1, \"balance\")), names=[\"account\", \"account_info\"]\n",
    ")\n",
    "\n",
    "account_info = pd.DataFrame(\n",
    "    [[123846, 123, 123847, 450], [123972, 3972, 123973, 222], [347209, 7209, np.nan, np.nan]],\n",
    "    index=customers,\n",
    "    columns=accounts,\n",
    ")\n",
    "NEW_BALANCE = 0\n",
    "\n",
    "# The code below is equivalent to:\n",
    "\n",
    "# account_info.__setitem__(\n",
    "\n",
    "# (slice(None), (0, 'balance')), NEW_BALANCE)\n",
    "\n",
    "account_info.loc[:, (0, \"balance\")] = NEW_BALANCE\n",
    "\n",
    "\n",
    "# The code below is equivalent to:\n",
    "\n",
    "# account_info.__getitem__(0).__setitem__('balance', NEW_BALANCE)\n",
    "\n",
    "account_info[0][\"balance\"] = NEW_BALANCE\n"
   ]
  },
  {
   "cell_type": "code",
   "execution_count": 10,
   "metadata": {},
   "outputs": [
    {
     "name": "stdout",
     "output_type": "stream",
     "text": [
      "                established\n",
      "building                   \n",
      "Grande Hotel           1830\n",
      "Jone’s Farm            1842\n",
      "Public Library         1836\n",
      "Marietta House         1823\n",
      "                    established\n",
      "building                       \n",
      "Sam’s Bakery               1962\n",
      "Grande Hotel               1830\n",
      "Public Library             1836\n",
      "Mayberry’s Factory         1924\n",
      "                established\n",
      "building                   \n",
      "Grande Hotel           1830\n",
      "Public Library         1836\n"
     ]
    }
   ],
   "source": [
    "#list 2-10\n",
    "import pandas as pd\n",
    "\n",
    "\n",
    "building_records_1844 = pd.DataFrame(\n",
    "    [[\"Grande Hotel\", 1830],\n",
    "    [\"Jone’s Farm\", 1842],\n",
    "    [\"Public Library\", 1836],\n",
    "    [\"Marietta House\", 1823]],\n",
    "    columns=[\"building\", \"established\"],\n",
    ").set_index([\"building\"])\n",
    "\n",
    "building_records_2020 = pd.DataFrame(\n",
    "    [[\"Sam’s Bakery\", 1962],\n",
    "    [\"Grande Hotel\", 1830],\n",
    "    [\"Public Library\", 1836],\n",
    "    [\"Mayberry’s Factory\", 1924]],\n",
    "    columns=[\"building\", \"established\"],\n",
    ").set_index([\"building\"])\n",
    "\n",
    "print(building_records_1844)\n",
    "\n",
    "print(building_records_2020)\n",
    "cols = building_records_2020.columns.difference(building_records_1844.columns)\n",
    "print(\n",
    "    pd.merge(building_records_1844, building_records_2020[cols], how=\"inner\", on=[\"building\"])\n",
    ")\n"
   ]
  },
  {
   "cell_type": "code",
   "execution_count": 11,
   "metadata": {},
   "outputs": [
    {
     "name": "stdout",
     "output_type": "stream",
     "text": [
      "       FC1    P1\n",
      "id              \n",
      "Myc      2  0.05\n",
      "BRCA1    3  0.01\n",
      "BRCA2    8  0.02\n",
      "        FC2    P2\n",
      "id               \n",
      "Myc       2  0.05\n",
      "BRCA1     3  0.01\n",
      "Notch1    2  0.03\n",
      "BRCA2     8  0.02\n",
      "        FC1    P1  FC2    P2\n",
      "id                          \n",
      "Myc     2.0  0.05    2  0.05\n",
      "BRCA1   3.0  0.01    3  0.01\n",
      "BRCA2   8.0  0.02    8  0.02\n",
      "Notch1  NaN   NaN    2  0.03\n"
     ]
    }
   ],
   "source": [
    "#2-11\n",
    "import pandas as pd\n",
    "\n",
    "\n",
    "gene_group1 = pd.DataFrame(\n",
    "    [[\"Myc\", 2, 0.05],\n",
    "    [\"BRCA1\", 3, 0.01],\n",
    "    [\"BRCA2\", 8, 0.02]],\n",
    "    columns=[\"id\", \"FC1\", \"P1\"],\n",
    ").set_index([\"id\"])\n",
    "\n",
    "gene_group2 = pd.DataFrame(\n",
    "    [[\"Myc\", 2, 0.05],\n",
    "    [\"BRCA1\", 3, 0.01],\n",
    "    [\"Notch1\", 2, 0.03],\n",
    "    [\"BRCA2\", 8, 0.02]],\n",
    "    columns=[\"id\", \"FC2\", \"P2\"],\n",
    ").set_index([\"id\"])\n",
    "\n",
    "print(gene_group1)\n",
    "\n",
    "print(gene_group2)\n",
    "\n",
    "print(pd.merge(gene_group1, gene_group2, how=\"outer\", on=[\"id\"]))"
   ]
  },
  {
   "cell_type": "code",
   "execution_count": 12,
   "metadata": {},
   "outputs": [
    {
     "name": "stdout",
     "output_type": "stream",
     "text": [
      "         building  established\n",
      "0    Grande Hotel         1832\n",
      "1     Jone’s Farm         1842\n",
      "2  Public Library         1836\n",
      "3  Marietta House         1823\n",
      "             building  established\n",
      "0        Sam’s Bakery         1962\n",
      "1        Grande Hotel         1830\n",
      "2      Public Library         1836\n",
      "3  Mayberry’s Factory         1924\n",
      "             building  established_2000  established\n",
      "0        Sam’s Bakery              1962          NaN\n",
      "1        Grande Hotel              1830       1832.0\n",
      "2      Public Library              1836       1836.0\n",
      "3  Mayberry’s Factory              1924          NaN\n",
      "             building  established\n",
      "0        Sam’s Bakery       1962.0\n",
      "1        Grande Hotel       1832.0\n",
      "2      Public Library       1836.0\n",
      "3  Mayberry’s Factory       1924.0\n"
     ]
    }
   ],
   "source": [
    "#2-12\n",
    "import pandas as pd\n",
    "\n",
    "\n",
    "building_records_1844 = pd.DataFrame(\n",
    "    [[\"Grande Hotel\", 1832],\n",
    "    [\"Jone’s Farm\", 1842],\n",
    "    [\"Public Library\", 1836],\n",
    "    [\"Marietta House\", 1823]],\n",
    "    columns=[\"building\", \"established\"],\n",
    ")\n",
    "\n",
    "building_records_2020 = pd.DataFrame(\n",
    "    [[\"Sam’s Bakery\", 1962],\n",
    "    [\"Grande Hotel\", 1830],\n",
    "    [\"Public Library\", 1836],\n",
    "    [\"Mayberry’s Factory\", 1924]],\n",
    "    columns=[\"building\", \"established\"],\n",
    ")\n",
    "\n",
    "\n",
    "print(building_records_1844)\n",
    "\n",
    "print(building_records_2020)\n",
    "\n",
    "merged_records = pd.merge(\n",
    "    building_records_2020,\n",
    "    building_records_1844,\n",
    "    how=\"left\",\n",
    "    right_on=\"building\",\n",
    "    left_on=\"building\",\n",
    "    suffixes=(\"_2000\", \"\"),\n",
    ")\n",
    "\n",
    "print(merged_records)\n",
    "\n",
    "merged_records[\"established\"].fillna(merged_records[\"established_2000\"], inplace=True)\n",
    "\n",
    "del merged_records[\"established_2000\"]\n",
    "\n",
    "print(merged_records)\n"
   ]
  },
  {
   "cell_type": "code",
   "execution_count": 13,
   "metadata": {},
   "outputs": [
    {
     "name": "stdout",
     "output_type": "stream",
     "text": [
      "              name\n",
      "patient           \n",
      "230858        John\n",
      "237340         May\n",
      "240932   Catherine\n",
      "124093       Ahmed\n",
      "              name\n",
      "patient           \n",
      "210858         Abi\n",
      "237340         May\n",
      "240932   Catherine\n",
      "154093       Julia\n",
      "              name      _merge\n",
      "patient                       \n",
      "124093       Ahmed   left_only\n",
      "154093       Julia  right_only\n",
      "210858         Abi  right_only\n",
      "230858        John   left_only\n",
      "237340         May        both\n",
      "240932   Catherine        both\n",
      "          name\n",
      "patient       \n",
      "124093   Ahmed\n",
      "154093   Julia\n",
      "210858     Abi\n",
      "230858    John\n"
     ]
    }
   ],
   "source": [
    "#2-13\n",
    "import pandas as pd\n",
    "\n",
    "\n",
    "trial_a_records = pd.DataFrame(\n",
    "    [[230858, \"John\"],\n",
    "    [237340, \"May\"],\n",
    "    [240932, \"Catherine\"],\n",
    "    [124093, \"Ahmed\"]],\n",
    "    columns=[\"patient\", \"name\"],\n",
    ").set_index(\"patient\")\n",
    "\n",
    "trial_b_records = pd.DataFrame(\n",
    "    [[210858, \"Abi\"],\n",
    "    [237340, \"May\"],\n",
    "    [240932, \"Catherine\"],\n",
    "    [154093, \"Julia\"]],\n",
    "    columns=[\"patient\", \"name\"],\n",
    ").set_index(\"patient\")\n",
    "\n",
    "print(trial_a_records)\n",
    "\n",
    "print(trial_b_records)\n",
    "\n",
    "\n",
    "both_trials = pd.merge(trial_a_records, trial_b_records, how=\"outer\", right_index=True, left_index=True, indicator=True, on=\"name\")\n",
    "print(both_trials)\n",
    "\n",
    "\n",
    "print(both_trials.query('_merge != \"both\"').drop(\"_merge\", 1))\n",
    "\n",
    "\n",
    "both_trials = (\n",
    "    pd.merge(trial_a_records, trial_b_records, how=\"outer\", right_index=True, left_index=True, indicator=True, on=\"name\")\n",
    "    .query('_merge != \"both\"')\n",
    "    .drop(\"_merge\", 1)\n",
    ")\n"
   ]
  },
  {
   "cell_type": "code",
   "execution_count": 14,
   "metadata": {},
   "outputs": [
    {
     "name": "stdout",
     "output_type": "stream",
     "text": [
      "                established\n",
      "building                   \n",
      "Grande Hotel           1831\n",
      "Jone’s Farm            1842\n",
      "Public Library         1836\n",
      "Marietta House         1823\n",
      "                    established\n",
      "building                       \n",
      "Sam’s Bakery               1962\n",
      "Grande Hotel               1830\n",
      "Public Library             1835\n",
      "Mayberry’s Factory         1924\n",
      "                established  established_2000\n",
      "building                                     \n",
      "Grande Hotel           1831              1830\n",
      "Public Library         1836              1835\n"
     ]
    }
   ],
   "source": [
    "#2-14\n",
    "import pandas as pd\n",
    "\n",
    "\n",
    "building_records_1844 = pd.DataFrame(\n",
    "    [[\"Grande Hotel\", 1831],\n",
    "    [\"Jone’s Farm\", 1842],\n",
    "    [\"Public Library\", 1836],\n",
    "    [\"Marietta House\", 1823]],\n",
    "    columns=[\"building\", \"established\"],\n",
    ").set_index(\"building\")\n",
    "\n",
    "building_records_2020 = pd.DataFrame(\n",
    "    [[\"Sam’s Bakery\", 1962],\n",
    "    [\"Grande Hotel\", 1830],\n",
    "    [\"Public Library\", 1835],\n",
    "    [\"Mayberry’s Factory\", 1924]],\n",
    "    columns=[\"building\", \"established\"],\n",
    ").set_index(\"building\")\n",
    "\n",
    "print(building_records_1844)\n",
    "\n",
    "print(building_records_2020)\n",
    "\n",
    "print(building_records_1844.join(building_records_2020, how=\"inner\", rsuffix=\"_2000\"))\n"
   ]
  },
  {
   "cell_type": "code",
   "execution_count": 15,
   "metadata": {},
   "outputs": [
    {
     "name": "stdout",
     "output_type": "stream",
     "text": [
      "          temp\n",
      "location      \n",
      "(4, 5)    35.6\n",
      "(1, 2)    37.4\n",
      "(6, 4)    36.3\n",
      "(1, 7)    40.2\n",
      "          temp\n",
      "location      \n",
      "(6, 4)    34.2\n",
      "(0, 4)    33.7\n",
      "(3, 8)    38.1\n",
      "(1, 5)    37.0\n",
      "          temp\n",
      "location      \n",
      "(4, 5)    35.6\n",
      "(1, 2)    37.4\n",
      "(6, 4)    36.3\n",
      "(1, 7)    40.2\n",
      "(6, 4)    34.2\n",
      "(0, 4)    33.7\n",
      "(3, 8)    38.1\n",
      "(1, 5)    37.0\n"
     ]
    }
   ],
   "source": [
    "#2-15\n",
    "import pandas as pd\n",
    "\n",
    "\n",
    "temp_county_a = pd.DataFrame(\n",
    "    [[(4,5), 35.6],\n",
    "    [(1,2), 37.4],\n",
    "    [(6,4), 36.3],\n",
    "    [(1,7), 40.2]],\n",
    "    columns=[\"location\", \"temp\"],\n",
    ").set_index([\"location\"])\n",
    "\n",
    "temp_county_b = pd.DataFrame(\n",
    "    [[(6,4), 34.2],\n",
    "    [(0,4), 33.7],\n",
    "    [(3,8), 38.1],\n",
    "    [(1,5), 37.0]],\n",
    "    columns=[\"location\", \"temp\"],\n",
    ").set_index([\"location\"])\n",
    "\n",
    "\n",
    "print(temp_county_a)\n",
    "\n",
    "print(temp_county_b)\n",
    "\n",
    "print(pd.concat([temp_county_a, temp_county_b]))"
   ]
  },
  {
   "cell_type": "code",
   "execution_count": 16,
   "metadata": {},
   "outputs": [
    {
     "name": "stdout",
     "output_type": "stream",
     "text": [
      "          temp\n",
      "location      \n",
      "(4, 5)    35.6\n",
      "(1, 2)    37.4\n",
      "(6, 4)    36.3\n",
      "(1, 7)    40.2\n",
      "          temp\n",
      "location      \n",
      "(4, 5)    34.2\n",
      "(1, 2)    36.7\n",
      "(6, 4)    37.1\n",
      "(1, 7)    39.0\n",
      "         device_a device_b\n",
      "             temp     temp\n",
      "location                  \n",
      "(4, 5)       35.6     34.2\n",
      "(1, 2)       37.4     36.7\n",
      "(6, 4)       36.3     37.1\n",
      "(1, 7)       40.2     39.0\n"
     ]
    }
   ],
   "source": [
    "#2-16\n",
    "import pandas as pd\n",
    "\n",
    "\n",
    "temp_device_a = pd.DataFrame(\n",
    "    [[(4,5), 35.6],\n",
    "    [(1,2), 37.4],\n",
    "    [(6,4), 36.3],\n",
    "    [(1,7), 40.2]],\n",
    "    columns=[\"location\", \"temp\"],\n",
    ").set_index([\"location\"])\n",
    "\n",
    "temp_device_b = pd.DataFrame(\n",
    "    [[(4,5), 34.2],\n",
    "    [(1,2), 36.7],\n",
    "    [(6,4), 37.1],\n",
    "    [(1,7), 39.0]],\n",
    "    columns=[\"location\", \"temp\"],\n",
    ").set_index([\"location\"])\n",
    "\n",
    "\n",
    "print(temp_device_a)\n",
    "\n",
    "print(temp_device_b)\n",
    "\n",
    "print(pd.concat([temp_device_a, temp_device_b], keys=[\"device_a\", \"device_b\"], axis=1))\n"
   ]
  },
  {
   "cell_type": "code",
   "execution_count": null,
   "metadata": {},
   "outputs": [],
   "source": []
  }
 ],
 "metadata": {
  "kernelspec": {
   "display_name": "Python 2",
   "language": "python",
   "name": "python2"
  },
  "language_info": {
   "codemirror_mode": {
    "name": "ipython",
    "version": 2
   },
   "file_extension": ".py",
   "mimetype": "text/x-python",
   "name": "python",
   "nbconvert_exporter": "python",
   "pygments_lexer": "ipython2",
   "version": "2.7.16"
  }
 },
 "nbformat": 4,
 "nbformat_minor": 2
}
