{
 "cells": [
  {
   "cell_type": "code",
   "execution_count": 1,
   "id": "9ede82bb-2b56-453c-8030-07c20e953f9a",
   "metadata": {},
   "outputs": [
    {
     "name": "stdout",
     "output_type": "stream",
     "text": [
      "        age    height  weight\n",
      "id                           \n",
      "129237   32  5.398438     126\n",
      "123083   20  6.101562    <NA>\n",
      "123087   25  4.500000    <NA>\n",
      "Index     24\n",
      "age        3\n",
      "height     6\n",
      "weight     9\n",
      "dtype: int64\n",
      "age          int8\n",
      "height    float16\n",
      "weight      Int16\n",
      "dtype: object\n",
      "int64\n"
     ]
    }
   ],
   "source": [
    "import io\n",
    "\n",
    "import pandas as pd\n",
    "import numpy as np\n",
    "\n",
    "data = io.StringIO(\n",
    "    \"\"\"\n",
    "id,age,height,weight\n",
    "129237,32,5.4,126\n",
    "123083,20,6.1,\n",
    "123087,25,4.5,unknown\n",
    "\"\"\"\n",
    ")\n",
    "\n",
    "df = pd.read_csv(\n",
    "    data,\n",
    "    dtype={\n",
    "        \"id\": np.int32,\n",
    "        \"age\": np.int8,\n",
    "        \"height\": np.float16,\n",
    "        \"weight\": pd.Int16Dtype(),\n",
    "    },\n",
    "    na_values=[\"unknown\"],\n",
    "    index_col=[0],\n",
    ")\n",
    "\n",
    "print(df)\n",
    "print(df.memory_usage(deep=True))\n",
    "print(df.dtypes)\n",
    "print(df.index.dtype)\n"
   ]
  },
  {
   "cell_type": "code",
   "execution_count": 3,
   "id": "81027ff5-2b8f-4da9-91ab-a7d4a4f581be",
   "metadata": {},
   "outputs": [
    {
     "name": "stdout",
     "output_type": "stream",
     "text": [
      "1\n"
     ]
    }
   ],
   "source": [
    "import pandas as pd\n",
    "import numpy as np\n",
    "\n",
    "\n",
    "print(pd.Categorical([1, 3, 5, np.nan], ordered=True).min())\n"
   ]
  },
  {
   "cell_type": "code",
   "execution_count": 5,
   "id": "714b2178-0279-4903-b5ef-096440307cf6",
   "metadata": {},
   "outputs": [
    {
     "name": "stdout",
     "output_type": "stream",
     "text": [
      "         name\n",
      "id           \n",
      "129237   Mary\n",
      "123083  Lacey\n",
      "123087    Bob\n",
      "Index     24\n",
      "name     183\n",
      "dtype: int64\n",
      "name    string\n",
      "dtype: object\n"
     ]
    }
   ],
   "source": [
    "import io\n",
    "\n",
    "import pandas as pd\n",
    "import numpy as np\n",
    "\n",
    "\n",
    "data = io.StringIO(\n",
    "    \"\"\"\n",
    "id,name\n",
    "129237,Mary\n",
    "123083,Lacey\n",
    "123087,Bob\n",
    "\"\"\"\n",
    ")\n",
    "\n",
    "dtype = {\"id\": np.int32}\n",
    "if pd.__version__ >= \"1.0.0\":\n",
    "    dtype = {\"id\": np.int32, \"name\": pd.StringDtype()}\n",
    "\n",
    "\n",
    "df = pd.read_csv(data, dtype=dtype, index_col=[0])\n",
    "print(df)\n",
    "print(df.memory_usage(deep=True))\n",
    "print(df.dtypes)\n"
   ]
  },
  {
   "cell_type": "code",
   "execution_count": 7,
   "id": "d3ea016e-8fe7-4653-997f-c963e298c55d",
   "metadata": {},
   "outputs": [
    {
     "data": {
      "text/plain": [
       "array([300000, 200000])"
      ]
     },
     "execution_count": 7,
     "metadata": {},
     "output_type": "execute_result"
    }
   ],
   "source": [
    "import pandas as pd\n",
    "\n",
    "\n",
    "metadata = pd.Categorical([\"Mary\"] * 100000 + [\"Boby\"] * 100000 + [\"Joe\"] * 100000)\n",
    "\n",
    "metadata.searchsorted([\"Mary\", \"Joe\"])\n"
   ]
  },
  {
   "cell_type": "code",
   "execution_count": 9,
   "id": "454220ab-e4a0-4136-a937-57080d70b5c9",
   "metadata": {},
   "outputs": [
    {
     "name": "stdout",
     "output_type": "stream",
     "text": [
      "size    float64\n",
      "dtype: object\n",
      "4959243024\n",
      "size    float64\n",
      "dtype: object\n",
      "4959243024\n",
      "size    object\n",
      "dtype: object\n",
      "4959249552\n"
     ]
    }
   ],
   "source": [
    "import pandas as pd\n",
    "import numpy as np\n",
    "\n",
    "\n",
    "data = pd.DataFrame({\"size\": [np.nan, 1.0, 3.5]})\n",
    "print(data.dtypes)\n",
    "print(id(data._data.blocks[0].values))\n",
    "\n",
    "data.fillna(0.0, inplace=True)\n",
    "print(data.dtypes)\n",
    "print(id(data._data.blocks[0].values))\n",
    "\n",
    "data.replace(0.0, \"null\", inplace=True)\n",
    "print(data.dtypes)\n",
    "print(id(data._data.blocks[0].values))\n"
   ]
  },
  {
   "cell_type": "code",
   "execution_count": null,
   "id": "5b0b8618-3585-47ec-b063-4759b2ddb94c",
   "metadata": {},
   "outputs": [],
   "source": []
  }
 ],
 "metadata": {
  "kernelspec": {
   "display_name": "Python 3 (ipykernel)",
   "language": "python",
   "name": "python3"
  },
  "language_info": {
   "codemirror_mode": {
    "name": "ipython",
    "version": 3
   },
   "file_extension": ".py",
   "mimetype": "text/x-python",
   "name": "python",
   "nbconvert_exporter": "python",
   "pygments_lexer": "ipython3",
   "version": "3.11.7"
  }
 },
 "nbformat": 4,
 "nbformat_minor": 5
}
