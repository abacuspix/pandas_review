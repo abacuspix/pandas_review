{
 "cells": [
  {
   "cell_type": "code",
   "execution_count": 50,
   "metadata": {},
   "outputs": [
    {
     "name": "stdout",
     "output_type": "stream",
     "text": [
      "       id  age  height  weight\n",
      "0  129237   32     5.4     126\n",
      "1  123083   20     6.1     145\n"
     ]
    }
   ],
   "source": [
    "#list 4-1\n",
    "import io\n",
    "import pandas as pd\n",
    "\n",
    "data = io.StringIO(\n",
    "\"\"\"\n",
    "id,age,height,weight\n",
    "129237,32,5.4,126\n",
    "123083,20,6.1,145\n",
    "\"\"\"\n",
    ")\n",
    "\n",
    "# Corrected line to explicitly specify the separator\n",
    "df = pd.read_csv(data, sep=\",\")\n",
    "\n",
    "print(df)"
   ]
  },
  {
   "cell_type": "code",
   "execution_count": 52,
   "metadata": {},
   "outputs": [
    {
     "name": "stdout",
     "output_type": "stream",
     "text": [
      "       id  age  height  weight\n",
      "0  129237   32     5.4     126\n",
      "1  123083   20     6.1     145\n"
     ]
    }
   ],
   "source": [
    "#list 4-2\n",
    "import io\n",
    "import pandas as pd\n",
    "\n",
    "data = io.StringIO(\n",
    "\"\"\"\n",
    "id| age| height| weight\n",
    "129237| 32| 5.4| 126\n",
    "123083| 20| 6.1| 145\n",
    "\"\"\"\n",
    ")\n",
    "\n",
    "print(pd.read_csv(data, sep=\"|\", skipinitialspace=True))"
   ]
  },
  {
   "cell_type": "code",
   "execution_count": 54,
   "metadata": {},
   "outputs": [
    {
     "name": "stdout",
     "output_type": "stream",
     "text": [
      "   age  height\n",
      "0   32     5.4\n",
      "1   20     6.1\n"
     ]
    }
   ],
   "source": [
    "import io\n",
    "import pandas as pd\n",
    "\n",
    "data = io.StringIO(\n",
    "    \"\"\"\n",
    "id,age,height,weight\n",
    "129237,32,5.4,126\n",
    "123083,20,6.1,145\n",
    "\"\"\"\n",
    ")\n",
    "\n",
    "# Read CSV and specify columns to use\n",
    "df = pd.read_csv(data, usecols=[\"height\", \"age\"])\n",
    "print(df)"
   ]
  },
  {
   "cell_type": "code",
   "execution_count": 56,
   "metadata": {},
   "outputs": [
    {
     "name": "stdout",
     "output_type": "stream",
     "text": [
      "   student_id  grade\n",
      "0        1045      a\n",
      "1        2391      b\n",
      "2        8723      c\n"
     ]
    }
   ],
   "source": [
    "import io\n",
    "import pandas as pd\n",
    "\n",
    "data = io.StringIO(\n",
    "    \"\"\"\n",
    "student_id, grade\n",
    "1045,\"a\"\n",
    "2391,\"b\"\n",
    "8723,\"c\"\n",
    "1092,\"a\"\n",
    "\"\"\"\n",
    ")\n",
    "\n",
    "# Read CSV, skipping the last row and using the 'python' engine to handle skipfooter\n",
    "try:\n",
    "    grades = pd.read_csv(data, skipfooter=1, engine='python')\n",
    "    print(grades)\n",
    "except pd.errors.ParserError as e:\n",
    "    print(f\"ParserError: {e}\")\n",
    "\n"
   ]
  },
  {
   "cell_type": "code",
   "execution_count": 58,
   "metadata": {},
   "outputs": [
    {
     "name": "stdout",
     "output_type": "stream",
     "text": [
      "family               nightshade                         \n",
      "species                 tomatoe deadly-nightshade potato\n",
      "family_id species_id                                    \n",
      "61248     129237              1                 0      0\n",
      "          123083              0                 1      0\n",
      "          123729              0                 0      1\n"
     ]
    }
   ],
   "source": [
    "import io\n",
    "\n",
    "import pandas as pd\n",
    "\n",
    "\n",
    "data = io.StringIO(\n",
    "    \"\"\"\n",
    "family,,nightshade,nightshade,nightshade\n",
    "species,,tomatoe,deadly-nightshade,potato\n",
    "family_id,species_id,,,\n",
    "61248,129237,1,0,0\n",
    "61248,123083,0,1,0\n",
    "61248,123729,0,0,1\n",
    "\"\"\"\n",
    ")\n",
    "\n",
    "print(pd.read_csv(data, header=[0, 1], index_col=[0, 1]))\n"
   ]
  },
  {
   "cell_type": "code",
   "execution_count": 60,
   "metadata": {},
   "outputs": [
    {
     "name": "stdout",
     "output_type": "stream",
     "text": [
      "    site1   site2\n",
      "0  129237  129337\n",
      "1  123083  123583\n"
     ]
    }
   ],
   "source": [
    "import io\n",
    "\n",
    "import pandas as pd\n",
    "\n",
    "\n",
    "site1 = io.StringIO(\n",
    "    \"\"\"\n",
    "site1\n",
    "129237\n",
    "123083\n",
    "\"\"\"\n",
    ")\n",
    "\n",
    "site2 = io.StringIO(\n",
    "    \"\"\"\n",
    "129337\n",
    "123583\n",
    "\"\"\"\n",
    ")\n",
    "\n",
    "site_data = pd.read_csv(site1)\n",
    "site_data[\"site2\"] = pd.read_csv(site2, squeeze=True, header=None)\n",
    "print(site_data)\n"
   ]
  },
  {
   "cell_type": "code",
   "execution_count": 62,
   "metadata": {},
   "outputs": [
    {
     "name": "stdout",
     "output_type": "stream",
     "text": [
      "        age  height  weight\n",
      "id                         \n",
      "129237   32     5.4     126\n",
      "123083   20     6.1     145\n",
      "Index     16\n",
      "age       16\n",
      "height    16\n",
      "weight    16\n",
      "dtype: int64\n",
      "age         int64\n",
      "height    float64\n",
      "weight      int64\n",
      "dtype: object\n",
      "int64\n"
     ]
    }
   ],
   "source": [
    "import io\n",
    "import pandas as pd\n",
    "\n",
    "data = io.StringIO(\n",
    "    \"\"\"\n",
    "id,age,height,weight\n",
    "129237,32,5.4,126\n",
    "123083,20,6.1,145\n",
    "\"\"\"\n",
    ")\n",
    "\n",
    "# Read the CSV data, setting the 'id' column as the index\n",
    "df = pd.read_csv(data, index_col=[0])\n",
    "\n",
    "# Print the DataFrame\n",
    "print(df)\n",
    "\n",
    "# Print the memory usage of the DataFrame\n",
    "print(df.memory_usage(deep=True))\n",
    "\n",
    "# Print the data types of each column\n",
    "print(df.dtypes)\n",
    "\n",
    "# Print the data type of the index\n",
    "print(df.index.dtype)\n"
   ]
  },
  {
   "cell_type": "code",
   "execution_count": 64,
   "metadata": {},
   "outputs": [
    {
     "name": "stdout",
     "output_type": "stream",
     "text": [
      "        age    height  weight\n",
      "id                           \n",
      "129237   32  5.398438     126\n",
      "123083   20  6.101562     145\n",
      "Index     16\n",
      "age        2\n",
      "height     4\n",
      "weight     4\n",
      "dtype: int64\n",
      "age          int8\n",
      "height    float16\n",
      "weight      int16\n",
      "dtype: object\n",
      "int64\n"
     ]
    }
   ],
   "source": [
    "import io\n",
    "\n",
    "import pandas as pd\n",
    "import numpy as np\n",
    "\n",
    "\n",
    "data = io.StringIO(\n",
    "    \"\"\"\n",
    "id,age,height,weight\n",
    "129237,32,5.4,126\n",
    "123083,20,6.1,145\n",
    "\"\"\"\n",
    ")\n",
    "\n",
    "df = pd.read_csv(\n",
    "    data,\n",
    "    dtype={\"id\": np.int32, \"age\": np.int8, \"height\": np.float16, \"weight\": np.int16},\n",
    "    index_col=[0],\n",
    ")\n",
    "\n",
    "print(df)\n",
    "print(df.memory_usage(deep=True))\n",
    "print(df.dtypes)\n",
    "print(df.index.dtype)\n"
   ]
  },
  {
   "cell_type": "code",
   "execution_count": 66,
   "metadata": {},
   "outputs": [
    {
     "name": "stdout",
     "output_type": "stream",
     "text": [
      "       id  age  height  weight  med\n",
      "0  129237   32     5.4     126  bta\n",
      "1  123083   20     6.1     145  atg\n"
     ]
    }
   ],
   "source": [
    "import io\n",
    "\n",
    "import pandas as pd\n",
    "\n",
    "\n",
    "MEDICATIONS_MAPPER = {\"atg\": \"atg\", \"aftg\": \"atg\", \"bta\": \"bta\"}\n",
    "\n",
    "\n",
    "def medication_converter(value):\n",
    "    return MEDICATIONS_MAPPER[value.lower()]\n",
    "\n",
    "\n",
    "data = io.StringIO(\n",
    "\"\"\"\n",
    "id,age,height,weight,med\n",
    "129237,32,5.4,126,bta\n",
    "123083,20,6.1,145,aftg\n",
    "\"\"\"\n",
    ")\n",
    "\n",
    "print(pd.read_csv(data, converters={\"med\": medication_converter}))\n"
   ]
  },
  {
   "cell_type": "code",
   "execution_count": 68,
   "metadata": {},
   "outputs": [],
   "source": [
    "import io\n",
    "\n",
    "import pandas as pd\n",
    "\n",
    "\n",
    "data = io.StringIO(\n",
    "\"\"\"\n",
    "student_id, grade\n",
    "1045,\"a\"\n",
    "2391,\"b\"\n",
    "8723,\"c\"\n",
    "1092,\"a'\n",
    "\"\"\"\n",
    ")\n",
    "\n",
    "grades = pd.read_csv(data, nrows=3)\n"
   ]
  },
  {
   "cell_type": "code",
   "execution_count": 70,
   "metadata": {},
   "outputs": [],
   "source": [
    "import io\n",
    "\n",
    "import pandas as pd\n",
    "\n",
    "\n",
    "data_csv = io.StringIO(\n",
    "\"\"\"\n",
    "student_id, grade\n",
    "1045,\"a\"\n",
    "2391,\"b\"\n",
    "8723,\"c\"\n",
    "1092,\"a\"\n",
    "1045,\"a\"\n",
    "2391,\"b\"\n",
    "8723,\"c\"\n",
    "1092,\"a\"\n",
    "1045,\"a\"\n",
    "2391,\"b\"\n",
    "8723,\"c\"\n",
    "1092,\"a\"\n",
    "1045,\"a\"\n",
    "2391,\"b\"\n",
    "8723,\"c\"\n",
    "1092,\"a\"\n",
    "\"\"\"\n",
    ")\n",
    "\n",
    "def process(data):\n",
    "    \"\"\" Mocked process function. \"\"\"\n",
    "    data_csv.seek(0)\n",
    "    return data\n",
    "\n",
    "ROWS_PER_CHUNK = 1000\n",
    "\n",
    "data = process(pd.read_csv(data_csv, nrows=ROWS_PER_CHUNK))\n",
    "read_rows = len(data)\n",
    "\n",
    "chunk = 1\n",
    "while chunk * ROWS_PER_CHUNK == read_rows:\n",
    "    chunk_data = process(\n",
    "        pd.read_csv(\n",
    "            data_csv,\n",
    "            skiprows=chunk * ROWS_PER_CHUNK,\n",
    "            nrows=ROWS_PER_CHUNK,\n",
    "            header=None,\n",
    "            names=data.columns,\n",
    "        )\n",
    "    )\n",
    "    read_rows += len(chunk_data)\n",
    "    data = data.append(process(chunk_data), ignore_index=True)\n"
   ]
  },
  {
   "cell_type": "code",
   "execution_count": 72,
   "metadata": {},
   "outputs": [
    {
     "name": "stdout",
     "output_type": "stream",
     "text": [
      "  student_id  grade\n",
      "0       1045      a\n",
      "1       2391      b\n",
      "2       8723      c\n",
      "3       1092      a\n",
      "4       1045      a\n"
     ]
    }
   ],
   "source": [
    "import io\n",
    "import pandas as pd\n",
    "\n",
    "data_csv = io.StringIO(\n",
    "\"\"\"\n",
    "student_id, grade\n",
    "1045,\"a\"\n",
    "2391,\"b\"\n",
    "8723,\"c\"\n",
    "1092,\"a\"\n",
    "1045,\"a\"\n",
    "2391,\"b\"\n",
    "8723,\"c\"\n",
    "1092,\"a\"\n",
    "1045,\"a\"\n",
    "2391,\"b\"\n",
    "8723,\"c\"\n",
    "1092,\"a\"\n",
    "1045,\"a\"\n",
    "2391,\"b\"\n",
    "8723,\"c\"\n",
    "1092,\"a\"\n",
    "\"\"\"\n",
    ")\n",
    "\n",
    "def process(data):\n",
    "    \"\"\" Mocked process function. \"\"\"\n",
    "    # For the purpose of this example, we'll just return the data unchanged\n",
    "    return data\n",
    "\n",
    "ROWS_PER_CHUNK = 5\n",
    "\n",
    "# Read the first chunk of data\n",
    "data = process(pd.read_csv(data_csv, nrows=ROWS_PER_CHUNK))\n",
    "read_rows = len(data)\n",
    "\n",
    "chunk = 1\n",
    "while read_rows == chunk * ROWS_PER_CHUNK:\n",
    "    # Read the next chunk of data\n",
    "    chunk_data = process(\n",
    "        pd.read_csv(\n",
    "            data_csv,\n",
    "            skiprows=chunk * ROWS_PER_CHUNK + 1,  # +1 to skip the header row\n",
    "            nrows=ROWS_PER_CHUNK,\n",
    "            header=None,\n",
    "            names=data.columns,\n",
    "        )\n",
    "    )\n",
    "    read_rows += len(chunk_data)\n",
    "    data = data.append(chunk_data, ignore_index=True)\n",
    "    chunk += 1\n",
    "\n",
    "# Print the resulting DataFrame\n",
    "print(data)\n",
    "\n"
   ]
  },
  {
   "cell_type": "code",
   "execution_count": 74,
   "metadata": {},
   "outputs": [
    {
     "name": "stdout",
     "output_type": "stream",
     "text": [
      "Filled 1 NA values in column student_id\n",
      "            grade\n",
      "student_id       \n",
      "1045.0          a\n",
      "2391.0          b\n",
      "NaN             c\n",
      "1092.0          a\n",
      "float64\n"
     ]
    }
   ],
   "source": [
    "import io\n",
    "\n",
    "import pandas as pd\n",
    "\n",
    "\n",
    "data = io.StringIO(\n",
    "\"\"\"\n",
    "student_id, grade\n",
    "1045,\"a\"\n",
    "2391,\"b\"\n",
    ",\"c\"\n",
    "1092,\"a\"\n",
    "\"\"\"\n",
    ")\n",
    "\n",
    "grades = pd.read_csv(\n",
    "    data, verbose=True, index_col=\"student_id\", engine=\"python\"\n",
    ")\n",
    "print(grades)\n",
    "print(grades.index.dtype)\n"
   ]
  },
  {
   "cell_type": "code",
   "execution_count": 76,
   "metadata": {},
   "outputs": [
    {
     "name": "stdout",
     "output_type": "stream",
     "text": [
      "        age    height  weight\n",
      "id                           \n",
      "129237   32  5.398438   126.0\n",
      "123083   20  6.101562     NaN\n",
      "123087   25  4.500000     NaN\n",
      "Index     24\n",
      "age        3\n",
      "height     6\n",
      "weight    24\n",
      "dtype: int64\n",
      "age          int8\n",
      "height    float16\n",
      "weight    float64\n",
      "dtype: object\n",
      "int64\n"
     ]
    }
   ],
   "source": [
    "import io\n",
    "import pandas as pd\n",
    "import numpy as np\n",
    "\n",
    "data = io.StringIO(\n",
    "\"\"\"\n",
    "id,age,height,weight\n",
    "129237,32,5.4,126\n",
    "123083,20,6.1,\n",
    "123087,25,4.5,unknown\n",
    "\"\"\"\n",
    ")\n",
    "\n",
    "# Read the CSV data, with error coercion for problematic data entries\n",
    "df = pd.read_csv(data, dtype={\"id\": np.int32, \"age\": np.int8, \"height\": np.float16}, index_col=[0])\n",
    "\n",
    "# Convert 'weight' column to numeric, coercing errors to NaN\n",
    "df['weight'] = pd.to_numeric(df['weight'], errors='coerce')\n",
    "\n",
    "print(df)\n",
    "print(df.memory_usage(deep=True))\n",
    "print(df.dtypes)\n",
    "print(df.index.dtype)\n",
    "\n"
   ]
  },
  {
   "cell_type": "code",
   "execution_count": 78,
   "metadata": {},
   "outputs": [
    {
     "name": "stdout",
     "output_type": "stream",
     "text": [
      "        age    height  weight\n",
      "id                           \n",
      "129237   32  5.398438   126.0\n",
      "123083   20  6.101562     NaN\n",
      "123087   25  4.500000     NaN\n",
      "Index     24\n",
      "age        3\n",
      "height     6\n",
      "weight     6\n",
      "dtype: int64\n",
      "age          int8\n",
      "height    float16\n",
      "weight    float16\n",
      "dtype: object\n",
      "int64\n",
      "        age    height  weight\n",
      "id                           \n",
      "129237   32  5.398438     126\n",
      "123083   20  6.101562       0\n",
      "123087   25  4.500000       0\n",
      "Index     24\n",
      "age        3\n",
      "height     6\n",
      "weight     6\n",
      "dtype: int64\n",
      "age          int8\n",
      "height    float16\n",
      "weight      int16\n",
      "dtype: object\n"
     ]
    }
   ],
   "source": [
    "import io\n",
    "\n",
    "import pandas as pd\n",
    "import numpy as np\n",
    "\n",
    "\n",
    "data = io.StringIO(\n",
    "\"\"\"\n",
    "id,age,height,weight\n",
    "129237,32,5.4,126\n",
    "123083,20,6.1,\n",
    "123087,25,4.5,unknown\n",
    "\"\"\"\n",
    ")\n",
    "\n",
    "df = pd.read_csv(\n",
    "    data,\n",
    "    dtype={\"id\": np.int32, \"age\": np.int8, \"height\": np.float16, \"weight\": np.float16},\n",
    "    na_values={\"unknown\"},\n",
    "    index_col=[0],\n",
    ")\n",
    "\n",
    "print(df)\n",
    "print(df.memory_usage(deep=True))\n",
    "print(df.dtypes)\n",
    "print(df.index.dtype)\n",
    "\n",
    "df[\"weight\"].fillna(0, inplace=True)\n",
    "df[\"weight\"] = df[\"weight\"].astype(np.int16)\n",
    "\n",
    "print(df)\n",
    "print(df.memory_usage(deep=True))\n",
    "print(df.dtypes)\n"
   ]
  },
  {
   "cell_type": "code",
   "execution_count": 80,
   "metadata": {},
   "outputs": [
    {
     "name": "stdout",
     "output_type": "stream",
     "text": [
      "Tokenization took: 0.01 ms\n",
      "Type conversion took: 0.16 ms\n",
      "Parser memory cleanup took: 0.00 ms\n"
     ]
    }
   ],
   "source": [
    "import io\n",
    "\n",
    "import pandas as pd\n",
    "\n",
    "\n",
    "data = io.StringIO(\n",
    "\"\"\"\n",
    "student_id,grade\n",
    "1045,\"a\"\n",
    "2391,\"b\"\n",
    "8723,\"c\"\n",
    "1092,\"a\"\n",
    "1045,\"a\"\n",
    "1045,\"a\"\n",
    "1045,\"a\"\n",
    "1045,\"a\"\n",
    "1045,\"a\"\n",
    "1045,\"a\"\n",
    "1045,\"a\"\n",
    "2391,\"b\"\n",
    "8723,\"c\"\n",
    "1092,\"a\"\n",
    "2391,\"b\"\n",
    "1045,\"a\"\n",
    "1045,\"a\"\n",
    "2391,\"b\"\n",
    "8723,\"c\"\n",
    "1092,\"a\"\n",
    "2391,\"b\"\n",
    "8723,\"c\"\n",
    "1092,\"a\"\n",
    "8723,\"c\"\n",
    "1092,\"a\"\n",
    "2391,\"b\"\n",
    "8723,\"c\"\n",
    "1092,\"a\"\n",
    "2391,\"b\"\n",
    "8723,\"c\"\n",
    "1092,\"a\"\n",
    "2391,\"b\"\n",
    "8723,\"c\"\n",
    "1092,\"a\"\n",
    "2391,\"b\"\n",
    "8723,\"c\"\n",
    "1092,\"a\"\n",
    "2391,\"b\"\n",
    "8723,\"c\"\n",
    "1092,\"a\"\n",
    "\"\"\"\n",
    ")\n",
    "\n",
    "grades = pd.read_csv(data, verbose=True, engine=\"c\")\n"
   ]
  },
  {
   "cell_type": "code",
   "execution_count": 82,
   "metadata": {},
   "outputs": [
    {
     "name": "stdout",
     "output_type": "stream",
     "text": [
      "            birth    height  weight\n",
      "id                                 \n",
      "129237 1999-04-10  5.398438     126\n",
      "123083 2000-07-03  6.101562     150\n",
      "123087 1989-11-23  4.500000     111\n",
      "Index     24\n",
      "birth     24\n",
      "height     6\n",
      "weight     6\n",
      "dtype: int64\n",
      "birth     datetime64[ns]\n",
      "height           float16\n",
      "weight             int16\n",
      "dtype: object\n",
      "int64\n"
     ]
    }
   ],
   "source": [
    "import io\n",
    "\n",
    "import pandas as pd\n",
    "import numpy as np\n",
    "\n",
    "\n",
    "data = io.StringIO(\n",
    "\"\"\"\n",
    "id,birth,height,weight\n",
    "129237,04/10/1999,5.4,126\n",
    "123083,07/03/2000,6.1,150\n",
    "123087,11/23/1989,4.5,111\n",
    "\"\"\"\n",
    ")\n",
    "\n",
    "df = pd.read_csv(\n",
    "    data,\n",
    "    dtype={\"id\": np.int32, \"height\": np.float16, \"weight\": np.int16},\n",
    "    parse_dates=[\"birth\"],\n",
    "    index_col=[0],\n",
    ")\n",
    "\n",
    "print(df)\n",
    "print(df.memory_usage(deep=True))\n",
    "print(df.dtypes)\n",
    "print(df.index.dtype)"
   ]
  },
  {
   "cell_type": "code",
   "execution_count": 84,
   "metadata": {},
   "outputs": [
    {
     "name": "stdout",
     "output_type": "stream",
     "text": [
      "            birth    height  weight\n",
      "id                                 \n",
      "129237 1999-04-10  5.398438     126\n",
      "123083        NaT  6.101562     150\n",
      "123087 1989-11-23  4.500000     111\n",
      "Index     24\n",
      "birth     24\n",
      "height     6\n",
      "weight     6\n",
      "dtype: int64\n",
      "birth     datetime64[ns]\n",
      "height           float16\n",
      "weight             int16\n",
      "dtype: object\n",
      "int64\n"
     ]
    }
   ],
   "source": [
    "import io\n",
    "import pandas as pd\n",
    "import numpy as np\n",
    "\n",
    "data = io.StringIO(\n",
    "\"\"\"\n",
    "id,birth,height,weight\n",
    "129237,04/10/1999,5.4,126\n",
    "123083,unknown,6.1,150\n",
    "123087,11/23/1989,4.5,111\n",
    "\"\"\"\n",
    ")\n",
    "\n",
    "df = pd.read_csv(\n",
    "    data,\n",
    "    dtype={\"id\": np.int32, \"height\": np.float16, \"weight\": np.int16},\n",
    "    parse_dates=[\"birth\"],\n",
    "    na_values=[\"unknown\"],\n",
    "    index_col=[0],\n",
    "    encoding=\"utf-8\"\n",
    ")\n",
    "\n",
    "print(df)\n",
    "print(df.memory_usage(deep=True))\n",
    "print(df.dtypes)\n",
    "print(df.index.dtype)"
   ]
  }
 ],
 "metadata": {
  "kernelspec": {
   "display_name": "Python 3 (ipykernel)",
   "language": "python",
   "name": "python3"
  },
  "language_info": {
   "codemirror_mode": {
    "name": "ipython",
    "version": 3
   },
   "file_extension": ".py",
   "mimetype": "text/x-python",
   "name": "python",
   "nbconvert_exporter": "python",
   "pygments_lexer": "ipython3",
   "version": "3.11.7"
  }
 },
 "nbformat": 4,
 "nbformat_minor": 4
}
