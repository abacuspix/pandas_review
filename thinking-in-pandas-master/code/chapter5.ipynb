{
 "cells": [
  {
   "cell_type": "code",
   "execution_count": 3,
   "id": "789a9a60-a764-4681-8895-ad14c94377db",
   "metadata": {},
   "outputs": [
    {
     "name": "stdout",
     "output_type": "stream",
     "text": [
      "  restaurant location   date  score\n",
      "0      Diner   (4, 2)  02/18     90\n",
      "1     Pandas   (5, 4)  04/18     55\n",
      "2      Diner   (4, 2)  05/18    100\n",
      "3     Pandas   (5, 4)  01/18     76\n",
      "                     score\n",
      "restaurant location       \n",
      "Diner      (4, 2)     95.0\n",
      "Pandas     (5, 4)     65.5\n"
     ]
    }
   ],
   "source": [
    "#List5-1\n",
    "import pandas as pd\n",
    "import numpy as np\n",
    "\n",
    "\n",
    "df = pd.DataFrame(\n",
    "    [\n",
    "        [\"Diner\", (4, 2), \"02/18\", 90],\n",
    "        [\"Pandas\", (5, 4), \"04/18\", 55],\n",
    "        [\"Diner\", (4, 2), \"05/18\", 100],\n",
    "        [\"Pandas\", (5, 4), \"01/18\", 76],\n",
    "    ],\n",
    "    columns=[\"restaurant\", \"location\", \"date\", \"score\"],\n",
    ")\n",
    "\n",
    "print(df)\n",
    "df = df.pivot_table(values=[\"score\"], index=[\"restaurant\", \"location\"], aggfunc=np.mean)\n",
    "print(df)"
   ]
  },
  {
   "cell_type": "code",
   "execution_count": 5,
   "id": "392fc07a-5f16-48ac-9006-61f65e3f74de",
   "metadata": {},
   "outputs": [
    {
     "name": "stdout",
     "output_type": "stream",
     "text": [
      "                      date  score\n",
      "restaurant location              \n",
      "Diner      (4, 2)    02/18     90\n",
      "Pandas     (5, 4)    04/18     55\n",
      "Diner      (4, 2)    05/18    100\n",
      "Pandas     (5, 4)    01/18     76\n",
      "                     score\n",
      "restaurant location       \n",
      "Diner      (4, 2)     95.0\n",
      "Pandas     (5, 4)     65.5\n"
     ]
    }
   ],
   "source": [
    "#List5-2\n",
    "import pandas as pd\n",
    "import numpy as np\n",
    "\n",
    "\n",
    "df = pd.DataFrame(\n",
    "    [\n",
    "        [\"Diner\", (4, 2), \"02/18\", 90],\n",
    "        [\"Pandas\", (5, 4), \"04/18\", 55],\n",
    "        [\"Diner\", (4, 2), \"05/18\", 100],\n",
    "        [\"Pandas\", (5, 4), \"01/18\", 76],\n",
    "    ],\n",
    "    columns=[\"restaurant\", \"location\", \"date\", \"score\"],\n",
    ").set_index([\"restaurant\", \"location\"])\n",
    "\n",
    "print(df)\n",
    "df = df[[\"score\"]].groupby([\"restaurant\", \"location\"]).mean()\n",
    "print(df)\n"
   ]
  },
  {
   "cell_type": "code",
   "execution_count": 7,
   "id": "e1377091-1c88-4870-b97b-34389b05d1d9",
   "metadata": {},
   "outputs": [
    {
     "name": "stdout",
     "output_type": "stream",
     "text": [
      "    date  tumor_size  drug  dose\n",
      "0  02/18          90  1384    10\n",
      "1  02/25          80  1384    10\n",
      "2  03/07          65  1384    10\n",
      "3  03/21          60  1384    10\n",
      "4  02/18          30  1389     7\n",
      "5  02/25          20  1389     7\n",
      "6  03/07          25  1389     7\n",
      "7  03/21          25  1389     7\n",
      "date  02/18  02/25  03/07  03/21\n",
      "drug                            \n",
      "1384     90     80     65     60\n",
      "1389     30     20     25     25\n"
     ]
    }
   ],
   "source": [
    "#list 5-3\n",
    "import pandas as pd\n",
    "import numpy as np\n",
    "\n",
    "\n",
    "df = pd.DataFrame(\n",
    "    [\n",
    "        [\"02/18\", 90, 1384, 10],\n",
    "        [\"02/25\", 80, 1384, 10],\n",
    "        [\"03/07\", 65, 1384, 10],\n",
    "        [\"03/21\", 60, 1384, 10],\n",
    "        [\"02/18\", 30, 1389, 7],\n",
    "        [\"02/25\", 20, 1389, 7],\n",
    "        [\"03/07\", 25, 1389, 7],\n",
    "        [\"03/21\", 25, 1389, 7],\n",
    "    ],\n",
    "    columns=[\"date\", \"tumor_size\", \"drug\", \"dose\"],\n",
    ")\n",
    "\n",
    "print(df)\n",
    "print(df.pivot(index=\"drug\", columns=\"date\", values=\"tumor_size\"))\n"
   ]
  },
  {
   "cell_type": "code",
   "execution_count": 13,
   "id": "da1698bf-c093-4942-a548-aa9e5bc7427a",
   "metadata": {},
   "outputs": [
    {
     "name": "stdout",
     "output_type": "stream",
     "text": [
      "Original DataFrame:\n",
      "    date  tumor_size  drug  dose\n",
      "0  02/18          90  1384    10\n",
      "1  02/25          80  1384    10\n",
      "2  03/07          65  1384    10\n",
      "3  03/21          60  1384    10\n",
      "4  02/18          30  1389     7\n",
      "5  02/25          20  1389     7\n",
      "6  03/07          25  1384    10\n",
      "7  03/21          25  1389     7\n",
      "\n",
      "Pivoted DataFrame:\n",
      "date  02/18  02/25  03/07  03/21\n",
      "drug                            \n",
      "1384   90.0   80.0   45.0   60.0\n",
      "1389   30.0   20.0    NaN   25.0\n"
     ]
    }
   ],
   "source": [
    "#List5-4\n",
    "import pandas as pd\n",
    "import numpy as np\n",
    "\n",
    "# Create the DataFrame\n",
    "df = pd.DataFrame(\n",
    "    [\n",
    "        [\"02/18\", 90, 1384, 10],\n",
    "        [\"02/25\", 80, 1384, 10],\n",
    "        [\"03/07\", 65, 1384, 10],\n",
    "        [\"03/21\", 60, 1384, 10],\n",
    "        [\"02/18\", 30, 1389, 7],\n",
    "        [\"02/25\", 20, 1389, 7],\n",
    "        [\"03/07\", 25, 1384, 10],\n",
    "        [\"03/21\", 25, 1389, 7],\n",
    "    ],\n",
    "    columns=[\"date\", \"tumor_size\", \"drug\", \"dose\"],\n",
    ")\n",
    "\n",
    "# Print the original DataFrame\n",
    "print(\"Original DataFrame:\")\n",
    "print(df)\n",
    "\n",
    "# Pivot the DataFrame to show tumor_size values for each drug over different dates\n",
    "pivot_df = df.pivot_table(index=\"drug\", columns=\"date\", values=\"tumor_size\", aggfunc='mean')\n",
    "\n",
    "# Print the pivoted DataFrame\n",
    "print(\"\\nPivoted DataFrame:\")\n",
    "print(pivot_df)\n",
    "\n"
   ]
  },
  {
   "cell_type": "code",
   "execution_count": 15,
   "id": "935841c9-14a0-4052-a12d-e07fa2182be9",
   "metadata": {},
   "outputs": [
    {
     "name": "stdout",
     "output_type": "stream",
     "text": [
      "                    score     \n",
      "inspection              0    1\n",
      "restaurant location           \n",
      "Diner      (4, 2)      90  100\n",
      "Pandas     (5, 4)      55   76\n",
      "  restaurant location  inspection  score\n",
      "0      Diner   (4, 2)           0     90\n",
      "1      Diner   (4, 2)           1    100\n",
      "2     Pandas   (5, 4)           0     55\n",
      "3     Pandas   (5, 4)           1     76\n",
      "                     score\n",
      "restaurant location       \n",
      "Diner      (4, 2)       90\n",
      "           (4, 2)      100\n",
      "Pandas     (5, 4)       55\n",
      "           (5, 4)       76\n"
     ]
    }
   ],
   "source": [
    "#List 5-5\n",
    "import pandas as pd\n",
    "import numpy as np\n",
    "\n",
    "\n",
    "df = (\n",
    "    pd.DataFrame(\n",
    "        [\n",
    "            [\"Diner\", (4, 2), 0, 90],\n",
    "            [\"Pandas\", (5, 4), 0, 55],\n",
    "            [\"Diner\", (4, 2), 1, 100],\n",
    "            [\"Pandas\", (5, 4), 1, 76],\n",
    "        ],\n",
    "        columns=[\"restaurant\", \"location\", \"inspection\", \"score\"],\n",
    "    )\n",
    "    .set_index([\"restaurant\", \"location\", \"inspection\"])\n",
    "    .unstack()\n",
    ")\n",
    "\n",
    "print(df)\n",
    "df = df.stack().reset_index()\n",
    "print(df)\n",
    "df.drop(columns=[\"inspection\"], inplace=True)\n",
    "df.set_index([\"restaurant\", \"location\"], inplace=True)\n",
    "print(df)\n"
   ]
  },
  {
   "cell_type": "code",
   "execution_count": 17,
   "id": "908290c1-8676-47ec-ace0-8d081ff01fe1",
   "metadata": {},
   "outputs": [
    {
     "name": "stdout",
     "output_type": "stream",
     "text": [
      "                     score\n",
      "restaurant location       \n",
      "Diner      (4, 2)       90\n",
      "Pandas     (5, 4)       55\n",
      "Diner      (4, 2)      100\n",
      "Pandas     (5, 4)       76\n",
      "                                score\n",
      "restaurant location inspection       \n",
      "Diner      (4, 2)   0              90\n",
      "Pandas     (5, 4)   0              55\n",
      "Diner      (4, 2)   1             100\n",
      "Pandas     (5, 4)   1              76\n",
      "                    score     \n",
      "inspection              0    1\n",
      "restaurant location           \n",
      "Diner      (4, 2)      90  100\n",
      "Pandas     (5, 4)      55   76\n"
     ]
    }
   ],
   "source": [
    "#List 5-6\n",
    "import pandas as pd\n",
    "import numpy as np\n",
    "\n",
    "\n",
    "df = pd.DataFrame(\n",
    "    [\n",
    "        [\"Diner\", (4, 2), 90],\n",
    "        [\"Pandas\", (5, 4), 55],\n",
    "        [\"Diner\", (4, 2), 100],\n",
    "        [\"Pandas\", (5, 4), 76],\n",
    "    ],\n",
    "    columns=[\"restaurant\", \"location\", \"score\"],\n",
    ").set_index([\"restaurant\", \"location\"])\n",
    "\n",
    "print(df)\n",
    "df[\"inspection\"] = df.groupby([\"restaurant\", \"location\"]).cumcount()\n",
    "df.set_index(\"inspection\", append=True, inplace=True)\n",
    "\n",
    "print(df)\n",
    "df = df.unstack()\n",
    "print(df)\n"
   ]
  },
  {
   "cell_type": "code",
   "execution_count": 19,
   "id": "d2108f02-5eb4-4160-b409-31b2d28cecfd",
   "metadata": {},
   "outputs": [
    {
     "name": "stdout",
     "output_type": "stream",
     "text": [
      "  restaurant location   0    1\n",
      "0      Diner   (4, 2)  90  100\n",
      "1     Pandas   (5, 4)  55   76\n",
      "  restaurant location  score\n",
      "0      Diner   (4, 2)     90\n",
      "1     Pandas   (5, 4)     55\n",
      "2      Diner   (4, 2)    100\n",
      "3     Pandas   (5, 4)     76\n"
     ]
    }
   ],
   "source": [
    "#List 5-7\n",
    "import pandas as pd\n",
    "import numpy as np\n",
    "\n",
    "\n",
    "df = pd.DataFrame(\n",
    "    [[\"Diner\", (4, 2), 90, 100], [\"Pandas\", (5, 4), 55, 76]],\n",
    "    columns=[\"restaurant\", \"location\", 0, 1],\n",
    ")\n",
    "\n",
    "print(df)\n",
    "df = df.melt(\n",
    "    id_vars=[\"restaurant\", \"location\"], value_vars=[0, 1], value_name=\"score\"\n",
    ").drop(columns=\"variable\")\n",
    "print(df)\n"
   ]
  },
  {
   "cell_type": "code",
   "execution_count": 21,
   "id": "20581a4d-78af-4d9e-a91c-e4210cc73140",
   "metadata": {},
   "outputs": [
    {
     "name": "stdout",
     "output_type": "stream",
     "text": [
      "               id history\n",
      "blood_type               \n",
      "O+           2394     hbp\n",
      "B+           2312     NaN\n",
      "O-          23409     lbp\n",
      "    O+   O-   A+   A-   B+   B-\n",
      "0  ADF  ADF  ACB  DCB  ACE  BAB\n",
      "1  GCB  RAB   DF  EFR  NaN  HEF\n",
      "2  RAB  NaN  NaN  NaN  NaN  NaN\n",
      "      0    1    2\n",
      "O+  ADF  GCB  RAB\n",
      "O-  ADF  RAB  NaN\n",
      "A+  ACB   DF  NaN\n",
      "A-  DCB  EFR  NaN\n",
      "B+  ACE  NaN  NaN\n",
      "B-  BAB  HEF  NaN\n",
      "               id history    0    1    2\n",
      "blood_type                              \n",
      "O+           2394     hbp  ADF  GCB  RAB\n",
      "B+           2312     NaN  ACE  NaN  NaN\n",
      "O-          23409     lbp  ADF  RAB  NaN\n"
     ]
    }
   ],
   "source": [
    "#List 5-8\n",
    "import pandas as pd\n",
    "import numpy as np\n",
    "\n",
    "\n",
    "patient_list = pd.DataFrame(\n",
    "    [[\"O+\", 2394, \"hbp\"], [\"B+\", 2312, np.nan], [\"O-\", 23409, \"lbp\"]],\n",
    "    columns=[\"blood_type\", \"id\", \"history\"],\n",
    ").set_index([\"blood_type\"])\n",
    "\n",
    "drug_table = pd.DataFrame(\n",
    "    [\n",
    "        [\"ADF\", \"ADF\", \"ACB\", \"DCB\", \"ACE\", \"BAB\"],\n",
    "        [\"GCB\", \"RAB\", \"DF\", \"EFR\", np.nan, \"HEF\"],\n",
    "        [\"RAB\", np.nan, np.nan, np.nan, np.nan, np.nan],\n",
    "    ],\n",
    "    columns=[\"O+\", \"O-\", \"A+\", \"A-\", \"B+\", \"B-\"],\n",
    ")\n",
    "\n",
    "print(patient_list)\n",
    "print(drug_table)\n",
    "drug_table = drug_table.transpose(copy=False)\n",
    "print(drug_table)\n",
    "print(patient_list.join(drug_table))\n"
   ]
  },
  {
   "cell_type": "code",
   "execution_count": null,
   "id": "515e0aa1-83e4-4c35-b5f7-dc7d0975f7ca",
   "metadata": {},
   "outputs": [],
   "source": []
  }
 ],
 "metadata": {
  "kernelspec": {
   "display_name": "Python 3 (ipykernel)",
   "language": "python",
   "name": "python3"
  },
  "language_info": {
   "codemirror_mode": {
    "name": "ipython",
    "version": 3
   },
   "file_extension": ".py",
   "mimetype": "text/x-python",
   "name": "python",
   "nbconvert_exporter": "python",
   "pygments_lexer": "ipython3",
   "version": "3.11.7"
  }
 },
 "nbformat": 4,
 "nbformat_minor": 5
}
