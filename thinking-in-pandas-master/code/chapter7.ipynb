{
 "cells": [
  {
   "cell_type": "code",
   "execution_count": 5,
   "id": "52f464ef-f5e0-45df-8171-ace913f84b24",
   "metadata": {},
   "outputs": [
    {
     "name": "stdout",
     "output_type": "stream",
     "text": [
      "            number\n",
      "date place        \n",
      "2015 BER        20\n",
      "     LON        10\n",
      "     LON         5\n",
      "2016 BER        15\n",
      "     BER        10\n",
      "     LON        10\n",
      "            number  total\n",
      "date place               \n",
      "2015 BER        20   20.0\n",
      "     LON        10   15.0\n",
      "     LON         5   15.0\n",
      "2016 BER        15   25.0\n",
      "     BER        10   25.0\n",
      "     LON        10   10.0\n"
     ]
    }
   ],
   "source": [
    "import pandas as pd\n",
    "\n",
    "arrivals_by_destination = (\n",
    "    pd.DataFrame(\n",
    "        [\n",
    "            [2015, \"LON\", 10],\n",
    "            [2015, \"BER\", 20],\n",
    "            [2015, \"LON\", 5],\n",
    "            [2016, \"LON\", 10],\n",
    "            [2016, \"BER\", 15],\n",
    "            [2016, \"BER\", 10],\n",
    "        ],\n",
    "        columns=[\"date\", \"place\", \"number\"],\n",
    "    )\n",
    "    .set_index([\"date\", \"place\"])\n",
    "    .sort_index()\n",
    ")\n",
    "\n",
    "print(arrivals_by_destination)\n",
    "groups = arrivals_by_destination.groupby([\"date\", \"place\"])\n",
    "\n",
    "for idx, grp in groups:\n",
    "    arrivals_by_destination.loc[idx, \"total\"] = grp[\"number\"].sum()\n",
    "\n",
    "print(arrivals_by_destination)\n"
   ]
  },
  {
   "cell_type": "code",
   "execution_count": 7,
   "id": "c0a8fcc6-a2aa-4aba-899a-88f1acb8ce5c",
   "metadata": {},
   "outputs": [
    {
     "name": "stdout",
     "output_type": "stream",
     "text": [
      "            number\n",
      "date place        \n",
      "2015 BER        20\n",
      "     LON        10\n",
      "     LON         5\n",
      "2016 BER        15\n",
      "     BER        10\n",
      "     LON        10\n",
      "            number  total\n",
      "date place               \n",
      "2015 BER        20     20\n",
      "     LON        10     15\n",
      "     LON         5     15\n",
      "2016 BER        15     25\n",
      "     BER        10     25\n",
      "     LON        10     10\n"
     ]
    }
   ],
   "source": [
    "import pandas as pd\n",
    "\n",
    "arrivals_by_destination = (\n",
    "    pd.DataFrame(\n",
    "        [\n",
    "            [2015, \"LON\", 10],\n",
    "            [2015, \"BER\", 20],\n",
    "            [2015, \"LON\", 5],\n",
    "            [2016, \"LON\", 10],\n",
    "            [2016, \"BER\", 15],\n",
    "            [2016, \"BER\", 10],\n",
    "        ],\n",
    "        columns=[\"date\", \"place\", \"number\"],\n",
    "    )\n",
    "    .set_index([\"date\", \"place\"])\n",
    "    .sort_index()\n",
    ")\n",
    "\n",
    "print(arrivals_by_destination)\n",
    "arrivals_by_destination[\"total\"] = arrivals_by_destination.groupby(\n",
    "    [\"date\", \"place\"]\n",
    ").sum()\n",
    "print(arrivals_by_destination)\n"
   ]
  },
  {
   "cell_type": "code",
   "execution_count": 9,
   "id": "99ead521-8748-426b-83d1-6d5c4ad6743a",
   "metadata": {},
   "outputs": [
    {
     "name": "stdout",
     "output_type": "stream",
     "text": [
      "             0   1\n",
      "date place        \n",
      "2015 BER    20   0\n",
      "     LON    10   5\n",
      "2016 BER    15  10\n",
      "     LON    10   0\n"
     ]
    }
   ],
   "source": [
    "import pandas as pd\n",
    "\n",
    "arrivals_by_destination = (\n",
    "    pd.DataFrame(\n",
    "        [\n",
    "            [2015, \"BER\", 20, 0],\n",
    "            [2015, \"LON\", 10, 5],\n",
    "            [2016, \"BER\", 15, 10],\n",
    "            [2016, \"LON\", 10, 0],\n",
    "        ],\n",
    "        columns=[\"date\", \"place\", \"0\", \"1\"],\n",
    "    )\n",
    "    .set_index([\"date\", \"place\"])\n",
    "    .sort_index()\n",
    ")\n",
    "\n",
    "print(arrivals_by_destination)\n",
    "\n",
    "arrivals_by_destination[\"total\"] = arrivals_by_destination.sum()\n"
   ]
  },
  {
   "cell_type": "code",
   "execution_count": null,
   "id": "c8dcf00d-829e-4760-9318-29a125d46e0c",
   "metadata": {},
   "outputs": [],
   "source": []
  }
 ],
 "metadata": {
  "kernelspec": {
   "display_name": "Python 3 (ipykernel)",
   "language": "python",
   "name": "python3"
  },
  "language_info": {
   "codemirror_mode": {
    "name": "ipython",
    "version": 3
   },
   "file_extension": ".py",
   "mimetype": "text/x-python",
   "name": "python",
   "nbconvert_exporter": "python",
   "pygments_lexer": "ipython3",
   "version": "3.11.7"
  }
 },
 "nbformat": 4,
 "nbformat_minor": 5
}
