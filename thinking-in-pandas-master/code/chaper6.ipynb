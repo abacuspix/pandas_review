{
 "cells": [
  {
   "cell_type": "code",
   "execution_count": 1,
   "id": "b5a975bd-33ec-4d87-a8f8-d4176685776a",
   "metadata": {},
   "outputs": [
    {
     "name": "stdout",
     "output_type": "stream",
     "text": [
      "   A  B\n",
      "0  4  9\n",
      "1  6  7\n",
      "0    13\n",
      "1    13\n",
      "dtype: int64\n"
     ]
    }
   ],
   "source": [
    "#List 6-1\n",
    "import pandas as pd\n",
    "import numpy as np\n",
    "\n",
    "\n",
    "df = pd.DataFrame([[4, 9], [6, 7]], columns=[\"A\", \"B\"])\n",
    "print(df)\n",
    "print(df.apply(np.sum, axis=1))\n"
   ]
  },
  {
   "cell_type": "code",
   "execution_count": 3,
   "id": "311f4dc7-cbe7-4fb7-85f9-85218414655c",
   "metadata": {},
   "outputs": [
    {
     "ename": "NameError",
     "evalue": "name 'series_gen' is not defined",
     "output_type": "error",
     "traceback": [
      "\u001b[0;31m---------------------------------------------------------------------------\u001b[0m",
      "\u001b[0;31mNameError\u001b[0m                                 Traceback (most recent call last)",
      "Cell \u001b[0;32mIn[3], line 1\u001b[0m\n\u001b[0;32m----> 1\u001b[0m \u001b[38;5;28;01mfor\u001b[39;00m i, v \u001b[38;5;129;01min\u001b[39;00m \u001b[38;5;28menumerate\u001b[39m(series_gen):\n\u001b[1;32m      2\u001b[0m     results[i] \u001b[38;5;241m=\u001b[39m \u001b[38;5;28mself\u001b[39m\u001b[38;5;241m.\u001b[39mf(v)\n\u001b[1;32m      3\u001b[0m     keys\u001b[38;5;241m.\u001b[39mappend(v\u001b[38;5;241m.\u001b[39mname)\n",
      "\u001b[0;31mNameError\u001b[0m: name 'series_gen' is not defined"
     ]
    }
   ],
   "source": [
    "for i, v in enumerate(series_gen):\n",
    "    results[i] = self.f(v)\n",
    "    keys.append(v.name)"
   ]
  },
  {
   "cell_type": "code",
   "execution_count": 5,
   "id": "60d4fd11-43b0-4209-90e2-d7f1bff89e54",
   "metadata": {},
   "outputs": [
    {
     "name": "stdout",
     "output_type": "stream",
     "text": [
      "   a  b  sum\n",
      "0  0  0    0\n",
      "1  1  1    2\n",
      "2  2  2    4\n",
      "3  3  3    6\n"
     ]
    }
   ],
   "source": [
    "import pandas as pd\n",
    "\n",
    "\n",
    "df = pd.DataFrame({\"a\": [0, 1, 2, 3], \"b\": [0, 1, 2, 3]})\n",
    "\n",
    "results = [0] * len(df)\n",
    "for i, v in df.iterrows():\n",
    "    results[i] = v.sum()\n",
    "df[\"sum\"] = results\n",
    "print(df)\n"
   ]
  },
  {
   "cell_type": "code",
   "execution_count": 11,
   "id": "b6d3a4e8-edf3-48f5-8b3a-2bca0476ac0c",
   "metadata": {},
   "outputs": [
    {
     "data": {
      "text/plain": [
       "0    0\n",
       "1    2\n",
       "2    4\n",
       "3    6\n",
       "dtype: int64"
      ]
     },
     "execution_count": 11,
     "metadata": {},
     "output_type": "execute_result"
    }
   ],
   "source": [
    "import pandas as pd\n",
    "\n",
    "df = pd.DataFrame({\"a\": [0, 1, 2, 3], \"b\": [0, 1, 2, 3]})\n",
    "df.sum(axis=1)"
   ]
  },
  {
   "cell_type": "code",
   "execution_count": 17,
   "id": "589dab89-6f9c-40b8-991e-5ba575c0e882",
   "metadata": {},
   "outputs": [
    {
     "data": {
      "text/html": [
       "<div>\n",
       "<style scoped>\n",
       "    .dataframe tbody tr th:only-of-type {\n",
       "        vertical-align: middle;\n",
       "    }\n",
       "\n",
       "    .dataframe tbody tr th {\n",
       "        vertical-align: top;\n",
       "    }\n",
       "\n",
       "    .dataframe thead th {\n",
       "        text-align: right;\n",
       "    }\n",
       "</style>\n",
       "<table border=\"1\" class=\"dataframe\">\n",
       "  <thead>\n",
       "    <tr style=\"text-align: right;\">\n",
       "      <th></th>\n",
       "      <th>A</th>\n",
       "      <th>B</th>\n",
       "      <th>C</th>\n",
       "    </tr>\n",
       "  </thead>\n",
       "  <tbody>\n",
       "    <tr>\n",
       "      <th>0</th>\n",
       "      <td>0.0</td>\n",
       "      <td>0.0</td>\n",
       "      <td>0.0</td>\n",
       "    </tr>\n",
       "    <tr>\n",
       "      <th>1</th>\n",
       "      <td>4.0</td>\n",
       "      <td>1.0</td>\n",
       "      <td>4.0</td>\n",
       "    </tr>\n",
       "    <tr>\n",
       "      <th>2</th>\n",
       "      <td>2.0</td>\n",
       "      <td>2.0</td>\n",
       "      <td>1.0</td>\n",
       "    </tr>\n",
       "    <tr>\n",
       "      <th>3</th>\n",
       "      <td>4.0</td>\n",
       "      <td>3.0</td>\n",
       "      <td>5.0</td>\n",
       "    </tr>\n",
       "  </tbody>\n",
       "</table>\n",
       "</div>"
      ],
      "text/plain": [
       "     A    B    C\n",
       "0  0.0  0.0  0.0\n",
       "1  4.0  1.0  4.0\n",
       "2  2.0  2.0  1.0\n",
       "3  4.0  3.0  5.0"
      ]
     },
     "execution_count": 17,
     "metadata": {},
     "output_type": "execute_result"
    }
   ],
   "source": [
    "import pandas as pd\n",
    "import numpy as np\n",
    "\n",
    "df = pd.DataFrame({\"A\": [0, np.nan, np.nan, 4], \"B\": [0, 1, 2, 3], \"C\": [0, 4, 1, 5]})\n",
    "\n",
    "def replace_missing(series):\n",
    "    if np.isnan(series[\"A\"]):\n",
    "        series[\"A\"] = max(series[\"B\"], series[\"C\"])\n",
    "    return series\n",
    "\n",
    "df = df.apply(replace_missing, axis=1)\n",
    "df"
   ]
  },
  {
   "cell_type": "code",
   "execution_count": 19,
   "id": "624f8fe2-dc9e-4005-a340-4e8d36a0859b",
   "metadata": {},
   "outputs": [
    {
     "data": {
      "text/html": [
       "<div>\n",
       "<style scoped>\n",
       "    .dataframe tbody tr th:only-of-type {\n",
       "        vertical-align: middle;\n",
       "    }\n",
       "\n",
       "    .dataframe tbody tr th {\n",
       "        vertical-align: top;\n",
       "    }\n",
       "\n",
       "    .dataframe thead th {\n",
       "        text-align: right;\n",
       "    }\n",
       "</style>\n",
       "<table border=\"1\" class=\"dataframe\">\n",
       "  <thead>\n",
       "    <tr style=\"text-align: right;\">\n",
       "      <th></th>\n",
       "      <th>A</th>\n",
       "      <th>B</th>\n",
       "      <th>C</th>\n",
       "    </tr>\n",
       "  </thead>\n",
       "  <tbody>\n",
       "    <tr>\n",
       "      <th>0</th>\n",
       "      <td>0.0</td>\n",
       "      <td>0</td>\n",
       "      <td>0</td>\n",
       "    </tr>\n",
       "    <tr>\n",
       "      <th>1</th>\n",
       "      <td>4.0</td>\n",
       "      <td>1</td>\n",
       "      <td>4</td>\n",
       "    </tr>\n",
       "    <tr>\n",
       "      <th>2</th>\n",
       "      <td>2.0</td>\n",
       "      <td>2</td>\n",
       "      <td>1</td>\n",
       "    </tr>\n",
       "    <tr>\n",
       "      <th>3</th>\n",
       "      <td>4.0</td>\n",
       "      <td>3</td>\n",
       "      <td>5</td>\n",
       "    </tr>\n",
       "  </tbody>\n",
       "</table>\n",
       "</div>"
      ],
      "text/plain": [
       "     A  B  C\n",
       "0  0.0  0  0\n",
       "1  4.0  1  4\n",
       "2  2.0  2  1\n",
       "3  4.0  3  5"
      ]
     },
     "execution_count": 19,
     "metadata": {},
     "output_type": "execute_result"
    }
   ],
   "source": [
    "import pandas as pd\n",
    "import numpy as np\n",
    "\n",
    "df = pd.DataFrame({\"A\": [0, np.nan, np.nan, 4], \"B\": [0, 1, 2, 3], \"C\": [0, 4, 1, 5]})\n",
    "df[\"A\"].where(~df[\"A\"].isna(), df[[\"B\", \"C\"]].max(axis=1), inplace=True)\n",
    "df"
   ]
  },
  {
   "cell_type": "code",
   "execution_count": 21,
   "id": "663abece-5020-4c91-a238-7118f72cb48a",
   "metadata": {},
   "outputs": [
    {
     "name": "stdout",
     "output_type": "stream",
     "text": [
      "    fruit                order\n",
      "0  orange   I'd like an orange\n",
      "1   lemon        Mango please.\n",
      "2   mango  May I have a mango?\n",
      "    fruit                order\n",
      "0  orange   I'd like an orange\n",
      "2   mango  May I have a mango?\n"
     ]
    }
   ],
   "source": [
    "import pandas as pd\n",
    "import numpy as np\n",
    "\n",
    "def test_fruit_in_order(series):\n",
    "    if series[\"fruit\"].lower() in series[\"order\"].lower():\n",
    "        return series\n",
    "    return np.nan\n",
    "\n",
    "data = pd.DataFrame(\n",
    "    {\n",
    "        \"fruit\": [\"orange\", \"lemon\", \"mango\"],\n",
    "        \"order\": [\"I'd like an orange\", \"Mango please.\", \"May I have a mango?\"],\n",
    "    }\n",
    ")\n",
    "\n",
    "print(data)\n",
    "print(data.apply(test_fruit_in_order, axis=1, result_type=\"reduce\").dropna())\n"
   ]
  },
  {
   "cell_type": "code",
   "execution_count": 25,
   "id": "8e1f6633-e614-405b-ae47-9de20f96ef89",
   "metadata": {},
   "outputs": [
    {
     "data": {
      "text/html": [
       "<div>\n",
       "<style scoped>\n",
       "    .dataframe tbody tr th:only-of-type {\n",
       "        vertical-align: middle;\n",
       "    }\n",
       "\n",
       "    .dataframe tbody tr th {\n",
       "        vertical-align: top;\n",
       "    }\n",
       "\n",
       "    .dataframe thead th {\n",
       "        text-align: right;\n",
       "    }\n",
       "</style>\n",
       "<table border=\"1\" class=\"dataframe\">\n",
       "  <thead>\n",
       "    <tr style=\"text-align: right;\">\n",
       "      <th></th>\n",
       "      <th>fruit</th>\n",
       "      <th>order</th>\n",
       "    </tr>\n",
       "  </thead>\n",
       "  <tbody>\n",
       "    <tr>\n",
       "      <th>0</th>\n",
       "      <td>orange</td>\n",
       "      <td>I'd like an orange</td>\n",
       "    </tr>\n",
       "    <tr>\n",
       "      <th>2</th>\n",
       "      <td>mango</td>\n",
       "      <td>May I have a mango?</td>\n",
       "    </tr>\n",
       "  </tbody>\n",
       "</table>\n",
       "</div>"
      ],
      "text/plain": [
       "    fruit                order\n",
       "0  orange   I'd like an orange\n",
       "2   mango  May I have a mango?"
      ]
     },
     "execution_count": 25,
     "metadata": {},
     "output_type": "execute_result"
    }
   ],
   "source": [
    "import pandas as pd\n",
    "import numpy as np\n",
    "\n",
    "data = pd.DataFrame(\n",
    "    {\n",
    "        \"fruit\": [\"orange\", \"lemon\", \"mango\"],\n",
    "        \"order\": [\"I'd like an orange\", \"Mango please.\", \"May I have a mango?\"],\n",
    "    }\n",
    ")\n",
    "\n",
    "mask = [\n",
    "    fruit.lower() in order.lower() for (fruit, order) in data[[\"fruit\", \"order\"]].values\n",
    "]\n",
    "data = data[mask]\n",
    "data"
   ]
  },
  {
   "cell_type": "code",
   "execution_count": 27,
   "id": "500053d5-4eee-4cb5-b3e2-477cc0c08f57",
   "metadata": {},
   "outputs": [
    {
     "name": "stdout",
     "output_type": "stream",
     "text": [
      "  3           0 RESUME                   0\n",
      "\n",
      "  4           2 BUILD_LIST               0\n",
      "              4 STORE_FAST               0 (l)\n",
      "\n",
      "  5           6 LOAD_GLOBAL              1 (NULL + range)\n",
      "             18 LOAD_CONST               1 (5)\n",
      "             20 PRECALL                  1\n",
      "             24 CALL                     1\n",
      "             34 GET_ITER\n",
      "        >>   36 FOR_ITER                26 (to 90)\n",
      "             38 STORE_FAST               1 (x)\n",
      "\n",
      "  6          40 LOAD_FAST                0 (l)\n",
      "             42 LOAD_METHOD              1 (append)\n",
      "             64 LOAD_FAST                1 (x)\n",
      "             66 LOAD_CONST               2 (2)\n",
      "             68 BINARY_OP                6 (%)\n",
      "             72 PRECALL                  1\n",
      "             76 CALL                     1\n",
      "             86 POP_TOP\n",
      "             88 JUMP_BACKWARD           27 (to 36)\n",
      "\n",
      "  5     >>   90 LOAD_CONST               0 (None)\n",
      "             92 RETURN_VALUE\n",
      "None\n"
     ]
    }
   ],
   "source": [
    "import dis\n",
    "\n",
    "def for_loop():\n",
    "    l = []\n",
    "    for x in range(5):\n",
    "        l.append(x % 2)\n",
    "\n",
    "print(dis.dis(for_loop))\n"
   ]
  },
  {
   "cell_type": "code",
   "execution_count": 29,
   "id": "bf5063b3-2526-49c8-b4bd-e2e948f34e1f",
   "metadata": {},
   "outputs": [
    {
     "name": "stdout",
     "output_type": "stream",
     "text": [
      "  3           0 RESUME                   0\n",
      "\n",
      "  4           2 LOAD_CONST               1 (<code object <listcomp> at 0x13ede0ed0, file \"/var/folders/dv/3stz4zmn5jn1dhpcpw10k25h0000gp/T/ipykernel_71983/1760374281.py\", line 4>)\n",
      "              4 MAKE_FUNCTION            0\n",
      "              6 LOAD_GLOBAL              1 (NULL + range)\n",
      "             18 LOAD_CONST               2 (5)\n",
      "             20 PRECALL                  1\n",
      "             24 CALL                     1\n",
      "             34 GET_ITER\n",
      "             36 PRECALL                  0\n",
      "             40 CALL                     0\n",
      "             50 STORE_FAST               0 (l)\n",
      "             52 LOAD_CONST               0 (None)\n",
      "             54 RETURN_VALUE\n",
      "\n",
      "Disassembly of <code object <listcomp> at 0x13ede0ed0, file \"/var/folders/dv/3stz4zmn5jn1dhpcpw10k25h0000gp/T/ipykernel_71983/1760374281.py\", line 4>:\n",
      "  4           0 RESUME                   0\n",
      "              2 BUILD_LIST               0\n",
      "              4 LOAD_FAST                0 (.0)\n",
      "        >>    6 FOR_ITER                 7 (to 22)\n",
      "              8 STORE_FAST               1 (x)\n",
      "             10 LOAD_FAST                1 (x)\n",
      "             12 LOAD_CONST               0 (2)\n",
      "             14 BINARY_OP                6 (%)\n",
      "             18 LIST_APPEND              2\n",
      "             20 JUMP_BACKWARD            8 (to 6)\n",
      "        >>   22 RETURN_VALUE\n",
      "None\n"
     ]
    }
   ],
   "source": [
    "import dis\n",
    "\n",
    "def list_comprehension():\n",
    "    l = [x % 2 for x in range(5)]\n",
    "\n",
    "\n",
    "print(dis.dis(list_comprehension))\n"
   ]
  },
  {
   "cell_type": "code",
   "execution_count": 33,
   "id": "3c480a37-bfb4-4459-9212-9f54b7bbb608",
   "metadata": {},
   "outputs": [],
   "source": [
    "def percentileofscore(a, score):\n",
    "    \"\"\"\n",
    "    Three-quarters of the given values lie below a given score:\n",
    "    >>> stats.percentileofscore([1, 2, 3, 4], 3)\n",
    "    75.0\n",
    "    With multiple matches, note how the scores of the two\n",
    "    matches, 0.6 and 0.8 respectively, are averaged:\n",
    "    >>> stats.percentileofscore([1, 2, 3, 3, 4], 3)\n",
    "    70.0\n",
    "    \"\"\"\n",
    "    n = len(a)\n",
    "    left = np.count_nonzero(a < score)\n",
    "    right = np.count_nonzero(a <= score)\n",
    "    pct = (right + left + (1 if right > left else 0)) * 50.0 / n\n",
    "    return pct"
   ]
  },
  {
   "cell_type": "code",
   "execution_count": 35,
   "id": "77bd6f3e-e507-4b86-a1fb-d9c1e630979d",
   "metadata": {},
   "outputs": [
    {
     "name": "stdout",
     "output_type": "stream",
     "text": [
      "    0   1   2   3   4\n",
      "0   0   1   2   3   4\n",
      "1   5   6   7   8   9\n",
      "2  10  11  12  13  14\n",
      "3  15  16  17  18  19\n",
      "      0     1     2     3      4\n",
      "0  20.0  40.0  60.0  80.0  100.0\n",
      "1  20.0  40.0  60.0  80.0  100.0\n",
      "2  20.0  40.0  60.0  80.0  100.0\n",
      "3  20.0  40.0  60.0  80.0  100.0\n"
     ]
    }
   ],
   "source": [
    "import pandas as pd\n",
    "import numpy as np\n",
    "from scipy import stats\n",
    "\n",
    "data = pd.DataFrame(np.arange(20).reshape(4, 5))\n",
    "print(data)\n",
    "\n",
    "def apply_percentileofscore(series):\n",
    "    return series.apply(lambda x: stats.percentileofscore(series, x))\n",
    "\n",
    "print(data.apply(apply_percentileofscore, axis=1))\n"
   ]
  },
  {
   "cell_type": "code",
   "execution_count": 37,
   "id": "c3c3c60a-d17f-42df-9676-eaf804180862",
   "metadata": {},
   "outputs": [
    {
     "data": {
      "text/html": [
       "<div>\n",
       "<style scoped>\n",
       "    .dataframe tbody tr th:only-of-type {\n",
       "        vertical-align: middle;\n",
       "    }\n",
       "\n",
       "    .dataframe tbody tr th {\n",
       "        vertical-align: top;\n",
       "    }\n",
       "\n",
       "    .dataframe thead th {\n",
       "        text-align: right;\n",
       "    }\n",
       "</style>\n",
       "<table border=\"1\" class=\"dataframe\">\n",
       "  <thead>\n",
       "    <tr style=\"text-align: right;\">\n",
       "      <th></th>\n",
       "      <th>res4</th>\n",
       "    </tr>\n",
       "  </thead>\n",
       "  <tbody>\n",
       "    <tr>\n",
       "      <th>0</th>\n",
       "      <td>100.0</td>\n",
       "    </tr>\n",
       "    <tr>\n",
       "      <th>1</th>\n",
       "      <td>100.0</td>\n",
       "    </tr>\n",
       "    <tr>\n",
       "      <th>2</th>\n",
       "      <td>100.0</td>\n",
       "    </tr>\n",
       "    <tr>\n",
       "      <th>3</th>\n",
       "      <td>100.0</td>\n",
       "    </tr>\n",
       "  </tbody>\n",
       "</table>\n",
       "</div>"
      ],
      "text/plain": [
       "    res4\n",
       "0  100.0\n",
       "1  100.0\n",
       "2  100.0\n",
       "3  100.0"
      ]
     },
     "execution_count": 37,
     "metadata": {},
     "output_type": "execute_result"
    }
   ],
   "source": [
    "import pandas as pd\n",
    "import numpy as np\n",
    "\n",
    "data = pd.DataFrame(np.arange(20).reshape(4, 5))\n",
    "\n",
    "def percentileofscore(df):\n",
    "    res_df = pd.DataFrame({})\n",
    "    for col in df.columns:\n",
    "        score = pd.DataFrame([df[col]] * 5, index=df.columns).T\n",
    "    left = df[df < score].count(axis=1)\n",
    "    right = df[df <= score].count(axis=1)\n",
    "    right_is_greater = (\n",
    "        df[df <= score].count(axis=1) > df[df < score].count(axis=1)\n",
    "    ).astype(int)\n",
    "    res_df[f\"res{col}\"] = (left + right + right_is_greater) * 50.0 / len(df.columns)\n",
    "    return res_df\n",
    "\n",
    "percentileofscore(data)\n"
   ]
  },
  {
   "cell_type": "code",
   "execution_count": 39,
   "id": "f59eada9-aba3-48e3-91fb-9cbfd8355ea4",
   "metadata": {},
   "outputs": [],
   "source": [
    "from scipy.stats import percentileofscore as pctofscore\n",
    "\n",
    "from copy import deepcopy\n",
    "def percentileofscore(values):\n",
    "    percentiles = [0] * len(values[0])\n",
    "    num_rows = len(values)\n",
    "    for row_index in range(num_rows):\n",
    "        row_vals = values[row_index]\n",
    "        for col_index, col_val in enumerate(row_vals):\n",
    "            percentiles[col_index] = pctofscore(row_vals, col_val)\n",
    "        values[row_index] = percentiles\n"
   ]
  },
  {
   "cell_type": "code",
   "execution_count": 41,
   "id": "4939c78a-7603-400e-b5d1-38140eb97b55",
   "metadata": {},
   "outputs": [
    {
     "ename": "ModuleNotFoundError",
     "evalue": "No module named 'pyximport'",
     "output_type": "error",
     "traceback": [
      "\u001b[0;31m---------------------------------------------------------------------------\u001b[0m",
      "\u001b[0;31mModuleNotFoundError\u001b[0m                       Traceback (most recent call last)",
      "Cell \u001b[0;32mIn[41], line 2\u001b[0m\n\u001b[1;32m      1\u001b[0m \u001b[38;5;66;03m#python setup.py build_ext --inplace\u001b[39;00m\n\u001b[0;32m----> 2\u001b[0m \u001b[38;5;28;01mimport\u001b[39;00m \u001b[38;5;21;01mpyximport\u001b[39;00m\n\u001b[1;32m      4\u001b[0m pyximport\u001b[38;5;241m.\u001b[39minstall(language_level\u001b[38;5;241m=\u001b[39m\u001b[38;5;241m3\u001b[39m)\n\u001b[1;32m      5\u001b[0m \u001b[38;5;28;01mfrom\u001b[39;00m \u001b[38;5;21;01mdistutils\u001b[39;00m\u001b[38;5;21;01m.\u001b[39;00m\u001b[38;5;21;01mcore\u001b[39;00m \u001b[38;5;28;01mimport\u001b[39;00m setup\n",
      "\u001b[0;31mModuleNotFoundError\u001b[0m: No module named 'pyximport'"
     ]
    }
   ],
   "source": [
    "#python setup.py build_ext --inplace\n",
    "import pyximport\n",
    "\n",
    "pyximport.install(language_level=3)\n",
    "from distutils.core import setup\n",
    "from Cython.Build import cythonize\n",
    "\n",
    "setup(ext_modules=cythonize(\"percentileofscore.pyx\"))\n"
   ]
  },
  {
   "cell_type": "code",
   "execution_count": 43,
   "id": "abb8c31b-ea4b-4ea1-ae23-d1cd55e74723",
   "metadata": {},
   "outputs": [
    {
     "ename": "ModuleNotFoundError",
     "evalue": "No module named 'percentileofscore'",
     "output_type": "error",
     "traceback": [
      "\u001b[0;31m---------------------------------------------------------------------------\u001b[0m",
      "\u001b[0;31mModuleNotFoundError\u001b[0m                       Traceback (most recent call last)",
      "Cell \u001b[0;32mIn[43], line 1\u001b[0m\n\u001b[0;32m----> 1\u001b[0m \u001b[38;5;28;01mfrom\u001b[39;00m \u001b[38;5;21;01mpercentileofscore\u001b[39;00m \u001b[38;5;28;01mimport\u001b[39;00m percentileofscore\n\u001b[1;32m      3\u001b[0m percentileofscore(data\u001b[38;5;241m.\u001b[39mvalues)\n",
      "\u001b[0;31mModuleNotFoundError\u001b[0m: No module named 'percentileofscore'"
     ]
    }
   ],
   "source": [
    "from percentileofscore import percentileofscore\n",
    "\n",
    "percentileofscore(data.values)\n"
   ]
  },
  {
   "cell_type": "code",
   "execution_count": null,
   "id": "d0cdb44c-7463-4c68-9815-2d192a535a9f",
   "metadata": {},
   "outputs": [],
   "source": []
  }
 ],
 "metadata": {
  "kernelspec": {
   "display_name": "Python 3 (ipykernel)",
   "language": "python",
   "name": "python3"
  },
  "language_info": {
   "codemirror_mode": {
    "name": "ipython",
    "version": 3
   },
   "file_extension": ".py",
   "mimetype": "text/x-python",
   "name": "python",
   "nbconvert_exporter": "python",
   "pygments_lexer": "ipython3",
   "version": "3.11.7"
  }
 },
 "nbformat": 4,
 "nbformat_minor": 5
}
