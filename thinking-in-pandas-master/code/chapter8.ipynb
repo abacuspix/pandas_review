{
 "cells": [
  {
   "cell_type": "code",
   "execution_count": 5,
   "id": "fbb26186-6f93-40ed-97ad-4162ca6c0538",
   "metadata": {},
   "outputs": [
    {
     "data": {
      "text/plain": [
       "array([[-1.36755316],\n",
       "       [-2.0760266 ],\n",
       "       [ 1.49748438],\n",
       "       ...,\n",
       "       [ 2.16001699],\n",
       "       [-0.51267548],\n",
       "       [ 3.12160214]])"
      ]
     },
     "execution_count": 5,
     "metadata": {},
     "output_type": "execute_result"
    }
   ],
   "source": [
    "import pandas as pd\n",
    "import numpy as np\n",
    "import numexpr as ne\n",
    "\n",
    "\n",
    "nrows, ncols = 200000, 1\n",
    "df1, df2, df3, df4 = [pd.DataFrame(np.random.randn(nrows, ncols)) for _ in range(4)]\n",
    "\n",
    "# Calculate the sum using normal syntax.\n",
    "df_sum1 = df1 + df2 + df3 + df4\n",
    "\n",
    "# Calculate the sum using eval so that NumExpr optimizes it.\n",
    "df_sum2 = pd.eval(\" df1 + df2 + df3 + df4\")\n",
    "\n",
    "# Calculate the sum using NumExpr directly.\n",
    "a1, a2, a3, a4 = (df1.to_numpy(), df2.to_numpy(), df3.to_numpy(), df4.to_numpy())\n",
    "\n",
    "df_sum3 = ne.evaluate(\"a1 + a2 + a3 + a4\")\n",
    "df_sum3 "
   ]
  },
  {
   "cell_type": "code",
   "execution_count": null,
   "id": "1a0a4727-26f2-441b-bd05-31c716670742",
   "metadata": {},
   "outputs": [],
   "source": []
  }
 ],
 "metadata": {
  "kernelspec": {
   "display_name": "Python 3 (ipykernel)",
   "language": "python",
   "name": "python3"
  },
  "language_info": {
   "codemirror_mode": {
    "name": "ipython",
    "version": 3
   },
   "file_extension": ".py",
   "mimetype": "text/x-python",
   "name": "python",
   "nbconvert_exporter": "python",
   "pygments_lexer": "ipython3",
   "version": "3.11.7"
  }
 },
 "nbformat": 4,
 "nbformat_minor": 5
}
