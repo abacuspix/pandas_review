{
 "cells": [
  {
   "cell_type": "markdown",
   "id": "90277081",
   "metadata": {},
   "source": [
    "# Notebook setup"
   ]
  },
  {
   "cell_type": "code",
   "execution_count": 4,
   "id": "3f87e83d",
   "metadata": {
    "collapsed": false,
    "jupyter": {
     "outputs_hidden": false
    }
   },
   "outputs": [],
   "source": [
    "#import pandas as pd\n",
    "import numpy as np\n",
    "import yfinance as yf\n",
    "from datetime import datetime, date\n",
    "import matplotlib.pyplot as plt\n",
    "\n",
    "# Make plots inline\n",
    "%matplotlib inline\n",
    "\n",
    "# Formatting options\n",
    "pd.set_option('display.notebook_repr_html', False)\n",
    "pd.set_option('display.max_columns', 7)\n",
    "pd.set_option('display.max_rows', 10) \n",
    "pd.set_option('display.width', 82) \n",
    "pd.set_option('precision', 3)"
   ]
  },
  {
   "cell_type": "markdown",
   "id": "c67d7b88",
   "metadata": {},
   "source": [
    "# Modelling of a portfolio with Python and pandas"
   ]
  },
  {
   "cell_type": "code",
   "execution_count": 7,
   "id": "9dfdc9d0",
   "metadata": {
    "collapsed": false,
    "jupyter": {
     "outputs_hidden": false
    }
   },
   "outputs": [],
   "source": [
    "def create_portfolio(tickers, weights=None):\n",
    "    if weights is None: \n",
    "        shares = np.ones(len(tickers))/len(tickers)\n",
    "    portfolio = pd.DataFrame({'Tickers': tickers, \n",
    "                              'Weights': weights}, \n",
    "                             index=tickers)\n",
    "    return portfolio"
   ]
  },
  {
   "cell_type": "code",
   "execution_count": 9,
   "id": "90293158",
   "metadata": {
    "collapsed": false,
    "jupyter": {
     "outputs_hidden": false
    }
   },
   "outputs": [
    {
     "data": {
      "text/plain": [
       "         Tickers  Weights\n",
       "Stock A  Stock A        1\n",
       "Stock B  Stock B        1"
      ]
     },
     "execution_count": 9,
     "metadata": {},
     "output_type": "execute_result"
    }
   ],
   "source": [
    "portfolio = create_portfolio(['Stock A', 'Stock B'], [1, 1])\n",
    "portfolio"
   ]
  },
  {
   "cell_type": "code",
   "execution_count": 11,
   "id": "cf642357",
   "metadata": {
    "collapsed": false,
    "jupyter": {
     "outputs_hidden": false
    }
   },
   "outputs": [
    {
     "data": {
      "text/plain": [
       "   Stock A  Stock B\n",
       "0     0.10    -0.15\n",
       "1     0.24    -0.20\n",
       "2     0.05    -0.01\n",
       "3    -0.02     0.04\n",
       "4     0.20    -0.15"
      ]
     },
     "execution_count": 11,
     "metadata": {},
     "output_type": "execute_result"
    }
   ],
   "source": [
    "returns = pd.DataFrame(\n",
    "        {'Stock A': [0.1, 0.24, 0.05, -0.02, 0.2],\n",
    "         'Stock B': [-0.15, -0.2, -0.01, 0.04, -0.15]})\n",
    "returns"
   ]
  },
  {
   "cell_type": "code",
   "execution_count": 13,
   "id": "bb3fe9a4",
   "metadata": {
    "collapsed": false,
    "jupyter": {
     "outputs_hidden": false
    }
   },
   "outputs": [],
   "source": [
    "def calculate_weighted_portfolio_value(portfolio, \n",
    "                                       returns, \n",
    "                                       name='Value'):\n",
    "    total_weights = portfolio.Weights.sum()\n",
    "    weighted_returns = returns * (portfolio.Weights / \n",
    "                                  total_weights)\n",
    "    return pd.DataFrame({name: weighted_returns.sum(axis=1)})"
   ]
  },
  {
   "cell_type": "code",
   "execution_count": 15,
   "id": "7bbbfa7b",
   "metadata": {
    "collapsed": false,
    "jupyter": {
     "outputs_hidden": false
    }
   },
   "outputs": [
    {
     "data": {
      "text/plain": [
       "   Stock A  Stock B  Value\n",
       "0     0.10    -0.15 -0.025\n",
       "1     0.24    -0.20  0.020\n",
       "2     0.05    -0.01  0.020\n",
       "3    -0.02     0.04  0.010\n",
       "4     0.20    -0.15  0.025"
      ]
     },
     "execution_count": 15,
     "metadata": {},
     "output_type": "execute_result"
    }
   ],
   "source": [
    "wr = calculate_weighted_portfolio_value(portfolio, \n",
    "                                        returns, \n",
    "                                        \"Value\")\n",
    "with_value = pd.concat([returns, wr], axis=1)\n",
    "with_value"
   ]
  },
  {
   "cell_type": "code",
   "execution_count": 17,
   "id": "170069ce",
   "metadata": {
    "collapsed": false,
    "jupyter": {
     "outputs_hidden": false
    }
   },
   "outputs": [
    {
     "data": {
      "text/plain": [
       "Stock A    0.107\n",
       "Stock B    0.103\n",
       "Value      0.020\n",
       "dtype: float64"
      ]
     },
     "execution_count": 17,
     "metadata": {},
     "output_type": "execute_result"
    }
   ],
   "source": [
    "with_value.std()"
   ]
  },
  {
   "cell_type": "code",
   "execution_count": 19,
   "id": "727eb886",
   "metadata": {
    "collapsed": false,
    "jupyter": {
     "outputs_hidden": false
    }
   },
   "outputs": [],
   "source": [
    "def plot_portfolio_returns(returns, title=None):\n",
    "    returns.plot(figsize=(12,8))\n",
    "    plt.xlabel('Year')\n",
    "    plt.ylabel('Returns')\n",
    "    if title is not None: plt.title(title)\n",
    "    plt.show()\n",
    "    plt.savefig('5104OS_09_02.png', dpi=300)"
   ]
  },
  {
   "cell_type": "code",
   "execution_count": 21,
   "id": "9c8ea504",
   "metadata": {},
   "outputs": [
    {
     "data": {
      "image/png": "[encoded data removed]",
      "text/plain": [
       "<Figure size 1200x800 with 1 Axes>"
      ]
     },
     "metadata": {},
     "output_type": "display_data"
    },
    {
     "data": {
      "text/plain": [
       "<Figure size 640x480 with 0 Axes>"
      ]
     },
     "metadata": {},
     "output_type": "display_data"
    }
   ],
   "source": [
    "plot_portfolio_returns(with_value)"
   ]
  },
  {
   "cell_type": "code",
   "execution_count": 23,
   "id": "64438138",
   "metadata": {
    "collapsed": false,
    "jupyter": {
     "outputs_hidden": false
    }
   },
   "outputs": [
    {
     "data": {
      "text/plain": [
       "         Stock A  Stock B\n",
       "Stock A    1.000   -0.926\n",
       "Stock B   -0.926    1.000"
      ]
     },
     "execution_count": 23,
     "metadata": {},
     "output_type": "execute_result"
    }
   ],
   "source": [
    "returns.corr()"
   ]
  },
  {
   "cell_type": "markdown",
   "id": "22bc068f",
   "metadata": {},
   "source": [
    "# Computing an Efficient Portfolio"
   ]
  },
  {
   "cell_type": "markdown",
   "id": "88cd3f2e",
   "metadata": {},
   "source": [
    "## Gathering historical returns from Yahoo! Finance"
   ]
  },
  {
   "cell_type": "code",
   "execution_count": 31,
   "id": "321f2315",
   "metadata": {
    "collapsed": false,
    "jupyter": {
     "outputs_hidden": false
    }
   },
   "outputs": [],
   "source": [
    "def get_historical_closes(ticker, start_date, end_date):\n",
    "    # get the data for the tickers.  This will be a panel\n",
    "    p = web.DataReader(ticker, \"yahoo\", start_date, end_date)    \n",
    "    # convert the panel to a DataFrame and selection only Adj Close\n",
    "    # while making all index levels columns\n",
    "    d = p.to_frame()['Adj Close'].reset_index()\n",
    "    # rename the columns\n",
    "    d.rename(columns={'minor': 'Ticker', \n",
    "                      'Adj Close': 'Close'}, inplace=True)\n",
    "    # pivot each ticker to a column\n",
    "    pivoted = d.pivot(index='Date', columns='Ticker')\n",
    "    # and drop the one level on the columns\n",
    "    pivoted.columns = pivoted.columns.droplevel(0)\n",
    "    return pivoted"
   ]
  },
  {
   "cell_type": "code",
   "execution_count": 33,
   "id": "36a79d5b",
   "metadata": {
    "collapsed": false,
    "jupyter": {
     "outputs_hidden": false
    }
   },
   "outputs": [
    {
     "name": "stderr",
     "output_type": "stream",
     "text": [
      "[*********************100%%**********************]  3 of 3 completed"
     ]
    },
    {
     "name": "stdout",
     "output_type": "stream",
     "text": [
      "Ticker       AAPL      KO    MSFT\n",
      "Date                             \n",
      "2010-01-04  6.462  18.210  23.389\n",
      "2010-01-05  6.473  17.990  23.397\n",
      "2010-01-06  6.370  17.983  23.253\n",
      "2010-01-07  6.358  17.939  23.012\n",
      "2010-01-08  6.401  17.607  23.170\n"
     ]
    },
    {
     "name": "stderr",
     "output_type": "stream",
     "text": [
      "\n"
     ]
    }
   ],
   "source": [
    "import yfinance as yf\n",
    "import pandas as pd\n",
    "\n",
    "def get_historical_closes(tickers, start, end):\n",
    "    \"\"\"\n",
    "    Fetch historical closing prices for a list of tickers.\n",
    "    \n",
    "    Parameters:\n",
    "    tickers (list): List of ticker symbols\n",
    "    start (str): Start date in 'YYYY-MM-DD' format\n",
    "    end (str): End date in 'YYYY-MM-DD' format\n",
    "    \n",
    "    Returns:\n",
    "    DataFrame: Historical closing prices for the tickers\n",
    "    \"\"\"\n",
    "    data = yf.download(tickers, start=start, end=end)['Adj Close']\n",
    "    return data\n",
    "\n",
    "# Define the tickers and date range\n",
    "tickers = ['MSFT', 'AAPL', 'KO']\n",
    "start_date = '2010-01-01'\n",
    "end_date = '2014-12-31'\n",
    "\n",
    "# Fetch the historical closing prices\n",
    "closes = get_historical_closes(tickers, start_date, end_date)\n",
    "\n",
    "# Display the first few rows of the data\n",
    "print(closes.head())"
   ]
  },
  {
   "cell_type": "code",
   "execution_count": 35,
   "id": "cadea763",
   "metadata": {
    "collapsed": false,
    "jupyter": {
     "outputs_hidden": false
    }
   },
   "outputs": [
    {
     "data": {
      "text/plain": [
       "Ticker       AAPL      KO    MSFT\n",
       "Date                             \n",
       "2010-01-04  6.462  18.210  23.389\n",
       "2010-01-05  6.473  17.990  23.397\n",
       "2010-01-06  6.370  17.983  23.253\n",
       "2010-01-07  6.358  17.939  23.012\n",
       "2010-01-08  6.401  17.607  23.170"
      ]
     },
     "execution_count": 35,
     "metadata": {},
     "output_type": "execute_result"
    }
   ],
   "source": [
    "closes[:5]"
   ]
  },
  {
   "cell_type": "code",
   "execution_count": 37,
   "id": "9739d42d",
   "metadata": {
    "collapsed": false,
    "jupyter": {
     "outputs_hidden": false
    }
   },
   "outputs": [],
   "source": [
    "def calc_daily_returns(closes):\n",
    "    return np.log(closes/closes.shift(1))"
   ]
  },
  {
   "cell_type": "code",
   "execution_count": 39,
   "id": "d203d4c5",
   "metadata": {
    "collapsed": false,
    "jupyter": {
     "outputs_hidden": false
    }
   },
   "outputs": [
    {
     "data": {
      "text/plain": [
       "Ticker       AAPL         KO       MSFT\n",
       "Date                                   \n",
       "2010-01-04    NaN        NaN        NaN\n",
       "2010-01-05  0.002 -1.217e-02  3.230e-04\n",
       "2010-01-06 -0.016 -3.551e-04 -6.156e-03\n",
       "2010-01-07 -0.002 -2.488e-03 -1.045e-02\n",
       "2010-01-08  0.007 -1.868e-02  6.873e-03"
      ]
     },
     "execution_count": 39,
     "metadata": {},
     "output_type": "execute_result"
    }
   ],
   "source": [
    "# calculate daily returns\n",
    "daily_returns = calc_daily_returns(closes)\n",
    "daily_returns[:5]"
   ]
  },
  {
   "cell_type": "code",
   "execution_count": 41,
   "id": "eea8d65b",
   "metadata": {
    "collapsed": false,
    "jupyter": {
     "outputs_hidden": false
    }
   },
   "outputs": [],
   "source": [
    "# calculate annual returns\n",
    "def calc_annual_returns(daily_returns):\n",
    "    grouped = np.exp(daily_returns.groupby(\n",
    "        lambda date: date.year).sum())-1\n",
    "    return grouped"
   ]
  },
  {
   "cell_type": "code",
   "execution_count": 43,
   "id": "6425b2b1",
   "metadata": {
    "collapsed": false,
    "jupyter": {
     "outputs_hidden": false
    }
   },
   "outputs": [
    {
     "data": {
      "text/plain": [
       "Ticker   AAPL     KO   MSFT\n",
       "Date                       \n",
       "2010    0.507  0.189 -0.079\n",
       "2011    0.256  0.095 -0.045\n",
       "2012    0.326  0.065  0.058\n",
       "2013    0.081  0.172  0.443\n",
       "2014    0.433  0.066  0.291"
      ]
     },
     "execution_count": 43,
     "metadata": {},
     "output_type": "execute_result"
    }
   ],
   "source": [
    "annual_returns = calc_annual_returns(daily_returns)\n",
    "annual_returns"
   ]
  },
  {
   "cell_type": "markdown",
   "id": "1a3b4e00",
   "metadata": {},
   "source": [
    "## Weighted variance co-variance calculation"
   ]
  },
  {
   "cell_type": "code",
   "execution_count": 46,
   "id": "99cf4245",
   "metadata": {
    "collapsed": false,
    "jupyter": {
     "outputs_hidden": false
    }
   },
   "outputs": [],
   "source": [
    "def calc_portfolio_var(returns, weights=None):\n",
    "    if weights is None: \n",
    "        weights = np.ones(returns.columns.size) / \\\n",
    "        returns.columns.size\n",
    "    sigma = np.cov(returns.T,ddof=0)\n",
    "    var = (weights * sigma * weights.T).sum()\n",
    "    return var"
   ]
  },
  {
   "cell_type": "code",
   "execution_count": 48,
   "id": "fedfcff9",
   "metadata": {
    "collapsed": false,
    "jupyter": {
     "outputs_hidden": false
    }
   },
   "outputs": [
    {
     "data": {
      "text/plain": [
       "0.003372591979994298"
      ]
     },
     "execution_count": 48,
     "metadata": {},
     "output_type": "execute_result"
    }
   ],
   "source": [
    "# calculate our portfolio variance (equal weighted)\n",
    "calc_portfolio_var(annual_returns)"
   ]
  },
  {
   "cell_type": "markdown",
   "id": "344aba7e",
   "metadata": {},
   "source": [
    "## The Sharpe Ratio"
   ]
  },
  {
   "cell_type": "code",
   "execution_count": 51,
   "id": "ce27535a",
   "metadata": {
    "collapsed": false,
    "jupyter": {
     "outputs_hidden": false
    }
   },
   "outputs": [],
   "source": [
    "def sharpe_ratio(returns, weights = None, risk_free_rate = 0.015):\n",
    "    n = returns.columns.size\n",
    "    if weights is None: weights = np.ones(n)/n\n",
    "    # get the portfolio variance\n",
    "    var = calc_portfolio_var(returns, weights)\n",
    "    # and the means of the stocks in the portfolio\n",
    "    means = returns.mean()\n",
    "    # and return the sharpe ratio\n",
    "    return (means.dot(weights) - risk_free_rate)/np.sqrt(var)"
   ]
  },
  {
   "cell_type": "code",
   "execution_count": 53,
   "id": "4c4c2dce",
   "metadata": {
    "collapsed": false,
    "jupyter": {
     "outputs_hidden": false
    }
   },
   "outputs": [
    {
     "data": {
      "text/plain": [
       "3.0225861488819414"
      ]
     },
     "execution_count": 53,
     "metadata": {},
     "output_type": "execute_result"
    }
   ],
   "source": [
    "# calculate equal weighted sharpe ratio\n",
    "sharpe_ratio(annual_returns)"
   ]
  },
  {
   "cell_type": "markdown",
   "id": "d3381e61",
   "metadata": {},
   "source": [
    "## Optimization and minimization"
   ]
  },
  {
   "cell_type": "code",
   "execution_count": 56,
   "id": "d3e4b581",
   "metadata": {
    "collapsed": false,
    "jupyter": {
     "outputs_hidden": false
    }
   },
   "outputs": [],
   "source": [
    "# function to minimize\n",
    "def y_f(x): return 2+x**2"
   ]
  },
  {
   "cell_type": "code",
   "execution_count": 60,
   "id": "1d7482e6",
   "metadata": {
    "collapsed": false,
    "jupyter": {
     "outputs_hidden": false
    }
   },
   "outputs": [
    {
     "name": "stdout",
     "output_type": "stream",
     "text": [
      "Optimization terminated successfully.\n",
      "         Current function value: 2.000000\n",
      "         Iterations: 27\n",
      "         Function evaluations: 54\n",
      "The minimum value is at: [2.9999733]\n"
     ]
    }
   ],
   "source": [
    "import numpy as np\n",
    "from scipy.optimize import fmin\n",
    "\n",
    "# Define the function you want to minimize\n",
    "def y_f(x):\n",
    "    return (x - 3)**2 + 2\n",
    "\n",
    "# Initial guess for the minimum\n",
    "initial_guess = 1000\n",
    "\n",
    "# Perform the minimization\n",
    "result = fmin(y_f, initial_guess)\n",
    "\n",
    "print(\"The minimum value is at:\", result)"
   ]
  },
  {
   "cell_type": "markdown",
   "id": "eac2ed1f",
   "metadata": {},
   "source": [
    "## Constructing an optimal portfolio "
   ]
  },
  {
   "cell_type": "code",
   "execution_count": 63,
   "id": "4907e0f6",
   "metadata": {
    "collapsed": false,
    "jupyter": {
     "outputs_hidden": false
    }
   },
   "outputs": [],
   "source": [
    "def negative_sharpe_ratio_n_minus_1_stock(weights, \n",
    "                                          returns, \n",
    "                                          risk_free_rate):\n",
    "    \"\"\"\n",
    "    Given n-1 weights, return a negative sharpe ratio\n",
    "    \"\"\"\n",
    "    weights2 = sp.append(weights, 1-np.sum(weights))\n",
    "    return -sharpe_ratio(returns, weights2, risk_free_rate)"
   ]
  },
  {
   "cell_type": "code",
   "execution_count": 65,
   "id": "ae174968",
   "metadata": {
    "collapsed": false,
    "jupyter": {
     "outputs_hidden": false
    }
   },
   "outputs": [],
   "source": [
    "def optimize_portfolio(returns, risk_free_rate):\n",
    "    \"\"\" \n",
    "    Performs the optimization\n",
    "    \"\"\"\n",
    "    # start with equal weights\n",
    "    w0 = np.ones(returns.columns.size-1, \n",
    "                 dtype=float) * 1.0 / returns.columns.size\n",
    "    # minimize the negative sharpe value\n",
    "    w1 = scopt.fmin(negative_sharpe_ratio_n_minus_1_stock, \n",
    "                    w0, args=(returns, risk_free_rate))\n",
    "    # build final set of weights\n",
    "    final_w = sp.append(w1, 1 - np.sum(w1))\n",
    "    # and calculate the final, optimized, sharpe ratio\n",
    "    final_sharpe = sharpe_ratio(returns, final_w, risk_free_rate)\n",
    "    return (final_w, final_sharpe)"
   ]
  },
  {
   "cell_type": "code",
   "execution_count": 71,
   "id": "24045c20",
   "metadata": {
    "collapsed": false,
    "jupyter": {
     "outputs_hidden": false
    }
   },
   "outputs": [
    {
     "name": "stdout",
     "output_type": "stream",
     "text": [
      "Optimization terminated successfully.\n",
      "         Current function value: -0.094229\n",
      "         Iterations: 26\n",
      "         Function evaluations: 48\n",
      "Optimal weights: [0.24619469 0.50738632 0.24641899]\n",
      "Optimal Sharpe ratio: 0.09422874317686614\n"
     ]
    },
    {
     "name": "stderr",
     "output_type": "stream",
     "text": [
      "/var/folders/dv/3stz4zmn5jn1dhpcpw10k25h0000gp/T/ipykernel_54237/2113354735.py:32: DeprecationWarning: scipy.append is deprecated and will be removed in SciPy 2.0.0, use numpy.append instead\n",
      "  final_w = sp_append(w1, 1 - np.sum(w1))\n"
     ]
    }
   ],
   "source": [
    "import numpy as np\n",
    "import pandas as pd\n",
    "from scipy.optimize import fmin\n",
    "from scipy import append as sp_append\n",
    "\n",
    "def sharpe_ratio(returns, weights, risk_free_rate):\n",
    "    \"\"\"\n",
    "    Calculate the Sharpe ratio for a portfolio.\n",
    "    \"\"\"\n",
    "    portfolio_return = np.dot(returns.mean(), weights)\n",
    "    portfolio_volatility = np.sqrt(np.dot(weights.T, np.dot(returns.cov(), weights)))\n",
    "    return (portfolio_return - risk_free_rate) / portfolio_volatility\n",
    "\n",
    "def negative_sharpe_ratio_n_minus_1_stock(weights, returns, risk_free_rate):\n",
    "    \"\"\"\n",
    "    Calculate the negative Sharpe ratio for a portfolio, excluding the last stock.\n",
    "    \"\"\"\n",
    "    full_weights = np.append(weights, 1 - np.sum(weights))\n",
    "    return -sharpe_ratio(returns, full_weights, risk_free_rate)\n",
    "\n",
    "def optimize_portfolio(returns, risk_free_rate):\n",
    "    \"\"\"\n",
    "    Perform portfolio optimization to maximize the Sharpe ratio.\n",
    "    \"\"\"\n",
    "    # Start with equal weights\n",
    "    w0 = np.ones(returns.shape[1] - 1, dtype=float) * 1.0 / (returns.shape[1])\n",
    "    \n",
    "    # Minimize the negative Sharpe ratio\n",
    "    w1 = fmin(negative_sharpe_ratio_n_minus_1_stock, w0, args=(returns, risk_free_rate))\n",
    "    \n",
    "    # Build final set of weights\n",
    "    final_w = sp_append(w1, 1 - np.sum(w1))\n",
    "    \n",
    "    # Calculate the final, optimized Sharpe ratio\n",
    "    final_sharpe = sharpe_ratio(returns, final_w, risk_free_rate)\n",
    "    \n",
    "    return (final_w, final_sharpe)\n",
    "\n",
    "# Example usage\n",
    "# Create a DataFrame of returns\n",
    "data = {\n",
    "    'AAPL': np.random.normal(0.001, 0.02, 1000),\n",
    "    'MSFT': np.random.normal(0.001, 0.02, 1000),\n",
    "    'GOOG': np.random.normal(0.001, 0.02, 1000),\n",
    "}\n",
    "returns = pd.DataFrame(data)\n",
    "\n",
    "# Assume a risk-free rate\n",
    "risk_free_rate = 0.0001\n",
    "\n",
    "# Optimize the portfolio\n",
    "optimal_weights, optimal_sharpe = optimize_portfolio(returns, risk_free_rate)\n",
    "print(\"Optimal weights:\", optimal_weights)\n",
    "print(\"Optimal Sharpe ratio:\", optimal_sharpe)"
   ]
  },
  {
   "cell_type": "markdown",
   "id": "84cc08d4",
   "metadata": {},
   "source": [
    "# Visualizing the Efficient Frontier"
   ]
  },
  {
   "cell_type": "code",
   "execution_count": 74,
   "id": "5a4d4a24",
   "metadata": {
    "collapsed": false,
    "jupyter": {
     "outputs_hidden": false
    }
   },
   "outputs": [],
   "source": [
    "def objfun(W, R, target_ret):\n",
    "    stock_mean = np.mean(R,axis=0)\n",
    "    port_mean = np.dot(W,stock_mean) # portfolio mean\n",
    "    cov=np.cov(R.T) # var-cov matrix\n",
    "    port_var = np.dot(np.dot(W,cov),W.T) # portfolio variance\n",
    "    penalty = 2000*abs(port_mean-target_ret)# penalty 4 deviation\n",
    "    return np.sqrt(port_var) + penalty # objective function"
   ]
  },
  {
   "cell_type": "code",
   "execution_count": 84,
   "id": "6c3c3b3b",
   "metadata": {
    "collapsed": false,
    "jupyter": {
     "outputs_hidden": false
    }
   },
   "outputs": [
    {
     "name": "stdout",
     "output_type": "stream",
     "text": [
      "Efficient Frontier Means: [0.0995, 0.1, 0.1005, 0.101, 0.1015]\n",
      "Efficient Frontier Stds: [0.019777, 0.019351, 0.018936, 0.018535, 0.018148]\n",
      "Efficient Frontier Weights: [array([0., 1., 0.]), array([0.02432, 0.97568, 0.     ]), array([0.04865, 0.95135, 0.     ]), array([0.07297, 0.92703, 0.     ]), array([0.0973, 0.9027, 0.    ])]\n"
     ]
    }
   ],
   "source": [
    "import numpy as np\n",
    "import pandas as pd\n",
    "from scipy.optimize import minimize\n",
    "\n",
    "# Example objective function to minimize\n",
    "def objfun(weights, returns, target_return):\n",
    "    portfolio_return = np.dot(weights, returns.mean())\n",
    "    portfolio_volatility = np.sqrt(np.dot(weights.T, np.dot(returns.cov(), weights)))\n",
    "    return portfolio_volatility\n",
    "\n",
    "def calc_efficient_frontier(returns):\n",
    "    result_means = []\n",
    "    result_stds = []\n",
    "    result_weights = []\n",
    "    \n",
    "    means = returns.mean()\n",
    "    min_mean, max_mean = means.min(), means.max()\n",
    "    \n",
    "    nstocks = returns.columns.size\n",
    "    \n",
    "    for r in np.linspace(min_mean, max_mean, 100):\n",
    "        weights = np.ones(nstocks) / nstocks\n",
    "        bounds = [(0, 1) for i in np.arange(nstocks)]\n",
    "        constraints = [{'type': 'eq', 'fun': lambda W: np.sum(W) - 1},\n",
    "                       {'type': 'eq', 'fun': lambda W: np.dot(W, returns.mean()) - r}]\n",
    "        results = minimize(objfun, weights, args=(returns, r), \n",
    "                           method='SLSQP', constraints=constraints, bounds=bounds)\n",
    "        if not results.success: # handle error\n",
    "            raise Exception(results.message)\n",
    "        result_means.append(np.round(r, 4)) # 4 decimal places\n",
    "        std_ = np.round(np.sqrt(np.dot(results.x.T, np.dot(returns.cov(), results.x))), 6)\n",
    "        result_stds.append(std_)\n",
    "        \n",
    "        result_weights.append(np.round(results.x, 5))\n",
    "    return {'Means': result_means, \n",
    "            'Stds': result_stds, \n",
    "            'Weights': result_weights}\n",
    "\n",
    "# Example usage\n",
    "# Create a DataFrame of returns\n",
    "data = {\n",
    "    'AAPL': np.random.normal(0.12, 0.02, 1000),\n",
    "    'MSFT': np.random.normal(0.10, 0.02, 1000),\n",
    "    'GOOG': np.random.normal(0.15, 0.03, 1000)\n",
    "}\n",
    "returns = pd.DataFrame(data)\n",
    "\n",
    "# Calculate the efficient frontier\n",
    "efficient_frontier = calc_efficient_frontier(returns)\n",
    "\n",
    "# Print the results\n",
    "print(\"Efficient Frontier Means:\", efficient_frontier['Means'][:5])\n",
    "print(\"Efficient Frontier Stds:\", efficient_frontier['Stds'][:5])\n",
    "print(\"Efficient Frontier Weights:\", efficient_frontier['Weights'][:5])"
   ]
  },
  {
   "cell_type": "code",
   "execution_count": 86,
   "id": "9f1d6a91",
   "metadata": {
    "collapsed": false,
    "jupyter": {
     "outputs_hidden": false
    }
   },
   "outputs": [],
   "source": [
    "# calculate our frontier\n",
    "frontier_data = calc_efficient_frontier(annual_returns)"
   ]
  },
  {
   "cell_type": "code",
   "execution_count": 88,
   "id": "dbc7e86d",
   "metadata": {
    "collapsed": false,
    "jupyter": {
     "outputs_hidden": false
    }
   },
   "outputs": [
    {
     "data": {
      "text/plain": [
       "[0.059293, 0.057201, 0.056284, 0.055399, 0.054549]"
      ]
     },
     "execution_count": 88,
     "metadata": {},
     "output_type": "execute_result"
    }
   ],
   "source": [
    "# first five risk levels\n",
    "frontier_data['Stds'][:5]"
   ]
  },
  {
   "cell_type": "code",
   "execution_count": 90,
   "id": "63f2c939",
   "metadata": {
    "collapsed": false,
    "jupyter": {
     "outputs_hidden": false
    }
   },
   "outputs": [
    {
     "data": {
      "text/plain": [
       "[0.1175, 0.1196, 0.1216, 0.1237, 0.1257]"
      ]
     },
     "execution_count": 90,
     "metadata": {},
     "output_type": "execute_result"
    }
   ],
   "source": [
    "# first five mean returns\n",
    "frontier_data['Means'][:5]"
   ]
  },
  {
   "cell_type": "code",
   "execution_count": 92,
   "id": "3a4a81e2",
   "metadata": {
    "collapsed": false,
    "jupyter": {
     "outputs_hidden": false
    }
   },
   "outputs": [
    {
     "data": {
      "text/plain": [
       "[array([0., 1., 0.]),\n",
       " array([0.006  , 0.94191, 0.0521 ]),\n",
       " array([0.01574, 0.92765, 0.05661]),\n",
       " array([0.02566, 0.91541, 0.05893]),\n",
       " array([0.03549, 0.90218, 0.06233])]"
      ]
     },
     "execution_count": 92,
     "metadata": {},
     "output_type": "execute_result"
    }
   ],
   "source": [
    "# first five sets of optimal weights\n",
    "frontier_data['Weights'][:5]"
   ]
  },
  {
   "cell_type": "code",
   "execution_count": 94,
   "id": "479e7ebc",
   "metadata": {
    "collapsed": false,
    "jupyter": {
     "outputs_hidden": false
    }
   },
   "outputs": [],
   "source": [
    "def plot_efficient_frontier(frontier_data):\n",
    "    plt.figure(figsize=(12,8))\n",
    "    plt.title('Efficient Frontier')\n",
    "    plt.xlabel('Standard Deviation of the porfolio (Risk))')\n",
    "    plt.ylabel('Return of the portfolio')\n",
    "    plt.plot(frontier_data['Stds'], frontier_data['Means'], '--'); \n",
    "    plt.savefig('5104OS_09_20.png', bbox_inches='tight', dpi=300)"
   ]
  },
  {
   "cell_type": "code",
   "execution_count": 96,
   "id": "9298dcca",
   "metadata": {
    "collapsed": false,
    "jupyter": {
     "outputs_hidden": false
    }
   },
   "outputs": [
    {
     "data": {
      "image/png": "[encoded data removed]",
      "text/plain": [
       "<Figure size 1200x800 with 1 Axes>"
      ]
     },
     "metadata": {},
     "output_type": "display_data"
    }
   ],
   "source": [
    "plot_efficient_frontier(frontier_data)"
   ]
  },
  {
   "cell_type": "markdown",
   "id": "50a6e0f9",
   "metadata": {},
   "source": [
    "# Value At Risk"
   ]
  },
  {
   "cell_type": "code",
   "execution_count": 99,
   "id": "ae11de2f",
   "metadata": {
    "collapsed": false,
    "jupyter": {
     "outputs_hidden": false
    }
   },
   "outputs": [
    {
     "name": "stderr",
     "output_type": "stream",
     "text": [
      "[*********************100%%**********************]  1 of 1 completed\n"
     ]
    },
    {
     "data": {
      "text/plain": [
       "Date\n",
       "2014-01-02    17.273\n",
       "2014-01-03    16.894\n",
       "2014-01-06    16.986\n",
       "2014-01-07    16.864\n",
       "2014-01-08    16.971\n",
       "Name: Adj Close, dtype: float64"
      ]
     },
     "execution_count": 99,
     "metadata": {},
     "output_type": "execute_result"
    }
   ],
   "source": [
    "# get adjusted close values for AAPL in 2014\n",
    "aapl_closes = get_historical_closes(['AAPL'], \n",
    "                                    datetime(2014, 1, 1),\n",
    "                                    datetime(2014, 12, 31))\n",
    "aapl_closes[:5]"
   ]
  },
  {
   "cell_type": "code",
   "execution_count": 101,
   "id": "62810acc",
   "metadata": {
    "collapsed": false,
    "jupyter": {
     "outputs_hidden": false
    }
   },
   "outputs": [
    {
     "data": {
      "text/plain": [
       "Date\n",
       "2014-01-02      NaN\n",
       "2014-01-03   -0.022\n",
       "2014-01-06    0.005\n",
       "2014-01-07   -0.007\n",
       "2014-01-08    0.006\n",
       "Name: Adj Close, dtype: float64"
      ]
     },
     "execution_count": 101,
     "metadata": {},
     "output_type": "execute_result"
    }
   ],
   "source": [
    "# now convert the daily prices to returns\n",
    "returns = calc_daily_returns(aapl_closes)\n",
    "returns[:5]"
   ]
  },
  {
   "cell_type": "code",
   "execution_count": 103,
   "id": "bf0f2b00",
   "metadata": {
    "collapsed": false,
    "jupyter": {
     "outputs_hidden": false
    }
   },
   "outputs": [
    {
     "data": {
      "image/png": "[encoded data removed]",
      "text/plain": [
       "<Figure size 1200x800 with 1 Axes>"
      ]
     },
     "metadata": {},
     "output_type": "display_data"
    }
   ],
   "source": [
    "# plot the histogram of returns\n",
    "plt.figure(figsize=(12,8))\n",
    "plt.hist(returns.values[1:], bins=100);\n",
    "plt.savefig('5104OS_09_23.png', bbox_inches='tight', dpi=300)"
   ]
  },
  {
   "cell_type": "code",
   "execution_count": 109,
   "id": "d74c133f",
   "metadata": {
    "collapsed": false,
    "jupyter": {
     "outputs_hidden": false
    }
   },
   "outputs": [
    {
     "name": "stdout",
     "output_type": "stream",
     "text": [
      "1.6448536269514722\n"
     ]
    }
   ],
   "source": [
    "import scipy.stats as spstats\n",
    "\n",
    "# Get the z-score for 95% confidence level\n",
    "z = spstats.norm.ppf(0.95)\n",
    "print(z)"
   ]
  },
  {
   "cell_type": "code",
   "execution_count": 115,
   "id": "2c1dbf07",
   "metadata": {
    "collapsed": false,
    "jupyter": {
     "outputs_hidden": false
    }
   },
   "outputs": [
    {
     "name": "stderr",
     "output_type": "stream",
     "text": [
      "[*********************100%%**********************]  1 of 1 completed\n"
     ]
    },
    {
     "data": {
      "text/plain": [
       "24636.52229309082"
      ]
     },
     "execution_count": 115,
     "metadata": {},
     "output_type": "execute_result"
    }
   ],
   "source": [
    "import yfinance as yf\n",
    "\n",
    "# Fetch historical data for AAPL\n",
    "aapl_data = yf.download('AAPL', start='2014-01-01', end='2015-01-01')\n",
    "\n",
    "# Get the closing price on 2014-12-31\n",
    "aapl_close_price = aapl_data.loc['2014-12-31', 'Adj Close']\n",
    "\n",
    "# Calculate the position value\n",
    "position = 1000 * aapl_close_price\n",
    "position"
   ]
  },
  {
   "cell_type": "code",
   "execution_count": 119,
   "id": "fdb9c3cd",
   "metadata": {
    "collapsed": false,
    "jupyter": {
     "outputs_hidden": false
    }
   },
   "outputs": [
    {
     "name": "stderr",
     "output_type": "stream",
     "text": [
      "[*********************100%%**********************]  1 of 1 completed\n"
     ]
    },
    {
     "data": {
      "text/plain": [
       "680.1131768428887"
      ]
     },
     "execution_count": 119,
     "metadata": {},
     "output_type": "execute_result"
    }
   ],
   "source": [
    "import yfinance as yf\n",
    "import numpy as np\n",
    "\n",
    "# Fetch historical data for AAPL\n",
    "aapl_data = yf.download('AAPL', start='2010-01-01', end='2015-01-01')\n",
    "\n",
    "# Calculate daily returns\n",
    "returns = aapl_data['Adj Close'].pct_change().dropna()\n",
    "\n",
    "# Get the closing price on 2014-12-31\n",
    "aapl_close_price = aapl_data.loc['2014-12-31', 'Adj Close']\n",
    "\n",
    "# Calculate the position value\n",
    "position = 1000 * aapl_close_price\n",
    "\n",
    "# Calculate the standard deviation of returns\n",
    "std = returns.std()\n",
    "\n",
    "# Get the z-score for 95% confidence level\n",
    "z = spstats.norm.ppf(0.95)\n",
    "\n",
    "# Calculate VaR\n",
    "VaR = position * (z * std)\n",
    "VaR"
   ]
  },
  {
   "cell_type": "markdown",
   "id": "cb0de1b7",
   "metadata": {},
   "source": [
    "# Misc"
   ]
  },
  {
   "cell_type": "code",
   "execution_count": 124,
   "id": "418963c0",
   "metadata": {
    "collapsed": false,
    "jupyter": {
     "outputs_hidden": false
    }
   },
   "outputs": [
    {
     "data": {
      "image/png": "[encoded data removed]",
      "text/plain": [
       "<Figure size 1200x800 with 1 Axes>"
      ]
     },
     "metadata": {},
     "output_type": "display_data"
    }
   ],
   "source": [
    "import numpy as np\n",
    "import matplotlib.pyplot as plt\n",
    "from scipy.stats import norm\n",
    "\n",
    "# Define the range for the x-axis and calculate the corresponding y-values for the normal distribution\n",
    "x = np.linspace(-4, 4, 101)\n",
    "y = norm.pdf(x) * 100\n",
    "\n",
    "# Define the range for the shaded area (99% one-tail confidence interval)\n",
    "z_score_99 = norm.ppf(0.99)\n",
    "x2 = np.linspace(-4, z_score_99, 101)\n",
    "y2 = norm.pdf(x2) * 100\n",
    "\n",
    "# Create the plot\n",
    "plt.figure(figsize=(12, 8))\n",
    "plt.plot(x, y, linewidth=2, label='Standard Normal Distribution')\n",
    "\n",
    "# Fill the area under the curve for the 99% confidence interval\n",
    "plt.fill_between(x2, 0, y2, facecolor='g', alpha=0.5, label='99% Confidence Interval')\n",
    "\n",
    "# Add labels and title\n",
    "plt.xlabel('z-score')\n",
    "plt.ylabel('Frequency %')\n",
    "plt.title('VaR based on the standard normal distribution')\n",
    "\n",
    "# Add text annotation for the confidence interval\n",
    "bbox_props = dict(boxstyle=\"rarrow,pad=0.3\", fc=\"w\", ec=\"b\", lw=2)\n",
    "plt.text(z_score_99 - 0.75, 5, \"99% VaR confidence level\", ha=\"center\", va=\"center\", \n",
    "         rotation=270, size=15, bbox=bbox_props)\n",
    "\n",
    "# Add legend and show plot\n",
    "plt.legend()\n",
    "plt.savefig('5104OS_09_21.png', bbox_inches='tight', dpi=300)\n",
    "plt.show()"
   ]
  },
  {
   "cell_type": "code",
   "execution_count": null,
   "id": "295914ee-4691-4215-9765-47ed6ab6c533",
   "metadata": {},
   "outputs": [],
   "source": []
  }
 ],
 "metadata": {
  "kernelspec": {
   "display_name": "Python 3 (ipykernel)",
   "language": "python",
   "name": "python3"
  },
  "language_info": {
   "codemirror_mode": {
    "name": "ipython",
    "version": 3
   },
   "file_extension": ".py",
   "mimetype": "text/x-python",
   "name": "python",
   "nbconvert_exporter": "python",
   "pygments_lexer": "ipython3",
   "version": "3.11.7"
  }
 },
 "nbformat": 4,
 "nbformat_minor": 5
}
