{
 "cells": [
  {
   "cell_type": "code",
   "execution_count": 3,
   "id": "8252eeb4",
   "metadata": {
    "collapsed": false,
    "jupyter": {
     "outputs_hidden": false
    }
   },
   "outputs": [],
   "source": [
    "import numpy as np\n",
    "import pandas as pd\n",
    "\n",
    "pd.set_option('display.notebook_repr_html', False)\n",
    "pd.set_option('display.max_columns', 10)\n",
    "pd.set_option('display.max_rows', 7)\n",
    "pd.set_option('precision', 7)\n",
    "\n",
    "# useful for date/time manipulations\n",
    "import datetime\n",
    "from datetime import datetime\n",
    "\n",
    "# And some items for matplotlib\n",
    "import matplotlib.pyplot as plt\n",
    "%matplotlib inline \n"
   ]
  },
  {
   "cell_type": "markdown",
   "id": "01c3b1e4",
   "metadata": {},
   "source": [
    "# Time-series data and the DatetimeIndex"
   ]
  },
  {
   "cell_type": "code",
   "execution_count": 6,
   "id": "21c194a1",
   "metadata": {
    "collapsed": false,
    "jupyter": {
     "outputs_hidden": false
    }
   },
   "outputs": [
    {
     "data": {
      "text/plain": [
       "DatetimeIndex(['2014-08-01', '2014-08-02'], dtype='datetime64[ns]', freq=None)"
      ]
     },
     "execution_count": 6,
     "metadata": {},
     "output_type": "execute_result"
    }
   ],
   "source": [
    "# create a a DatetimeIndex from an array of datetime's\n",
    "dates = [datetime(2014, 8, 1), datetime(2014, 8, 2)]\n",
    "dti = pd.DatetimeIndex(dates)\n",
    "dti"
   ]
  },
  {
   "cell_type": "code",
   "execution_count": 8,
   "id": "2c0815f5",
   "metadata": {
    "collapsed": false,
    "jupyter": {
     "outputs_hidden": false
    }
   },
   "outputs": [
    {
     "data": {
      "text/plain": [
       "pandas.core.indexes.datetimes.DatetimeIndex"
      ]
     },
     "execution_count": 8,
     "metadata": {},
     "output_type": "execute_result"
    }
   ],
   "source": [
    "# a Series given a datetime list will automatically create\n",
    "# a DatetimeIndex as its index\n",
    "np.random.seed(123456)\n",
    "ts = pd.Series(np.random.randn(2), dates)\n",
    "type(ts.index)"
   ]
  },
  {
   "cell_type": "code",
   "execution_count": 10,
   "id": "ac53e62c",
   "metadata": {
    "collapsed": false,
    "jupyter": {
     "outputs_hidden": false
    }
   },
   "outputs": [
    {
     "data": {
      "text/plain": [
       "-0.2828633443286633"
      ]
     },
     "execution_count": 10,
     "metadata": {},
     "output_type": "execute_result"
    }
   ],
   "source": [
    "# retrieve a value using a datetime object\n",
    "ts[datetime(2014, 8, 2)]"
   ]
  },
  {
   "cell_type": "code",
   "execution_count": 12,
   "id": "b2ddf6c4",
   "metadata": {
    "collapsed": false,
    "jupyter": {
     "outputs_hidden": false
    }
   },
   "outputs": [
    {
     "data": {
      "text/plain": [
       "-0.2828633443286633"
      ]
     },
     "execution_count": 12,
     "metadata": {},
     "output_type": "execute_result"
    }
   ],
   "source": [
    "# this can also be performed with a string\n",
    "ts['2014-8-2']"
   ]
  },
  {
   "cell_type": "code",
   "execution_count": 14,
   "id": "955220a4",
   "metadata": {
    "collapsed": false,
    "jupyter": {
     "outputs_hidden": false
    }
   },
   "outputs": [
    {
     "data": {
      "text/plain": [
       "2014-08-01    0.4691123\n",
       "2014-08-02   -0.2828633\n",
       "dtype: float64"
      ]
     },
     "execution_count": 14,
     "metadata": {},
     "output_type": "execute_result"
    }
   ],
   "source": [
    "# create a Series with a DatetimeIndex using strings as dates\n",
    "np.random.seed(123456)\n",
    "dates = ['2014-08-01', '2014-08-02']\n",
    "ts = pd.Series(np.random.randn(2), dates)\n",
    "ts"
   ]
  },
  {
   "cell_type": "code",
   "execution_count": 16,
   "id": "635fb7cf",
   "metadata": {
    "collapsed": false,
    "jupyter": {
     "outputs_hidden": false
    }
   },
   "outputs": [
    {
     "data": {
      "text/plain": [
       "DatetimeIndex(['2014-08-01', '2014-08-02', '2014-08-03', 'NaT'], dtype='datetime64[ns]', freq=None)"
      ]
     },
     "execution_count": 16,
     "metadata": {},
     "output_type": "execute_result"
    }
   ],
   "source": [
    "# convert a list of items to a DatetimeIndex\n",
    "dti = pd.to_datetime(['Aug 1, 2014', '2014-08-02', \n",
    "                      '2014.8.3', None])\n",
    "dti"
   ]
  },
  {
   "cell_type": "code",
   "execution_count": 18,
   "id": "577b6393",
   "metadata": {
    "collapsed": false,
    "jupyter": {
     "outputs_hidden": false
    }
   },
   "outputs": [
    {
     "ename": "ParserError",
     "evalue": "Unknown string format: foo",
     "output_type": "error",
     "traceback": [
      "\u001b[0;31m---------------------------------------------------------------------------\u001b[0m",
      "\u001b[0;31mTypeError\u001b[0m                                 Traceback (most recent call last)",
      "File \u001b[0;32m/opt/homebrew/anaconda3/lib/python3.11/site-packages/pandas/core/arrays/datetimes.py:2192\u001b[0m, in \u001b[0;36mobjects_to_datetime64ns\u001b[0;34m(data, dayfirst, yearfirst, utc, errors, require_iso8601, allow_object, allow_mixed)\u001b[0m\n\u001b[1;32m   2191\u001b[0m \u001b[38;5;28;01mtry\u001b[39;00m:\n\u001b[0;32m-> 2192\u001b[0m     values, tz_parsed \u001b[38;5;241m=\u001b[39m conversion\u001b[38;5;241m.\u001b[39mdatetime_to_datetime64(data\u001b[38;5;241m.\u001b[39mravel(\u001b[38;5;124m\"\u001b[39m\u001b[38;5;124mK\u001b[39m\u001b[38;5;124m\"\u001b[39m))\n\u001b[1;32m   2193\u001b[0m     \u001b[38;5;66;03m# If tzaware, these values represent unix timestamps, so we\u001b[39;00m\n\u001b[1;32m   2194\u001b[0m     \u001b[38;5;66;03m#  return them as i8 to distinguish from wall times\u001b[39;00m\n",
      "File \u001b[0;32m/opt/homebrew/anaconda3/lib/python3.11/site-packages/pandas/_libs/tslibs/conversion.pyx:359\u001b[0m, in \u001b[0;36mpandas._libs.tslibs.conversion.datetime_to_datetime64\u001b[0;34m()\u001b[0m\n",
      "\u001b[0;31mTypeError\u001b[0m: Unrecognized value type: <class 'str'>",
      "\nDuring handling of the above exception, another exception occurred:\n",
      "\u001b[0;31mParserError\u001b[0m                               Traceback (most recent call last)",
      "Cell \u001b[0;32mIn[18], line 4\u001b[0m\n\u001b[1;32m      1\u001b[0m \u001b[38;5;66;03m# watch out as a failure to convert an item on the list\u001b[39;00m\n\u001b[1;32m      2\u001b[0m \u001b[38;5;66;03m# to a date/time will result in the return value being a\u001b[39;00m\n\u001b[1;32m      3\u001b[0m \u001b[38;5;66;03m# NumPy array instead of a DatetimeIndex\u001b[39;00m\n\u001b[0;32m----> 4\u001b[0m dti2 \u001b[38;5;241m=\u001b[39m pd\u001b[38;5;241m.\u001b[39mto_datetime([\u001b[38;5;124m'\u001b[39m\u001b[38;5;124mAug 1, 2014\u001b[39m\u001b[38;5;124m'\u001b[39m, \u001b[38;5;124m'\u001b[39m\u001b[38;5;124mfoo\u001b[39m\u001b[38;5;124m'\u001b[39m])\n\u001b[1;32m      5\u001b[0m \u001b[38;5;28mtype\u001b[39m(dti2)\n",
      "File \u001b[0;32m/opt/homebrew/anaconda3/lib/python3.11/site-packages/pandas/core/tools/datetimes.py:912\u001b[0m, in \u001b[0;36mto_datetime\u001b[0;34m(arg, errors, dayfirst, yearfirst, utc, format, exact, unit, infer_datetime_format, origin, cache)\u001b[0m\n\u001b[1;32m    910\u001b[0m         result \u001b[38;5;241m=\u001b[39m _convert_and_box_cache(arg, cache_array)\n\u001b[1;32m    911\u001b[0m     \u001b[38;5;28;01melse\u001b[39;00m:\n\u001b[0;32m--> 912\u001b[0m         result \u001b[38;5;241m=\u001b[39m convert_listlike(arg, \u001b[38;5;28mformat\u001b[39m)\n\u001b[1;32m    913\u001b[0m \u001b[38;5;28;01melse\u001b[39;00m:\n\u001b[1;32m    914\u001b[0m     result \u001b[38;5;241m=\u001b[39m convert_listlike(np\u001b[38;5;241m.\u001b[39marray([arg]), \u001b[38;5;28mformat\u001b[39m)[\u001b[38;5;241m0\u001b[39m]\n",
      "File \u001b[0;32m/opt/homebrew/anaconda3/lib/python3.11/site-packages/pandas/core/tools/datetimes.py:401\u001b[0m, in \u001b[0;36m_convert_listlike_datetimes\u001b[0;34m(arg, format, name, tz, unit, errors, infer_datetime_format, dayfirst, yearfirst, exact)\u001b[0m\n\u001b[1;32m    399\u001b[0m \u001b[38;5;28;01massert\u001b[39;00m \u001b[38;5;28mformat\u001b[39m \u001b[38;5;129;01mis\u001b[39;00m \u001b[38;5;28;01mNone\u001b[39;00m \u001b[38;5;129;01mor\u001b[39;00m infer_datetime_format\n\u001b[1;32m    400\u001b[0m utc \u001b[38;5;241m=\u001b[39m tz \u001b[38;5;241m==\u001b[39m \u001b[38;5;124m\"\u001b[39m\u001b[38;5;124mutc\u001b[39m\u001b[38;5;124m\"\u001b[39m\n\u001b[0;32m--> 401\u001b[0m result, tz_parsed \u001b[38;5;241m=\u001b[39m objects_to_datetime64ns(\n\u001b[1;32m    402\u001b[0m     arg,\n\u001b[1;32m    403\u001b[0m     dayfirst\u001b[38;5;241m=\u001b[39mdayfirst,\n\u001b[1;32m    404\u001b[0m     yearfirst\u001b[38;5;241m=\u001b[39myearfirst,\n\u001b[1;32m    405\u001b[0m     utc\u001b[38;5;241m=\u001b[39mutc,\n\u001b[1;32m    406\u001b[0m     errors\u001b[38;5;241m=\u001b[39merrors,\n\u001b[1;32m    407\u001b[0m     require_iso8601\u001b[38;5;241m=\u001b[39mrequire_iso8601,\n\u001b[1;32m    408\u001b[0m     allow_object\u001b[38;5;241m=\u001b[39m\u001b[38;5;28;01mTrue\u001b[39;00m,\n\u001b[1;32m    409\u001b[0m )\n\u001b[1;32m    411\u001b[0m \u001b[38;5;28;01mif\u001b[39;00m tz_parsed \u001b[38;5;129;01mis\u001b[39;00m \u001b[38;5;129;01mnot\u001b[39;00m \u001b[38;5;28;01mNone\u001b[39;00m:\n\u001b[1;32m    412\u001b[0m     \u001b[38;5;66;03m# We can take a shortcut since the datetime64 numpy array\u001b[39;00m\n\u001b[1;32m    413\u001b[0m     \u001b[38;5;66;03m# is in UTC\u001b[39;00m\n\u001b[1;32m    414\u001b[0m     dta \u001b[38;5;241m=\u001b[39m DatetimeArray(result, dtype\u001b[38;5;241m=\u001b[39mtz_to_dtype(tz_parsed))\n",
      "File \u001b[0;32m/opt/homebrew/anaconda3/lib/python3.11/site-packages/pandas/core/arrays/datetimes.py:2198\u001b[0m, in \u001b[0;36mobjects_to_datetime64ns\u001b[0;34m(data, dayfirst, yearfirst, utc, errors, require_iso8601, allow_object, allow_mixed)\u001b[0m\n\u001b[1;32m   2196\u001b[0m         \u001b[38;5;28;01mreturn\u001b[39;00m values\u001b[38;5;241m.\u001b[39mview(\u001b[38;5;124m\"\u001b[39m\u001b[38;5;124mi8\u001b[39m\u001b[38;5;124m\"\u001b[39m), tz_parsed\n\u001b[1;32m   2197\u001b[0m     \u001b[38;5;28;01mexcept\u001b[39;00m (\u001b[38;5;167;01mValueError\u001b[39;00m, \u001b[38;5;167;01mTypeError\u001b[39;00m):\n\u001b[0;32m-> 2198\u001b[0m         \u001b[38;5;28;01mraise\u001b[39;00m err\n\u001b[1;32m   2200\u001b[0m \u001b[38;5;28;01mif\u001b[39;00m tz_parsed \u001b[38;5;129;01mis\u001b[39;00m \u001b[38;5;129;01mnot\u001b[39;00m \u001b[38;5;28;01mNone\u001b[39;00m:\n\u001b[1;32m   2201\u001b[0m     \u001b[38;5;66;03m# We can take a shortcut since the datetime64 numpy array\u001b[39;00m\n\u001b[1;32m   2202\u001b[0m     \u001b[38;5;66;03m#  is in UTC\u001b[39;00m\n\u001b[1;32m   2203\u001b[0m     \u001b[38;5;66;03m# Return i8 values to denote unix timestamps\u001b[39;00m\n\u001b[1;32m   2204\u001b[0m     \u001b[38;5;28;01mreturn\u001b[39;00m result\u001b[38;5;241m.\u001b[39mview(\u001b[38;5;124m\"\u001b[39m\u001b[38;5;124mi8\u001b[39m\u001b[38;5;124m\"\u001b[39m), tz_parsed\n",
      "File \u001b[0;32m/opt/homebrew/anaconda3/lib/python3.11/site-packages/pandas/core/arrays/datetimes.py:2180\u001b[0m, in \u001b[0;36mobjects_to_datetime64ns\u001b[0;34m(data, dayfirst, yearfirst, utc, errors, require_iso8601, allow_object, allow_mixed)\u001b[0m\n\u001b[1;32m   2178\u001b[0m order: Literal[\u001b[38;5;124m\"\u001b[39m\u001b[38;5;124mF\u001b[39m\u001b[38;5;124m\"\u001b[39m, \u001b[38;5;124m\"\u001b[39m\u001b[38;5;124mC\u001b[39m\u001b[38;5;124m\"\u001b[39m] \u001b[38;5;241m=\u001b[39m \u001b[38;5;124m\"\u001b[39m\u001b[38;5;124mF\u001b[39m\u001b[38;5;124m\"\u001b[39m \u001b[38;5;28;01mif\u001b[39;00m flags\u001b[38;5;241m.\u001b[39mf_contiguous \u001b[38;5;28;01melse\u001b[39;00m \u001b[38;5;124m\"\u001b[39m\u001b[38;5;124mC\u001b[39m\u001b[38;5;124m\"\u001b[39m\n\u001b[1;32m   2179\u001b[0m \u001b[38;5;28;01mtry\u001b[39;00m:\n\u001b[0;32m-> 2180\u001b[0m     result, tz_parsed \u001b[38;5;241m=\u001b[39m tslib\u001b[38;5;241m.\u001b[39marray_to_datetime(\n\u001b[1;32m   2181\u001b[0m         data\u001b[38;5;241m.\u001b[39mravel(\u001b[38;5;124m\"\u001b[39m\u001b[38;5;124mK\u001b[39m\u001b[38;5;124m\"\u001b[39m),\n\u001b[1;32m   2182\u001b[0m         errors\u001b[38;5;241m=\u001b[39merrors,\n\u001b[1;32m   2183\u001b[0m         utc\u001b[38;5;241m=\u001b[39mutc,\n\u001b[1;32m   2184\u001b[0m         dayfirst\u001b[38;5;241m=\u001b[39mdayfirst,\n\u001b[1;32m   2185\u001b[0m         yearfirst\u001b[38;5;241m=\u001b[39myearfirst,\n\u001b[1;32m   2186\u001b[0m         require_iso8601\u001b[38;5;241m=\u001b[39mrequire_iso8601,\n\u001b[1;32m   2187\u001b[0m         allow_mixed\u001b[38;5;241m=\u001b[39mallow_mixed,\n\u001b[1;32m   2188\u001b[0m     )\n\u001b[1;32m   2189\u001b[0m     result \u001b[38;5;241m=\u001b[39m result\u001b[38;5;241m.\u001b[39mreshape(data\u001b[38;5;241m.\u001b[39mshape, order\u001b[38;5;241m=\u001b[39morder)\n\u001b[1;32m   2190\u001b[0m \u001b[38;5;28;01mexcept\u001b[39;00m \u001b[38;5;167;01mValueError\u001b[39;00m \u001b[38;5;28;01mas\u001b[39;00m err:\n",
      "File \u001b[0;32m/opt/homebrew/anaconda3/lib/python3.11/site-packages/pandas/_libs/tslib.pyx:379\u001b[0m, in \u001b[0;36mpandas._libs.tslib.array_to_datetime\u001b[0;34m()\u001b[0m\n",
      "File \u001b[0;32m/opt/homebrew/anaconda3/lib/python3.11/site-packages/pandas/_libs/tslib.pyx:611\u001b[0m, in \u001b[0;36mpandas._libs.tslib.array_to_datetime\u001b[0;34m()\u001b[0m\n",
      "File \u001b[0;32m/opt/homebrew/anaconda3/lib/python3.11/site-packages/pandas/_libs/tslib.pyx:749\u001b[0m, in \u001b[0;36mpandas._libs.tslib._array_to_datetime_object\u001b[0;34m()\u001b[0m\n",
      "File \u001b[0;32m/opt/homebrew/anaconda3/lib/python3.11/site-packages/pandas/_libs/tslib.pyx:740\u001b[0m, in \u001b[0;36mpandas._libs.tslib._array_to_datetime_object\u001b[0;34m()\u001b[0m\n",
      "File \u001b[0;32m/opt/homebrew/anaconda3/lib/python3.11/site-packages/pandas/_libs/tslibs/parsing.pyx:257\u001b[0m, in \u001b[0;36mpandas._libs.tslibs.parsing.parse_datetime_string\u001b[0;34m()\u001b[0m\n",
      "File \u001b[0;32m/opt/homebrew/anaconda3/lib/python3.11/site-packages/dateutil/parser/_parser.py:1368\u001b[0m, in \u001b[0;36mparse\u001b[0;34m(timestr, parserinfo, **kwargs)\u001b[0m\n\u001b[1;32m   1366\u001b[0m     \u001b[38;5;28;01mreturn\u001b[39;00m parser(parserinfo)\u001b[38;5;241m.\u001b[39mparse(timestr, \u001b[38;5;241m*\u001b[39m\u001b[38;5;241m*\u001b[39mkwargs)\n\u001b[1;32m   1367\u001b[0m \u001b[38;5;28;01melse\u001b[39;00m:\n\u001b[0;32m-> 1368\u001b[0m     \u001b[38;5;28;01mreturn\u001b[39;00m DEFAULTPARSER\u001b[38;5;241m.\u001b[39mparse(timestr, \u001b[38;5;241m*\u001b[39m\u001b[38;5;241m*\u001b[39mkwargs)\n",
      "File \u001b[0;32m/opt/homebrew/anaconda3/lib/python3.11/site-packages/dateutil/parser/_parser.py:643\u001b[0m, in \u001b[0;36mparser.parse\u001b[0;34m(self, timestr, default, ignoretz, tzinfos, **kwargs)\u001b[0m\n\u001b[1;32m    640\u001b[0m res, skipped_tokens \u001b[38;5;241m=\u001b[39m \u001b[38;5;28mself\u001b[39m\u001b[38;5;241m.\u001b[39m_parse(timestr, \u001b[38;5;241m*\u001b[39m\u001b[38;5;241m*\u001b[39mkwargs)\n\u001b[1;32m    642\u001b[0m \u001b[38;5;28;01mif\u001b[39;00m res \u001b[38;5;129;01mis\u001b[39;00m \u001b[38;5;28;01mNone\u001b[39;00m:\n\u001b[0;32m--> 643\u001b[0m     \u001b[38;5;28;01mraise\u001b[39;00m ParserError(\u001b[38;5;124m\"\u001b[39m\u001b[38;5;124mUnknown string format: \u001b[39m\u001b[38;5;132;01m%s\u001b[39;00m\u001b[38;5;124m\"\u001b[39m, timestr)\n\u001b[1;32m    645\u001b[0m \u001b[38;5;28;01mif\u001b[39;00m \u001b[38;5;28mlen\u001b[39m(res) \u001b[38;5;241m==\u001b[39m \u001b[38;5;241m0\u001b[39m:\n\u001b[1;32m    646\u001b[0m     \u001b[38;5;28;01mraise\u001b[39;00m ParserError(\u001b[38;5;124m\"\u001b[39m\u001b[38;5;124mString does not contain a date: \u001b[39m\u001b[38;5;132;01m%s\u001b[39;00m\u001b[38;5;124m\"\u001b[39m, timestr)\n",
      "\u001b[0;31mParserError\u001b[0m: Unknown string format: foo"
     ]
    }
   ],
   "source": [
    "# watch out as a failure to convert an item on the list\n",
    "# to a date/time will result in the return value being a\n",
    "# NumPy array instead of a DatetimeIndex\n",
    "dti2 = pd.to_datetime(['Aug 1, 2014', 'foo'])\n",
    "type(dti2)"
   ]
  },
  {
   "cell_type": "code",
   "execution_count": 20,
   "id": "8416838d",
   "metadata": {
    "collapsed": false,
    "jupyter": {
     "outputs_hidden": false
    }
   },
   "outputs": [
    {
     "ename": "TypeError",
     "evalue": "to_datetime() got an unexpected keyword argument 'coerce'",
     "output_type": "error",
     "traceback": [
      "\u001b[0;31m---------------------------------------------------------------------------\u001b[0m",
      "\u001b[0;31mTypeError\u001b[0m                                 Traceback (most recent call last)",
      "Cell \u001b[0;32mIn[20], line 3\u001b[0m\n\u001b[1;32m      1\u001b[0m \u001b[38;5;66;03m# coerce pandas to convert all to datetime and a DatetimeIndex\u001b[39;00m\n\u001b[1;32m      2\u001b[0m \u001b[38;5;66;03m# substituting NaT where values can not be converted\u001b[39;00m\n\u001b[0;32m----> 3\u001b[0m pd\u001b[38;5;241m.\u001b[39mto_datetime([\u001b[38;5;124m'\u001b[39m\u001b[38;5;124mAug 1, 2014\u001b[39m\u001b[38;5;124m'\u001b[39m, \u001b[38;5;124m'\u001b[39m\u001b[38;5;124mfoo\u001b[39m\u001b[38;5;124m'\u001b[39m], coerce\u001b[38;5;241m=\u001b[39m\u001b[38;5;28;01mTrue\u001b[39;00m)\n",
      "\u001b[0;31mTypeError\u001b[0m: to_datetime() got an unexpected keyword argument 'coerce'"
     ]
    }
   ],
   "source": [
    "# coerce pandas to convert all to datetime and a DatetimeIndex\n",
    "# substituting NaT where values can not be converted\n",
    "pd.to_datetime(['Aug 1, 2014', 'foo'], coerce=True)"
   ]
  },
  {
   "cell_type": "code",
   "execution_count": 22,
   "id": "bbc5c6ae",
   "metadata": {
    "collapsed": false,
    "jupyter": {
     "outputs_hidden": false
    }
   },
   "outputs": [
    {
     "data": {
      "text/plain": [
       "(Timestamp('2014-08-01 00:00:00'), Timestamp('2014-08-01 00:00:00'))"
      ]
     },
     "execution_count": 22,
     "metadata": {},
     "output_type": "execute_result"
    }
   ],
   "source": [
    "# demonstrate two representations of the same date, one \n",
    "# month first, the other day first, converting to the \n",
    "# same date representation in pandas\n",
    "dti1 = pd.to_datetime(['8/1/2014'])\n",
    "dti2 = pd.to_datetime(['1/8/2014'], dayfirst=True)\n",
    "dti1[0], dti2[0]"
   ]
  },
  {
   "cell_type": "code",
   "execution_count": 24,
   "id": "30be44e5",
   "metadata": {
    "collapsed": false,
    "jupyter": {
     "outputs_hidden": false
    }
   },
   "outputs": [
    {
     "data": {
      "text/plain": [
       "2014-08-01    0.4691123\n",
       "2014-08-02   -0.2828633\n",
       "2014-08-03   -1.5090585\n",
       "2014-08-04   -1.1356324\n",
       "2014-08-05    1.2121120\n",
       "Freq: D, dtype: float64"
      ]
     },
     "execution_count": 24,
     "metadata": {},
     "output_type": "execute_result"
    }
   ],
   "source": [
    "# create a Series with a DatetimeIndex starting at 8/1/2014\n",
    "# and consisting of 10 consequtive days\n",
    "np.random.seed(123456)\n",
    "dates = pd.date_range('8/1/2014', periods=10)\n",
    "s1 = pd.Series(np.random.randn(10), dates)\n",
    "s1[:5]"
   ]
  },
  {
   "cell_type": "code",
   "execution_count": 38,
   "id": "78926d38",
   "metadata": {
    "collapsed": false,
    "jupyter": {
     "outputs_hidden": false
    }
   },
   "outputs": [
    {
     "name": "stderr",
     "output_type": "stream",
     "text": [
      "[*********************100%%**********************]  1 of 1 completed"
     ]
    },
    {
     "name": "stdout",
     "output_type": "stream",
     "text": [
      "                  Open        High         Low       Close   Adj Close  \\\n",
      "Date                                                                     \n",
      "2012-01-03  26.5499992  26.9599991  26.3899994  26.7700005  21.2005119   \n",
      "2012-01-04  26.8199997  27.4699993  26.7800007  27.3999996  21.6994438   \n",
      "2012-01-05  27.3799992  27.7299995  27.2900009  27.6800003  21.9211941   \n",
      "2012-01-06  27.5300007  28.1900005  27.5300007  28.1100006  22.2617207   \n",
      "2012-01-09  28.0499992  28.1000004  27.7199993  27.7399998  21.9687099   \n",
      "\n",
      "              Volume  \n",
      "Date                  \n",
      "2012-01-03  64731500  \n",
      "2012-01-04  80516100  \n",
      "2012-01-05  56081400  \n",
      "2012-01-06  99455500  \n",
      "2012-01-09  59706800  \n"
     ]
    },
    {
     "name": "stderr",
     "output_type": "stream",
     "text": [
      "\n"
     ]
    }
   ],
   "source": [
    "import yfinance as yf\n",
    "import datetime\n",
    "\n",
    "# Define the start and end dates\n",
    "start = '2012-01-01'\n",
    "end = '2013-12-30'\n",
    "\n",
    "# Fetch the data\n",
    "msft = yf.download(\"MSFT\", start=start, end=end)\n",
    "\n",
    "# Display the first five rows of the data\n",
    "print(msft.head(5))"
   ]
  },
  {
   "cell_type": "code",
   "execution_count": 40,
   "id": "249c3559",
   "metadata": {
    "collapsed": false,
    "jupyter": {
     "outputs_hidden": false
    }
   },
   "outputs": [
    {
     "data": {
      "text/plain": [
       "Date\n",
       "2012-01-03    21.2005119\n",
       "2012-01-04    21.6994438\n",
       "2012-01-05    21.9211941\n",
       "Name: Adj Close, dtype: float64"
      ]
     },
     "execution_count": 40,
     "metadata": {},
     "output_type": "execute_result"
    }
   ],
   "source": [
    "# extract just the Adj Close values\n",
    "msftAC = msft['Adj Close']\n",
    "msftAC.head(3)"
   ]
  },
  {
   "cell_type": "code",
   "execution_count": 42,
   "id": "a5d4002f",
   "metadata": {
    "collapsed": false,
    "jupyter": {
     "outputs_hidden": false
    }
   },
   "outputs": [
    {
     "data": {
      "text/plain": [
       "                  Open        High         Low       Close   Adj Close  \\\n",
       "Date                                                                     \n",
       "2012-01-03  26.5499992  26.9599991  26.3899994  26.7700005  21.2005119   \n",
       "2012-01-04  26.8199997  27.4699993  26.7800007  27.3999996  21.6994438   \n",
       "2012-01-05  27.3799992  27.7299995  27.2900009  27.6800003  21.9211941   \n",
       "\n",
       "              Volume  \n",
       "Date                  \n",
       "2012-01-03  64731500  \n",
       "2012-01-04  80516100  \n",
       "2012-01-05  56081400  "
      ]
     },
     "execution_count": 42,
     "metadata": {},
     "output_type": "execute_result"
    }
   ],
   "source": [
    "# slicing using a DatetimeIndex nicely works with dates \n",
    "# passed as strings\n",
    "msft['2012-01-01':'2012-01-05']"
   ]
  },
  {
   "cell_type": "code",
   "execution_count": 44,
   "id": "7ed813e5",
   "metadata": {
    "collapsed": false,
    "jupyter": {
     "outputs_hidden": false
    }
   },
   "outputs": [
    {
     "data": {
      "text/plain": [
       "Open         2.6549999e+01\n",
       "High         2.6959999e+01\n",
       "Low          2.6389999e+01\n",
       "Close        2.6770000e+01\n",
       "Adj Close    2.1200512e+01\n",
       "Volume       6.4731500e+07\n",
       "Name: 2012-01-03 00:00:00, dtype: float64"
      ]
     },
     "execution_count": 44,
     "metadata": {},
     "output_type": "execute_result"
    }
   ],
   "source": [
    "# returns a Series representing all the values of the \n",
    "# single row indexed by the column names\n",
    "msft.loc['2012-01-03']"
   ]
  },
  {
   "cell_type": "code",
   "execution_count": 46,
   "id": "08a71ace",
   "metadata": {
    "collapsed": false,
    "jupyter": {
     "outputs_hidden": false
    }
   },
   "outputs": [],
   "source": [
    "# this is an error as this tries to retrieve a column\n",
    "# named '2012-01-03'\n",
    "# msft['2012-01-03'] # commented to prevent killing the notebook"
   ]
  },
  {
   "cell_type": "code",
   "execution_count": 48,
   "id": "374bb15e",
   "metadata": {
    "collapsed": false,
    "jupyter": {
     "outputs_hidden": false
    }
   },
   "outputs": [
    {
     "data": {
      "text/plain": [
       "21.200511932373047"
      ]
     },
     "execution_count": 48,
     "metadata": {},
     "output_type": "execute_result"
    }
   ],
   "source": [
    "# this is a Series, so the lookup works\n",
    "msftAC['2012-01-03']"
   ]
  },
  {
   "cell_type": "code",
   "execution_count": 54,
   "id": "c12d039b",
   "metadata": {
    "collapsed": false,
    "jupyter": {
     "outputs_hidden": false
    }
   },
   "outputs": [
    {
     "data": {
      "text/plain": [
       "                  Open        High         Low       Close   Adj Close  \\\n",
       "Date                                                                     \n",
       "2012-02-01  29.7900009  30.0499992  29.7600002  29.8899994  23.6714039   \n",
       "2012-02-02  29.8999996  30.1700001  29.7099991  29.9500008  23.7189159   \n",
       "2012-02-03  30.1399994  30.3999996  30.0900002  30.2399998  23.9485855   \n",
       "2012-02-06  30.0400009  30.2199993  29.9699993  30.2000008  23.9169064   \n",
       "2012-02-07  30.1499996  30.4899998  30.0499992  30.3500004  24.0356960   \n",
       "\n",
       "              Volume  \n",
       "Date                  \n",
       "2012-02-01  67409900  \n",
       "2012-02-02  52223300  \n",
       "2012-02-03  41838500  \n",
       "2012-02-06  28039700  \n",
       "2012-02-07  39242400  "
      ]
     },
     "execution_count": 54,
     "metadata": {},
     "output_type": "execute_result"
    }
   ],
   "source": [
    "# we can lookup using partial date specifications\n",
    "# such as only year and month\n",
    "msft.loc['2012-02'].head(5)"
   ]
  },
  {
   "cell_type": "code",
   "execution_count": 56,
   "id": "516bb048",
   "metadata": {
    "collapsed": false,
    "jupyter": {
     "outputs_hidden": false
    }
   },
   "outputs": [
    {
     "data": {
      "text/plain": [
       "                  Open        High         Low       Close   Adj Close  \\\n",
       "Date                                                                     \n",
       "2012-02-01  29.7900009  30.0499992  29.7600002  29.8899994  23.6714039   \n",
       "2012-02-02  29.8999996  30.1700001  29.7099991  29.9500008  23.7189159   \n",
       "2012-02-03  30.1399994  30.3999996  30.0900002  30.2399998  23.9485855   \n",
       "2012-02-06  30.0400009  30.2199993  29.9699993  30.2000008  23.9169064   \n",
       "2012-02-07  30.1499996  30.4899998  30.0499992  30.3500004  24.0356960   \n",
       "\n",
       "              Volume  \n",
       "Date                  \n",
       "2012-02-01  67409900  \n",
       "2012-02-02  52223300  \n",
       "2012-02-03  41838500  \n",
       "2012-02-06  28039700  \n",
       "2012-02-07  39242400  "
      ]
     },
     "execution_count": 56,
     "metadata": {},
     "output_type": "execute_result"
    }
   ],
   "source": [
    "# slice starting at the beginning of Feb 2012 and \n",
    "# end on Feb 9 2012\n",
    "msft['2012-02':'2012-02-09'][:5]"
   ]
  },
  {
   "cell_type": "markdown",
   "id": "b4491c11",
   "metadata": {},
   "source": [
    "# Creating time-series with specific frequencies"
   ]
  },
  {
   "cell_type": "code",
   "execution_count": 59,
   "id": "2e21f547",
   "metadata": {
    "collapsed": false,
    "jupyter": {
     "outputs_hidden": false
    }
   },
   "outputs": [
    {
     "data": {
      "text/plain": [
       "2014-08-01 00:00:00         0\n",
       "2014-08-01 00:01:00         1\n",
       "2014-08-01 00:02:00         2\n",
       "                        ...  \n",
       "2014-10-29 23:57:00    129597\n",
       "2014-10-29 23:58:00    129598\n",
       "2014-10-29 23:59:00    129599\n",
       "Freq: T, Length: 129600, dtype: int64"
      ]
     },
     "execution_count": 59,
     "metadata": {},
     "output_type": "execute_result"
    }
   ],
   "source": [
    "# create a time-series with one minute frequency\n",
    "bymin = pd.Series(np.arange(0, 90*60*24),\n",
    "                  pd.date_range('2014-08-01', \n",
    "                                '2014-10-29 23:59:00',\n",
    "                                freq='T'))\n",
    "bymin"
   ]
  },
  {
   "cell_type": "code",
   "execution_count": 61,
   "id": "c4f4aec0",
   "metadata": {
    "collapsed": false,
    "jupyter": {
     "outputs_hidden": false
    }
   },
   "outputs": [
    {
     "data": {
      "text/plain": [
       "2014-08-01 12:30:00    750\n",
       "2014-08-01 12:31:00    751\n",
       "2014-08-01 12:32:00    752\n",
       "                      ... \n",
       "2014-08-01 12:57:00    777\n",
       "2014-08-01 12:58:00    778\n",
       "2014-08-01 12:59:00    779\n",
       "Freq: T, Length: 30, dtype: int64"
      ]
     },
     "execution_count": 61,
     "metadata": {},
     "output_type": "execute_result"
    }
   ],
   "source": [
    "# slice at the minute level\n",
    "bymin['2014-08-01 12:30':'2014-08-01 12:59']"
   ]
  },
  {
   "cell_type": "markdown",
   "id": "99c6e34e",
   "metadata": {},
   "source": [
    "# Representing intervals of time using periods"
   ]
  },
  {
   "cell_type": "code",
   "execution_count": 64,
   "id": "2a95b5d9",
   "metadata": {
    "collapsed": false,
    "jupyter": {
     "outputs_hidden": false
    }
   },
   "outputs": [
    {
     "data": {
      "text/plain": [
       "Period('2014-08', 'M')"
      ]
     },
     "execution_count": 64,
     "metadata": {},
     "output_type": "execute_result"
    }
   ],
   "source": [
    "# create a period representing a start of \n",
    "# 2014-08 and for a duration of one month\n",
    "aug2014 = pd.Period('2014-08', freq='M')\n",
    "aug2014"
   ]
  },
  {
   "cell_type": "code",
   "execution_count": 66,
   "id": "e0ee67fa",
   "metadata": {
    "collapsed": false,
    "jupyter": {
     "outputs_hidden": false
    }
   },
   "outputs": [
    {
     "data": {
      "text/plain": [
       "(Timestamp('2014-08-01 00:00:00'), Timestamp('2014-08-31 23:59:59.999999999'))"
      ]
     },
     "execution_count": 66,
     "metadata": {},
     "output_type": "execute_result"
    }
   ],
   "source": [
    "# pandas determined the following start and end\n",
    "# for the period\n",
    "aug2014.start_time, aug2014.end_time"
   ]
  },
  {
   "cell_type": "code",
   "execution_count": 68,
   "id": "673d9072",
   "metadata": {
    "collapsed": false,
    "jupyter": {
     "outputs_hidden": false
    }
   },
   "outputs": [
    {
     "data": {
      "text/plain": [
       "Period('2014-09', 'M')"
      ]
     },
     "execution_count": 68,
     "metadata": {},
     "output_type": "execute_result"
    }
   ],
   "source": [
    "# what is the one month period following the given period?\n",
    "sep2014 = aug2014 + 1\n",
    "sep2014"
   ]
  },
  {
   "cell_type": "code",
   "execution_count": 70,
   "id": "4016b271",
   "metadata": {
    "collapsed": false,
    "jupyter": {
     "outputs_hidden": false
    }
   },
   "outputs": [
    {
     "data": {
      "text/plain": [
       "(Timestamp('2014-09-01 00:00:00'), Timestamp('2014-09-30 23:59:59.999999999'))"
      ]
     },
     "execution_count": 70,
     "metadata": {},
     "output_type": "execute_result"
    }
   ],
   "source": [
    "# the calculated start and end are\n",
    "sep2014.start_time, sep2014.end_time"
   ]
  },
  {
   "cell_type": "code",
   "execution_count": 72,
   "id": "908fd491",
   "metadata": {
    "collapsed": false,
    "jupyter": {
     "outputs_hidden": false
    }
   },
   "outputs": [
    {
     "data": {
      "text/plain": [
       "PeriodIndex(['2013-01', '2013-02', '2013-03', '2013-04', '2013-05', '2013-06',\n",
       "             '2013-07', '2013-08', '2013-09', '2013-10', '2013-11', '2013-12'],\n",
       "            dtype='period[M]')"
      ]
     },
     "execution_count": 72,
     "metadata": {},
     "output_type": "execute_result"
    }
   ],
   "source": [
    "# create a pandas PeriodIndex\n",
    "mp2013 = pd.period_range('1/1/2013', '12/31/2013', freq='M')\n",
    "mp2013"
   ]
  },
  {
   "cell_type": "code",
   "execution_count": 78,
   "id": "bee41310",
   "metadata": {
    "collapsed": false,
    "jupyter": {
     "outputs_hidden": false
    }
   },
   "outputs": [
    {
     "name": "stdout",
     "output_type": "stream",
     "text": [
      "2013-01 <MonthEnd> 2013-01-01 00:00:00 2013-01-31 23:59:59.999999999\n",
      "2013-02 <MonthEnd> 2013-02-01 00:00:00 2013-02-28 23:59:59.999999999\n",
      "2013-03 <MonthEnd> 2013-03-01 00:00:00 2013-03-31 23:59:59.999999999\n",
      "2013-04 <MonthEnd> 2013-04-01 00:00:00 2013-04-30 23:59:59.999999999\n",
      "2013-05 <MonthEnd> 2013-05-01 00:00:00 2013-05-31 23:59:59.999999999\n",
      "2013-06 <MonthEnd> 2013-06-01 00:00:00 2013-06-30 23:59:59.999999999\n",
      "2013-07 <MonthEnd> 2013-07-01 00:00:00 2013-07-31 23:59:59.999999999\n",
      "2013-08 <MonthEnd> 2013-08-01 00:00:00 2013-08-31 23:59:59.999999999\n",
      "2013-09 <MonthEnd> 2013-09-01 00:00:00 2013-09-30 23:59:59.999999999\n",
      "2013-10 <MonthEnd> 2013-10-01 00:00:00 2013-10-31 23:59:59.999999999\n",
      "2013-11 <MonthEnd> 2013-11-01 00:00:00 2013-11-30 23:59:59.999999999\n",
      "2013-12 <MonthEnd> 2013-12-01 00:00:00 2013-12-31 23:59:59.999999999\n"
     ]
    }
   ],
   "source": [
    "# dump all the calculated periods\n",
    "for p in mp2013: \n",
    "    print (\"{0} {1} {2} {3}\".format(p, \n",
    "                                   p.freq, \n",
    "                                   p.start_time, \n",
    "                                   p.end_time))"
   ]
  },
  {
   "cell_type": "code",
   "execution_count": 80,
   "id": "343338ad",
   "metadata": {
    "collapsed": false,
    "jupyter": {
     "outputs_hidden": false
    }
   },
   "outputs": [
    {
     "data": {
      "text/plain": [
       "2013-01    0.4691123\n",
       "2013-02   -0.2828633\n",
       "2013-03   -1.5090585\n",
       "             ...    \n",
       "2013-10   -2.1045692\n",
       "2013-11   -0.4949293\n",
       "2013-12    1.0718038\n",
       "Freq: M, Length: 12, dtype: float64"
      ]
     },
     "execution_count": 80,
     "metadata": {},
     "output_type": "execute_result"
    }
   ],
   "source": [
    "# and now create a Series using the PeriodIndex\n",
    "np.random.seed(123456)\n",
    "ps = pd.Series(np.random.randn(12), mp2013)\n",
    "ps"
   ]
  },
  {
   "cell_type": "markdown",
   "id": "083c9a29",
   "metadata": {},
   "source": [
    "# Shifting and lagging time-series data"
   ]
  },
  {
   "cell_type": "code",
   "execution_count": 83,
   "id": "e000f7f6",
   "metadata": {
    "collapsed": false,
    "jupyter": {
     "outputs_hidden": false
    }
   },
   "outputs": [
    {
     "data": {
      "text/plain": [
       "Date\n",
       "2012-01-03    21.2005119\n",
       "2012-01-04    21.6994438\n",
       "2012-01-05    21.9211941\n",
       "2012-01-06    22.2617207\n",
       "2012-01-09    21.9687099\n",
       "Name: Adj Close, dtype: float64"
      ]
     },
     "execution_count": 83,
     "metadata": {},
     "output_type": "execute_result"
    }
   ],
   "source": [
    "# refresh our memory on the data in the MSFT closing prices Series\n",
    "msftAC[:5]"
   ]
  },
  {
   "cell_type": "code",
   "execution_count": 85,
   "id": "83ac7ac1",
   "metadata": {
    "collapsed": false,
    "jupyter": {
     "outputs_hidden": false
    }
   },
   "outputs": [
    {
     "data": {
      "text/plain": [
       "Date\n",
       "2012-01-03           NaN\n",
       "2012-01-04    21.2005119\n",
       "2012-01-05    21.6994438\n",
       "2012-01-06    21.9211941\n",
       "2012-01-09    22.2617207\n",
       "Name: Adj Close, dtype: float64"
      ]
     },
     "execution_count": 85,
     "metadata": {},
     "output_type": "execute_result"
    }
   ],
   "source": [
    "# shift the prices one index position forward\n",
    "shifted_forward = msftAC.shift(1)\n",
    "shifted_forward[:5]"
   ]
  },
  {
   "cell_type": "code",
   "execution_count": 87,
   "id": "7b60e8d2",
   "metadata": {
    "collapsed": false,
    "jupyter": {
     "outputs_hidden": false
    }
   },
   "outputs": [
    {
     "data": {
      "text/plain": [
       "(Date\n",
       " 2013-12-20    30.8747978\n",
       " 2013-12-23    30.7237720\n",
       " 2013-12-24    31.1097050\n",
       " 2013-12-26    31.4117527\n",
       " 2013-12-27    31.2859097\n",
       " Name: Adj Close, dtype: float64,\n",
       " Date\n",
       " 2013-12-20    30.4133492\n",
       " 2013-12-23    30.8747978\n",
       " 2013-12-24    30.7237720\n",
       " 2013-12-26    31.1097050\n",
       " 2013-12-27    31.4117527\n",
       " Name: Adj Close, dtype: float64)"
      ]
     },
     "execution_count": 87,
     "metadata": {},
     "output_type": "execute_result"
    }
   ],
   "source": [
    "# the last item is also shifted away \n",
    "msftAC.tail(5), shifted_forward.tail(5)"
   ]
  },
  {
   "cell_type": "code",
   "execution_count": 89,
   "id": "b6c8317c",
   "metadata": {
    "collapsed": false,
    "jupyter": {
     "outputs_hidden": false
    }
   },
   "outputs": [
    {
     "data": {
      "text/plain": [
       "Date\n",
       "2012-01-03    21.9211941\n",
       "2012-01-04    22.2617207\n",
       "2012-01-05    21.9687099\n",
       "2012-01-06    22.0478973\n",
       "2012-01-09    21.9528694\n",
       "Name: Adj Close, dtype: float64"
      ]
     },
     "execution_count": 89,
     "metadata": {},
     "output_type": "execute_result"
    }
   ],
   "source": [
    "# shift backwards 2 index labels\n",
    "shifted_backwards = msftAC.shift(-2)\n",
    "shifted_backwards[:5]"
   ]
  },
  {
   "cell_type": "code",
   "execution_count": 91,
   "id": "a812acc3",
   "metadata": {
    "collapsed": false,
    "jupyter": {
     "outputs_hidden": false
    }
   },
   "outputs": [
    {
     "data": {
      "text/plain": [
       "Date\n",
       "2013-12-20    31.1097050\n",
       "2013-12-23    31.4117527\n",
       "2013-12-24    31.2859097\n",
       "2013-12-26           NaN\n",
       "2013-12-27           NaN\n",
       "Name: Adj Close, dtype: float64"
      ]
     },
     "execution_count": 91,
     "metadata": {},
     "output_type": "execute_result"
    }
   ],
   "source": [
    "# this has resulted in 2 NaN values at \n",
    "# the end of the resulting Series\n",
    "shifted_backwards.tail(5)"
   ]
  },
  {
   "cell_type": "code",
   "execution_count": 93,
   "id": "c7956671",
   "metadata": {
    "collapsed": false,
    "jupyter": {
     "outputs_hidden": false
    }
   },
   "outputs": [
    {
     "data": {
      "text/plain": [
       "Date\n",
       "2012-01-03 00:00:01    21.2005119\n",
       "2012-01-04 00:00:01    21.6994438\n",
       "2012-01-05 00:00:01    21.9211941\n",
       "                          ...    \n",
       "2013-12-24 00:00:01    31.1097050\n",
       "2013-12-26 00:00:01    31.4117527\n",
       "2013-12-27 00:00:01    31.2859097\n",
       "Name: Adj Close, Length: 500, dtype: float64"
      ]
     },
     "execution_count": 93,
     "metadata": {},
     "output_type": "execute_result"
    }
   ],
   "source": [
    "# shift by a different frequency does not realign\n",
    "# and ends up essentially changing the index labels by\n",
    "# the specific amount of time\n",
    "msftAC.shift(1, freq=\"S\")"
   ]
  },
  {
   "cell_type": "code",
   "execution_count": 107,
   "id": "41963e63",
   "metadata": {
    "collapsed": false,
    "jupyter": {
     "outputs_hidden": false
    }
   },
   "outputs": [
    {
     "name": "stdout",
     "output_type": "stream",
     "text": [
      "Date\n",
      "2012-01-04    21.2005119\n",
      "2012-01-05    21.6994438\n",
      "2012-01-06    21.9211941\n",
      "2012-01-07    22.2617207\n",
      "2012-01-10    21.9687099\n",
      "Name: Adj Close, dtype: float64\n"
     ]
    }
   ],
   "source": [
    "# Shift the index labels by one day using shift with DateOffset\n",
    "msftAC_shifted = msftAC.shift(periods=1, freq=pd.DateOffset(days=1))\n",
    "\n",
    "# Display the first few rows of the shifted series\n",
    "print(msftAC_shifted.head(5))"
   ]
  },
  {
   "cell_type": "code",
   "execution_count": 109,
   "id": "c275c149",
   "metadata": {
    "collapsed": false,
    "jupyter": {
     "outputs_hidden": false
    }
   },
   "outputs": [
    {
     "data": {
      "text/plain": [
       "Date\n",
       "2012-01-03          NaN\n",
       "2012-01-04    0.0235340\n",
       "2012-01-05    0.0102192\n",
       "                ...    \n",
       "2013-12-24    0.0125614\n",
       "2013-12-26    0.0097091\n",
       "2013-12-27   -0.0040062\n",
       "Name: Adj Close, Length: 500, dtype: float64"
      ]
     },
     "execution_count": 109,
     "metadata": {},
     "output_type": "execute_result"
    }
   ],
   "source": [
    "# calculate the percentage change in closing price\n",
    "msftAC / msftAC.shift(1) - 1"
   ]
  },
  {
   "cell_type": "markdown",
   "id": "2a77b97b",
   "metadata": {},
   "source": [
    "# Frequency conversion of time-series data"
   ]
  },
  {
   "cell_type": "code",
   "execution_count": 112,
   "id": "58748b9e",
   "metadata": {
    "collapsed": false,
    "jupyter": {
     "outputs_hidden": false
    }
   },
   "outputs": [
    {
     "data": {
      "text/plain": [
       "Date\n",
       "2012-01-03    21.2005119\n",
       "2012-01-04    21.6994438\n",
       "Name: Adj Close, dtype: float64"
      ]
     },
     "execution_count": 112,
     "metadata": {},
     "output_type": "execute_result"
    }
   ],
   "source": [
    "# take a two item sample of the msftAC data for demonstrations\n",
    "sample = msftAC[:2]\n",
    "sample"
   ]
  },
  {
   "cell_type": "code",
   "execution_count": 114,
   "id": "a26aacf3",
   "metadata": {
    "collapsed": false,
    "jupyter": {
     "outputs_hidden": false
    }
   },
   "outputs": [
    {
     "data": {
      "text/plain": [
       "Date\n",
       "2012-01-03 00:00:00    21.2005119\n",
       "2012-01-03 01:00:00           NaN\n",
       "2012-01-03 02:00:00           NaN\n",
       "                          ...    \n",
       "2012-01-03 22:00:00           NaN\n",
       "2012-01-03 23:00:00           NaN\n",
       "2012-01-04 00:00:00    21.6994438\n",
       "Freq: H, Name: Adj Close, Length: 25, dtype: float64"
      ]
     },
     "execution_count": 114,
     "metadata": {},
     "output_type": "execute_result"
    }
   ],
   "source": [
    "# demonstrate resampling to hour intervals\n",
    "# realignment causes many NaN's\n",
    "sample.asfreq(\"H\")"
   ]
  },
  {
   "cell_type": "code",
   "execution_count": 116,
   "id": "0a75710b",
   "metadata": {
    "collapsed": false,
    "jupyter": {
     "outputs_hidden": false
    }
   },
   "outputs": [
    {
     "data": {
      "text/plain": [
       "Date\n",
       "2012-01-03 00:00:00    21.2005119\n",
       "2012-01-03 01:00:00    21.2005119\n",
       "2012-01-03 02:00:00    21.2005119\n",
       "                          ...    \n",
       "2012-01-03 22:00:00    21.2005119\n",
       "2012-01-03 23:00:00    21.2005119\n",
       "2012-01-04 00:00:00    21.6994438\n",
       "Freq: H, Name: Adj Close, Length: 25, dtype: float64"
      ]
     },
     "execution_count": 116,
     "metadata": {},
     "output_type": "execute_result"
    }
   ],
   "source": [
    "# fill NaN's with the last know non-NaN valuen\n",
    "sample.asfreq(\"H\", method=\"ffill\")"
   ]
  },
  {
   "cell_type": "code",
   "execution_count": 118,
   "id": "c81b7829",
   "metadata": {
    "collapsed": false,
    "jupyter": {
     "outputs_hidden": false
    }
   },
   "outputs": [
    {
     "data": {
      "text/plain": [
       "Date\n",
       "2012-01-03 00:00:00    21.2005119\n",
       "2012-01-03 01:00:00    21.6994438\n",
       "2012-01-03 02:00:00    21.6994438\n",
       "                          ...    \n",
       "2012-01-03 22:00:00    21.6994438\n",
       "2012-01-03 23:00:00    21.6994438\n",
       "2012-01-04 00:00:00    21.6994438\n",
       "Freq: H, Name: Adj Close, Length: 25, dtype: float64"
      ]
     },
     "execution_count": 118,
     "metadata": {},
     "output_type": "execute_result"
    }
   ],
   "source": [
    "# fill with the \"next known\" value\n",
    "sample.asfreq(\"H\", method=\"bfill\")"
   ]
  },
  {
   "cell_type": "markdown",
   "id": "15f0d8fc",
   "metadata": {},
   "source": [
    "## Up and down resampling of time-series"
   ]
  },
  {
   "cell_type": "code",
   "execution_count": 121,
   "id": "91ab1993",
   "metadata": {
    "collapsed": false,
    "jupyter": {
     "outputs_hidden": false
    }
   },
   "outputs": [
    {
     "data": {
      "text/plain": [
       "Date\n",
       "2012-01-03          NaN\n",
       "2012-01-04    1.0235340\n",
       "2012-01-05    1.0339936\n",
       "                ...    \n",
       "2013-12-24    1.4674035\n",
       "2013-12-26    1.4816507\n",
       "2013-12-27    1.4757148\n",
       "Name: Adj Close, Length: 500, dtype: float64"
      ]
     },
     "execution_count": 121,
     "metadata": {},
     "output_type": "execute_result"
    }
   ],
   "source": [
    "# calculate the cumulative daily returns for MSFT\n",
    "msft_cum_ret = (1 + (msftAC / msftAC.shift() - 1)).cumprod()\n",
    "msft_cum_ret"
   ]
  },
  {
   "cell_type": "code",
   "execution_count": 123,
   "id": "f4eb4daf",
   "metadata": {
    "collapsed": false,
    "jupyter": {
     "outputs_hidden": false
    }
   },
   "outputs": [
    {
     "data": {
      "text/plain": [
       "<pandas.core.resample.DatetimeIndexResampler object at 0x325f62f10>"
      ]
     },
     "execution_count": 123,
     "metadata": {},
     "output_type": "execute_result"
    }
   ],
   "source": [
    "# resample to a monthly cumulative return\n",
    "msft_monthly_cum_ret = msft_cum_ret.resample(\"M\")\n",
    "msft_monthly_cum_ret"
   ]
  },
  {
   "cell_type": "code",
   "execution_count": 125,
   "id": "87453b02",
   "metadata": {
    "collapsed": false,
    "jupyter": {
     "outputs_hidden": false
    }
   },
   "outputs": [
    {
     "data": {
      "text/plain": [
       "1.0686747873246352"
      ]
     },
     "execution_count": 125,
     "metadata": {},
     "output_type": "execute_result"
    }
   ],
   "source": [
    "# verify the monthly average for 2012-01\n",
    "msft_cum_ret['2012-01'].mean()"
   ]
  },
  {
   "cell_type": "code",
   "execution_count": 131,
   "id": "0e154925",
   "metadata": {
    "collapsed": false,
    "jupyter": {
     "outputs_hidden": false
    }
   },
   "outputs": [
    {
     "name": "stdout",
     "output_type": "stream",
     "text": [
      "Date\n",
      "2012-01-31    0.0652410\n",
      "2012-02-29    0.1556976\n",
      "2012-03-31    0.2105697\n",
      "                ...    \n",
      "2013-10-31    0.3503986\n",
      "2013-11-30    0.4719148\n",
      "2013-12-31    0.4827126\n",
      "Freq: M, Name: Cumulative Return, Length: 24, dtype: float64\n"
     ]
    }
   ],
   "source": [
    "# Calculate cumulative returns\n",
    "msft['Cumulative Return'] = (msft['Adj Close'] / msft['Adj Close'].iloc[0]) - 1\n",
    "\n",
    "# Resample cumulative returns on a monthly basis and take the mean (default behavior)\n",
    "msft_cum_ret = msft['Cumulative Return']\n",
    "msft_cum_ret_resampled = msft_cum_ret.resample(\"M\").mean()\n",
    "\n",
    "print(msft_cum_ret_resampled)"
   ]
  },
  {
   "cell_type": "code",
   "execution_count": 135,
   "id": "1a3740ff",
   "metadata": {
    "collapsed": false,
    "jupyter": {
     "outputs_hidden": false
    }
   },
   "outputs": [
    {
     "name": "stdout",
     "output_type": "stream",
     "text": [
      "                  Open                                            High  ...  \\\n",
      "                  open        high         low       close        open  ...   \n",
      "Date                                                                    ...   \n",
      "2012-01-31  26.5499992  29.6599998  26.5499992  29.6599998  26.9599991  ...   \n",
      "2012-02-29  29.7900009  31.8899994  29.7900009  31.8899994  30.0499992  ...   \n",
      "2012-03-31  31.9300003  32.9099998  31.5400009  32.4000015  32.3899994  ...   \n",
      "2012-04-30  32.2200012  32.3100014  30.4300003  31.9799995  32.4599991  ...   \n",
      "2012-05-31  32.0499992  32.0499992  29.1000004  29.2999992  32.3400002  ...   \n",
      "\n",
      "              Volume Cumulative Return                                   \n",
      "               close              open       high        low      close  \n",
      "Date                                                                     \n",
      "2012-01-31  50572400         0.0000000  0.1105718  0.0000000  0.1031005  \n",
      "2012-02-29  59323600         0.1165487  0.1983492  0.1165487  0.1934614  \n",
      "2012-03-31  31749400         0.2141420  0.2351983  0.1866927  0.2130134  \n",
      "2012-04-30  35697200         0.2141420  0.2190299  0.1411955  0.2039896  \n",
      "2012-05-31  39134000         0.2036135  0.2036135  0.0998597  0.1047799  \n",
      "\n",
      "[5 rows x 28 columns]\n"
     ]
    }
   ],
   "source": [
    "# Resample to monthly and get open, high, low, close\n",
    "msft_monthly_ohlc = msft.resample(\"M\").ohlc()\n",
    "\n",
    "# Display the first 5 rows\n",
    "print(msft_monthly_ohlc.head(5))"
   ]
  },
  {
   "cell_type": "code",
   "execution_count": 139,
   "id": "7bfa9d27",
   "metadata": {
    "collapsed": false,
    "jupyter": {
     "outputs_hidden": false
    }
   },
   "outputs": [
    {
     "name": "stdout",
     "output_type": "stream",
     "text": [
      "2012-01-01 00:00:00:2012-01-31 23:59:59.999999999 0.06524104795840355\n",
      "2012-02-01 00:00:00:2012-02-29 23:59:59.999999999 0.155697562629249\n",
      "2012-03-01 00:00:00:2012-03-31 23:59:59.999999999 0.21056972125754314\n",
      "2012-04-01 00:00:00:2012-04-30 23:59:59.999999999 0.18464369968477326\n",
      "2012-05-01 00:00:00:2012-05-31 23:59:59.999999999 0.14051601482311069\n"
     ]
    }
   ],
   "source": [
    "# Calculate cumulative returns\n",
    "msft['Cumulative Return'] = (msft['Adj Close'] / msft['Adj Close'].iloc[0]) - 1\n",
    "\n",
    "# Resample to monthly periods and calculate the mean\n",
    "by_periods = msft['Cumulative Return'].resample('M', kind='period').mean()\n",
    "\n",
    "# Print the start and end times along with the mean values\n",
    "for i in by_periods.index[:5]:\n",
    "    print(f\"{i.start_time}:{i.end_time} {by_periods[i]}\")"
   ]
  },
  {
   "cell_type": "code",
   "execution_count": 141,
   "id": "37ed15e3",
   "metadata": {
    "collapsed": false,
    "jupyter": {
     "outputs_hidden": false
    }
   },
   "outputs": [
    {
     "data": {
      "text/plain": [
       "Date\n",
       "2012-01-04    0.0235340\n",
       "2012-01-05    0.0339936\n",
       "Name: Cumulative Return, dtype: float64"
      ]
     },
     "execution_count": 141,
     "metadata": {},
     "output_type": "execute_result"
    }
   ],
   "source": [
    "# upsampling will be demonstrated using the second\n",
    "# and third values (first is NaN)\n",
    "sample = msft_cum_ret[1:3]\n",
    "sample"
   ]
  },
  {
   "cell_type": "code",
   "execution_count": 143,
   "id": "66d60e03",
   "metadata": {
    "collapsed": false,
    "jupyter": {
     "outputs_hidden": false
    }
   },
   "outputs": [
    {
     "data": {
      "text/plain": [
       "<pandas.core.resample.DatetimeIndexResampler object at 0x3273abbd0>"
      ]
     },
     "execution_count": 143,
     "metadata": {},
     "output_type": "execute_result"
    }
   ],
   "source": [
    "# upsampling this will have a lot of NaN's\n",
    "by_hour = sample.resample(\"H\")\n",
    "by_hour"
   ]
  },
  {
   "cell_type": "code",
   "execution_count": 145,
   "id": "2a7b025d",
   "metadata": {
    "collapsed": false,
    "jupyter": {
     "outputs_hidden": false
    }
   },
   "outputs": [
    {
     "data": {
      "text/plain": [
       "Date\n",
       "2012-01-04 00:00:00    0.0235340\n",
       "2012-01-04 01:00:00    0.0239698\n",
       "2012-01-04 02:00:00    0.0244056\n",
       "                         ...    \n",
       "2012-01-04 22:00:00    0.0331220\n",
       "2012-01-04 23:00:00    0.0335578\n",
       "2012-01-05 00:00:00    0.0339936\n",
       "Freq: H, Name: Cumulative Return, Length: 25, dtype: float64"
      ]
     },
     "execution_count": 145,
     "metadata": {},
     "output_type": "execute_result"
    }
   ],
   "source": [
    "by_hour.interpolate()"
   ]
  }
 ],
 "metadata": {
  "kernelspec": {
   "display_name": "Python 3 (ipykernel)",
   "language": "python",
   "name": "python3"
  },
  "language_info": {
   "codemirror_mode": {
    "name": "ipython",
    "version": 3
   },
   "file_extension": ".py",
   "mimetype": "text/x-python",
   "name": "python",
   "nbconvert_exporter": "python",
   "pygments_lexer": "ipython3",
   "version": "3.11.7"
  }
 },
 "nbformat": 4,
 "nbformat_minor": 5
}
