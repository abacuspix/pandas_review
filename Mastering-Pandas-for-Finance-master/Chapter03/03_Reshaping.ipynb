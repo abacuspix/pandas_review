{
 "cells": [
  {
   "cell_type": "markdown",
   "id": "a763f6e7",
   "metadata": {},
   "source": [
    "# Reshaping, Reorganizing and Aggregation"
   ]
  },
  {
   "cell_type": "code",
   "execution_count": 1,
   "id": "64e25138",
   "metadata": {
    "collapsed": false,
    "jupyter": {
     "outputs_hidden": false
    }
   },
   "outputs": [],
   "source": [
    "# import pandas and NumPy\n",
    "import pandas as pd\n",
    "import numpy as np\n",
    "\n",
    "# date and time functions\n",
    "import datetime\n",
    "\n",
    "# bring in matplotlib and draw inline\n",
    "import matplotlib.pyplot as plt\n",
    "%matplotlib inline\n",
    "\n",
    "# Set some Pandas options\n",
    "pd.set_option('display.notebook_repr_html', False)\n",
    "pd.set_option('display.max_columns', 15)\n",
    "pd.set_option('display.max_rows', 8)\n",
    "pd.set_option('precision', 3)"
   ]
  },
  {
   "cell_type": "markdown",
   "id": "446a4e0b",
   "metadata": {},
   "source": [
    "## Loading historical stock data from the web or from files"
   ]
  },
  {
   "cell_type": "markdown",
   "id": "992822ae",
   "metadata": {},
   "source": [
    "### From Web"
   ]
  },
  {
   "cell_type": "code",
   "execution_count": 43,
   "id": "1155fa9b",
   "metadata": {
    "collapsed": false,
    "jupyter": {
     "outputs_hidden": false
    }
   },
   "outputs": [
    {
     "name": "stderr",
     "output_type": "stream",
     "text": [
      "[*********************100%%**********************]  1 of 1 completed\n",
      "[*********************100%%**********************]  1 of 1 completed"
     ]
    },
    {
     "name": "stdout",
     "output_type": "stream",
     "text": [
      "             Open   High    Low  Close  Adj Close    Volume\n",
      "Date                                                       \n",
      "2012-01-03  26.55  26.96  26.39  26.77     21.201  64731500\n",
      "2012-01-04  26.82  27.47  26.78  27.40     21.699  80516100\n",
      "2012-01-05  27.38  27.73  27.29  27.68     21.921  56081400\n",
      "2012-01-06  27.53  28.19  27.53  28.11     22.262  99455500\n",
      "2012-01-09  28.05  28.10  27.72  27.74     21.969  59706800\n",
      "              Open    High     Low   Close  Adj Close     Volume\n",
      "Date                                                            \n",
      "2012-01-03  14.621  14.732  14.607  14.687     12.417  302220800\n",
      "2012-01-04  14.643  14.810  14.617  14.766     12.484  260022000\n",
      "2012-01-05  14.820  14.948  14.738  14.930     12.622  271269600\n",
      "2012-01-06  14.992  15.098  14.972  15.086     12.754  318292800\n",
      "2012-01-09  15.196  15.277  15.048  15.062     12.734  394024400\n"
     ]
    },
    {
     "name": "stderr",
     "output_type": "stream",
     "text": [
      "\n"
     ]
    }
   ],
   "source": [
    "import yfinance as yf\n",
    "import datetime\n",
    "\n",
    "# Start and end dates\n",
    "start = datetime.datetime(2012, 1, 1)\n",
    "end = datetime.datetime(2012, 12, 30)\n",
    "\n",
    "# Load the data\n",
    "msft = yf.download(\"MSFT\", start=start, end=end)\n",
    "aapl = yf.download(\"AAPL\", start=start, end=end)\n",
    "\n",
    "# Optional: Save the data to file\n",
    "msft.to_csv(\"msft.csv\")\n",
    "aapl.to_csv(\"aapl.csv\")\n",
    "\n",
    "# Display the first few rows of each DataFrame\n",
    "print(msft.head())\n",
    "print(aapl.head())"
   ]
  },
  {
   "cell_type": "markdown",
   "id": "c64532ee",
   "metadata": {},
   "source": [
    "### From file"
   ]
  },
  {
   "cell_type": "code",
   "execution_count": 46,
   "id": "026ddb5a",
   "metadata": {
    "collapsed": false,
    "jupyter": {
     "outputs_hidden": false
    }
   },
   "outputs": [],
   "source": [
    "# read the Microsoft and Apple data from file\n",
    "msft = pd.read_csv(\"msft.csv\", index_col=0, parse_dates=True)\n",
    "aapl = pd.read_csv(\"aapl.csv\", index_col=0, parse_dates=True)"
   ]
  },
  {
   "cell_type": "markdown",
   "id": "679044f7",
   "metadata": {},
   "source": [
    "### Organizing the data for the examples"
   ]
  },
  {
   "cell_type": "code",
   "execution_count": 49,
   "id": "4c96cb53",
   "metadata": {
    "collapsed": false,
    "jupyter": {
     "outputs_hidden": false
    }
   },
   "outputs": [
    {
     "data": {
      "text/plain": [
       "             Open   High    Low  Close  Adj Close    Volume\n",
       "Date                                                       \n",
       "2012-01-03  26.55  26.96  26.39  26.77     21.201  64731500\n",
       "2012-01-04  26.82  27.47  26.78  27.40     21.699  80516100\n",
       "2012-01-05  27.38  27.73  27.29  27.68     21.921  56081400"
      ]
     },
     "execution_count": 49,
     "metadata": {},
     "output_type": "execute_result"
    }
   ],
   "source": [
    "msft[:3]"
   ]
  },
  {
   "cell_type": "code",
   "execution_count": 51,
   "id": "e5cf4e20",
   "metadata": {
    "collapsed": false,
    "jupyter": {
     "outputs_hidden": false
    }
   },
   "outputs": [
    {
     "data": {
      "text/plain": [
       "              Open    High     Low   Close  Adj Close     Volume\n",
       "Date                                                            \n",
       "2012-01-03  14.621  14.732  14.607  14.687     12.417  302220800\n",
       "2012-01-04  14.643  14.810  14.617  14.766     12.484  260022000\n",
       "2012-01-05  14.820  14.948  14.738  14.930     12.622  271269600"
      ]
     },
     "execution_count": 51,
     "metadata": {},
     "output_type": "execute_result"
    }
   ],
   "source": [
    "aapl[:3]"
   ]
  },
  {
   "cell_type": "markdown",
   "id": "f25ebb90",
   "metadata": {},
   "source": [
    "# Reorganizing and reshaping data"
   ]
  },
  {
   "cell_type": "markdown",
   "id": "e0a0a466",
   "metadata": {},
   "source": [
    "## Concatenating data in Multiple DataFrame objects"
   ]
  },
  {
   "cell_type": "code",
   "execution_count": 57,
   "id": "fd818970",
   "metadata": {
    "collapsed": false,
    "jupyter": {
     "outputs_hidden": false
    }
   },
   "outputs": [
    {
     "name": "stdout",
     "output_type": "stream",
     "text": [
      "            Adj Close\n",
      "Date                 \n",
      "2012-01-03     21.201\n",
      "2012-01-04     21.699\n",
      "2012-01-05     21.921\n"
     ]
    }
   ],
   "source": [
    "\n",
    "# Get adjusted close data for Jan and Feb 2012 using loc\n",
    "msftA01 = msft.loc['2012-01', ['Adj Close']]\n",
    "msftA02 = msft.loc['2012-02', ['Adj Close']]\n",
    "\n",
    "# Display the first three rows of January 2012\n",
    "print(msftA01.head(3))"
   ]
  },
  {
   "cell_type": "code",
   "execution_count": 59,
   "id": "2135e9af",
   "metadata": {
    "collapsed": false,
    "jupyter": {
     "outputs_hidden": false
    }
   },
   "outputs": [
    {
     "data": {
      "text/plain": [
       "            Adj Close\n",
       "Date                 \n",
       "2012-02-01     23.671\n",
       "2012-02-02     23.719\n",
       "2012-02-03     23.949"
      ]
     },
     "execution_count": 59,
     "metadata": {},
     "output_type": "execute_result"
    }
   ],
   "source": [
    "msftA02[:3]"
   ]
  },
  {
   "cell_type": "code",
   "execution_count": 61,
   "id": "327f502f",
   "metadata": {
    "collapsed": false,
    "jupyter": {
     "outputs_hidden": false
    }
   },
   "outputs": [
    {
     "data": {
      "text/plain": [
       "            Adj Close\n",
       "Date                 \n",
       "2012-01-03     21.201\n",
       "2012-01-04     21.699\n",
       "2012-01-05     21.921\n",
       "2012-02-01     23.671\n",
       "2012-02-02     23.719\n",
       "2012-02-03     23.949"
      ]
     },
     "execution_count": 61,
     "metadata": {},
     "output_type": "execute_result"
    }
   ],
   "source": [
    "# combine the first three rows of each of msftA01 and msftA02\n",
    "pd.concat([msftA01.head(3), msftA02.head(3)])"
   ]
  },
  {
   "cell_type": "code",
   "execution_count": 67,
   "id": "a7403967",
   "metadata": {
    "collapsed": false,
    "jupyter": {
     "outputs_hidden": false
    }
   },
   "outputs": [
    {
     "name": "stdout",
     "output_type": "stream",
     "text": [
      "                  Adj Close\n",
      "Stock Date                 \n",
      "MSFT  2012-01-03     21.201\n",
      "      2012-01-04     21.699\n",
      "      2012-01-05     21.921\n",
      "AAPL  2012-01-03     12.417\n",
      "      2012-01-04     12.484\n",
      "      2012-01-05     12.622\n"
     ]
    }
   ],
   "source": [
    "# Extract only the Jan 2012 AAPL values using loc\n",
    "aaplA01 = aapl.loc['2012-01', ['Adj Close']]\n",
    "\n",
    "# Extract the Jan 2012 MSFT values using loc\n",
    "msftA01 = msft.loc['2012-01', ['Adj Close']]\n",
    "\n",
    "# Concatenate the AAPL and MSFT Jan 2012 data, there will be duplicate index labels\n",
    "withDups = pd.concat([msftA01[:3], aaplA01[:3]], keys=['MSFT', 'AAPL'], names=['Stock', 'Date'])\n",
    "\n",
    "print(withDups)"
   ]
  },
  {
   "cell_type": "code",
   "execution_count": 71,
   "id": "83be0f62",
   "metadata": {
    "collapsed": false,
    "jupyter": {
     "outputs_hidden": false
    }
   },
   "outputs": [
    {
     "name": "stdout",
     "output_type": "stream",
     "text": [
      "                  Adj Close\n",
      "Stock Date                 \n",
      "MSFT  2012-01-03     21.201\n",
      "AAPL  2012-01-03     12.417\n"
     ]
    }
   ],
   "source": [
    "# Show the two records for the date 2012-01-03\n",
    "records_2012_01_03 = withDups.loc[(slice(None), '2012-01-03'), :]\n",
    "print(records_2012_01_03)"
   ]
  },
  {
   "cell_type": "code",
   "execution_count": 73,
   "id": "f4198af3",
   "metadata": {
    "collapsed": false,
    "jupyter": {
     "outputs_hidden": false
    }
   },
   "outputs": [
    {
     "data": {
      "text/plain": [
       "                 Adj Close\n",
       "     Date                 \n",
       "MSFT 2012-01-03     21.201\n",
       "     2012-01-04     21.699\n",
       "     2012-01-05     21.921\n",
       "AAPL 2012-01-03     12.417\n",
       "     2012-01-04     12.484\n",
       "     2012-01-05     12.622"
      ]
     },
     "execution_count": 73,
     "metadata": {},
     "output_type": "execute_result"
    }
   ],
   "source": [
    "# demonstrate concat with a specification of the \n",
    "# stock tickets being part of the index\n",
    "# this help disambiguate the duplicate dates using\n",
    "# a hierarchal index\n",
    "closes = pd.concat([msftA01[:3], aaplA01[:3]], \n",
    "                    keys=['MSFT', 'AAPL'])\n",
    "closes"
   ]
  },
  {
   "cell_type": "code",
   "execution_count": 77,
   "id": "c36951e4",
   "metadata": {
    "collapsed": false,
    "jupyter": {
     "outputs_hidden": false
    }
   },
   "outputs": [
    {
     "name": "stdout",
     "output_type": "stream",
     "text": [
      "            Adj Close\n",
      "Date                 \n",
      "2012-01-03     21.201\n",
      "2012-01-04     21.699\n",
      "2012-01-05     21.921\n"
     ]
    }
   ],
   "source": [
    "# Extract just MSFT values using loc and show the first three rows\n",
    "msft_values = withDups.loc['MSFT'][:3]\n",
    "print(msft_values)"
   ]
  },
  {
   "cell_type": "code",
   "execution_count": 79,
   "id": "e5751276",
   "metadata": {
    "collapsed": false,
    "jupyter": {
     "outputs_hidden": false
    }
   },
   "outputs": [
    {
     "data": {
      "text/plain": [
       "            Adj Close     Volume\n",
       "Date                            \n",
       "2012-01-03     21.201   64731500\n",
       "2012-01-04     21.699   80516100\n",
       "2012-01-05     21.921   56081400\n",
       "2012-01-06     22.262   99455500\n",
       "...               ...        ...\n",
       "2012-12-24     15.846  175753200\n",
       "2012-12-26     15.627  302436400\n",
       "2012-12-27     15.690  455120400\n",
       "2012-12-28     15.524  354278400\n",
       "\n",
       "[498 rows x 2 columns]"
      ]
     },
     "execution_count": 79,
     "metadata": {},
     "output_type": "execute_result"
    }
   ],
   "source": [
    "# demonstrate concatenation using two DataFrame's\n",
    "# that each have two columns.  pandas will align the\n",
    "# data in columns by the column names (labels)\n",
    "msftAV = msft[['Adj Close', 'Volume']]\n",
    "aaplAV = aapl[['Adj Close', 'Volume']]\n",
    "pd.concat([msftAV, aaplAV])"
   ]
  },
  {
   "cell_type": "code",
   "execution_count": 81,
   "id": "20dd3239",
   "metadata": {
    "collapsed": false,
    "jupyter": {
     "outputs_hidden": false
    }
   },
   "outputs": [
    {
     "data": {
      "text/plain": [
       "            Adj Close     Volume\n",
       "Date                            \n",
       "2012-01-03     21.201  6.473e+07\n",
       "2012-01-04     21.699  8.052e+07\n",
       "2012-01-05     21.921  5.608e+07\n",
       "2012-01-06     22.262  9.946e+07\n",
       "...               ...        ...\n",
       "2012-12-24     15.846        NaN\n",
       "2012-12-26     15.627        NaN\n",
       "2012-12-27     15.690        NaN\n",
       "2012-12-28     15.524        NaN\n",
       "\n",
       "[498 rows x 2 columns]"
      ]
     },
     "execution_count": 81,
     "metadata": {},
     "output_type": "execute_result"
    }
   ],
   "source": [
    "# demonstrate concatenation with DataFrame objects\n",
    "# that do not have the same set of columns\n",
    "# this demonstrates pandas filling in NaN values\n",
    "aaplA = aapl[['Adj Close']]\n",
    "pd.concat([msftAV, aaplA])"
   ]
  },
  {
   "cell_type": "code",
   "execution_count": 83,
   "id": "19990f80",
   "metadata": {
    "collapsed": false,
    "jupyter": {
     "outputs_hidden": false
    }
   },
   "outputs": [
    {
     "data": {
      "text/plain": [
       "            Adj Close\n",
       "Date                 \n",
       "2012-01-03     21.201\n",
       "2012-01-04     21.699\n",
       "2012-01-05     21.921\n",
       "2012-01-06     22.262\n",
       "...               ...\n",
       "2012-12-24     15.846\n",
       "2012-12-26     15.627\n",
       "2012-12-27     15.690\n",
       "2012-12-28     15.524\n",
       "\n",
       "[498 rows x 1 columns]"
      ]
     },
     "execution_count": 83,
     "metadata": {},
     "output_type": "execute_result"
    }
   ],
   "source": [
    "# perform an inner join on the DataFrame's\n",
    "# since aaplA does not have a Volume column, pandas\n",
    "# will not include that column in the result\n",
    "pd.concat([msftAV, aaplA], join='inner')"
   ]
  },
  {
   "cell_type": "code",
   "execution_count": 85,
   "id": "4a82ab2d",
   "metadata": {
    "collapsed": false,
    "jupyter": {
     "outputs_hidden": false
    }
   },
   "outputs": [
    {
     "data": {
      "text/plain": [
       "            Adj Close  Adj Close\n",
       "Date                            \n",
       "2012-01-03     21.201     12.417\n",
       "2012-01-04     21.699     12.484\n",
       "2012-01-05     21.921     12.622"
      ]
     },
     "execution_count": 85,
     "metadata": {},
     "output_type": "execute_result"
    }
   ],
   "source": [
    "# concat along the rows, causing duplicate columns to\n",
    "# be created in the result\n",
    "msftA = msft[['Adj Close']]\n",
    "closes = pd.concat([msftA, aaplA], axis=1)\n",
    "closes[:3]"
   ]
  },
  {
   "cell_type": "code",
   "execution_count": 87,
   "id": "9872af4d",
   "metadata": {
    "collapsed": false,
    "jupyter": {
     "outputs_hidden": false
    }
   },
   "outputs": [
    {
     "data": {
      "text/plain": [
       "                MSFT                AAPL           \n",
       "           Adj Close    Volume Adj Close     Volume\n",
       "Date                                               \n",
       "2012-01-03    21.201  64731500    12.417  3.022e+08\n",
       "2012-01-04    21.699  80516100    12.484  2.600e+08\n",
       "2012-01-05    21.921  56081400    12.622  2.713e+08\n",
       "2012-01-06    22.262  99455500       NaN        NaN\n",
       "2012-01-09    21.969  59706800       NaN        NaN"
      ]
     },
     "execution_count": 87,
     "metadata": {},
     "output_type": "execute_result"
    }
   ],
   "source": [
    "# concat along rows using two DataFrame objects with\n",
    "# different number of rows. This demonstrates how\n",
    "# NaN values will be filled in those rows for AAPL\n",
    "# which only hase three rows as compared to 5 for MSFT\n",
    "pd.concat([msftAV[:5], aaplAV[:3]], axis=1,\n",
    "          keys=['MSFT', 'AAPL'])"
   ]
  },
  {
   "cell_type": "code",
   "execution_count": 89,
   "id": "1d9b69d3",
   "metadata": {
    "collapsed": false,
    "jupyter": {
     "outputs_hidden": false
    }
   },
   "outputs": [
    {
     "data": {
      "text/plain": [
       "                MSFT      AAPL\n",
       "           Adj Close Adj Close\n",
       "Date                          \n",
       "2012-01-03    21.201    12.417\n",
       "2012-01-04    21.699    12.484\n",
       "2012-01-05    21.921    12.622"
      ]
     },
     "execution_count": 89,
     "metadata": {},
     "output_type": "execute_result"
    }
   ],
   "source": [
    "# inner join can also be used along this axis\n",
    "# this will not include rows with index labels that do\n",
    "# not exist in both DataFrame objects\n",
    "pd.concat([msftA[:5], aaplA[:3]], axis=1,\n",
    "          join='inner', keys=['MSFT', 'AAPL'])"
   ]
  },
  {
   "cell_type": "code",
   "execution_count": 91,
   "id": "b1d66880",
   "metadata": {
    "collapsed": false,
    "jupyter": {
     "outputs_hidden": false
    }
   },
   "outputs": [
    {
     "data": {
      "text/plain": [
       "   Adj Close\n",
       "0     21.201\n",
       "1     21.699\n",
       "2     21.921\n",
       "3     12.417\n",
       "4     12.484\n",
       "5     12.622"
      ]
     },
     "execution_count": 91,
     "metadata": {},
     "output_type": "execute_result"
    }
   ],
   "source": [
    "# ignore indexes and just concatenate the data and\n",
    "# have the result have a default integer index\n",
    "pd.concat([msftA[:3], aaplA[:3]], ignore_index=True)"
   ]
  },
  {
   "cell_type": "markdown",
   "id": "8785be5c",
   "metadata": {},
   "source": [
    "## Merging DataFrame objects"
   ]
  },
  {
   "cell_type": "code",
   "execution_count": 94,
   "id": "f65bc211",
   "metadata": {
    "collapsed": false,
    "jupyter": {
     "outputs_hidden": false
    }
   },
   "outputs": [
    {
     "data": {
      "text/plain": [
       "        Date  Adj Close\n",
       "0 2012-01-03     21.201\n",
       "1 2012-01-04     21.699\n",
       "2 2012-01-05     21.921"
      ]
     },
     "execution_count": 94,
     "metadata": {},
     "output_type": "execute_result"
    }
   ],
   "source": [
    "# we will merge these two DataFrame objects, \n",
    "# so lets peek at the data to remind ourselves\n",
    "# of what they contain\n",
    "msftAR = msftA.reset_index()\n",
    "msftVR = msft[['Volume']].reset_index()\n",
    "msftAR[:3]"
   ]
  },
  {
   "cell_type": "code",
   "execution_count": 96,
   "id": "1b4ee2f1",
   "metadata": {
    "collapsed": false,
    "jupyter": {
     "outputs_hidden": false
    }
   },
   "outputs": [
    {
     "data": {
      "text/plain": [
       "        Date    Volume\n",
       "0 2012-01-03  64731500\n",
       "1 2012-01-04  80516100\n",
       "2 2012-01-05  56081400"
      ]
     },
     "execution_count": 96,
     "metadata": {},
     "output_type": "execute_result"
    }
   ],
   "source": [
    "msftVR[:3]"
   ]
  },
  {
   "cell_type": "code",
   "execution_count": 98,
   "id": "f3f49da9",
   "metadata": {
    "collapsed": false,
    "jupyter": {
     "outputs_hidden": false
    }
   },
   "outputs": [
    {
     "data": {
      "text/plain": [
       "        Date  Adj Close    Volume\n",
       "0 2012-01-03     21.201  64731500\n",
       "1 2012-01-04     21.699  80516100\n",
       "2 2012-01-05     21.921  56081400\n",
       "3 2012-01-06     22.262  99455500\n",
       "4 2012-01-09     21.969  59706800"
      ]
     },
     "execution_count": 98,
     "metadata": {},
     "output_type": "execute_result"
    }
   ],
   "source": [
    "# merge the two.  pandas finds the columns in common,\n",
    "# in this case Date, and merges on that column and adds\n",
    "# a column for all the other columns in both DataFrame's\n",
    "msftCVR = pd.merge(msftAR, msftVR)\n",
    "msftCVR[:5]"
   ]
  },
  {
   "cell_type": "code",
   "execution_count": 100,
   "id": "bd5012ea",
   "metadata": {
    "collapsed": false,
    "jupyter": {
     "outputs_hidden": false
    }
   },
   "outputs": [
    {
     "data": {
      "text/plain": [
       "        Date  Adj Close\n",
       "0 2012-01-03     21.201\n",
       "1 2012-01-04     21.699\n",
       "2 2012-01-05     21.921\n",
       "3 2012-01-06     22.262\n",
       "4 2012-01-09     21.969"
      ]
     },
     "execution_count": 100,
     "metadata": {},
     "output_type": "execute_result"
    }
   ],
   "source": [
    "# we will demonstrate join semantics using this DataFrame\n",
    "msftAR0_5 = msftAR[0:5]\n",
    "msftAR0_5"
   ]
  },
  {
   "cell_type": "code",
   "execution_count": 102,
   "id": "e893335d",
   "metadata": {
    "collapsed": false,
    "jupyter": {
     "outputs_hidden": false
    }
   },
   "outputs": [
    {
     "data": {
      "text/plain": [
       "        Date    Volume\n",
       "2 2012-01-05  56081400\n",
       "3 2012-01-06  99455500"
      ]
     },
     "execution_count": 102,
     "metadata": {},
     "output_type": "execute_result"
    }
   ],
   "source": [
    "# and also this one\n",
    "msftVR2_4 = msftVR[2:4]\n",
    "msftVR2_4"
   ]
  },
  {
   "cell_type": "code",
   "execution_count": 104,
   "id": "f6b269d4",
   "metadata": {
    "collapsed": false,
    "jupyter": {
     "outputs_hidden": false
    }
   },
   "outputs": [
    {
     "data": {
      "text/plain": [
       "        Date  Adj Close    Volume\n",
       "0 2012-01-05     21.921  56081400\n",
       "1 2012-01-06     22.262  99455500"
      ]
     },
     "execution_count": 104,
     "metadata": {},
     "output_type": "execute_result"
    }
   ],
   "source": [
    "# merge semantics using default inner join\n",
    "pd.merge(msftAR0_5, msftVR2_4)"
   ]
  },
  {
   "cell_type": "code",
   "execution_count": 106,
   "id": "506cb560",
   "metadata": {
    "collapsed": false,
    "jupyter": {
     "outputs_hidden": false
    }
   },
   "outputs": [
    {
     "data": {
      "text/plain": [
       "        Date  Adj Close     Volume\n",
       "0 2012-01-03     21.201        NaN\n",
       "1 2012-01-04     21.699        NaN\n",
       "2 2012-01-05     21.921  5.608e+07\n",
       "3 2012-01-06     22.262  9.946e+07\n",
       "4 2012-01-09     21.969        NaN"
      ]
     },
     "execution_count": 106,
     "metadata": {},
     "output_type": "execute_result"
    }
   ],
   "source": [
    "# same joing but using\n",
    "pd.merge(msftAR0_5, msftVR2_4, how='outer')"
   ]
  },
  {
   "cell_type": "markdown",
   "id": "728c09be",
   "metadata": {},
   "source": [
    "## Pivoting"
   ]
  },
  {
   "cell_type": "code",
   "execution_count": 109,
   "id": "d5aa5a7f",
   "metadata": {
    "collapsed": false,
    "jupyter": {
     "outputs_hidden": false
    }
   },
   "outputs": [
    {
     "data": {
      "text/plain": [
       "        Date Symbol    Open    High     Low   Close  Adj Close     Volume\n",
       "0 2012-01-03   MSFT  26.550  26.960  26.390  26.770     21.201   64731500\n",
       "1 2012-01-03   AAPL  14.621  14.732  14.607  14.687     12.417  302220800\n",
       "2 2012-01-04   MSFT  26.820  27.470  26.780  27.400     21.699   80516100\n",
       "3 2012-01-04   AAPL  14.643  14.810  14.617  14.766     12.484  260022000\n",
       "4 2012-01-05   MSFT  27.380  27.730  27.290  27.680     21.921   56081400"
      ]
     },
     "execution_count": 109,
     "metadata": {},
     "output_type": "execute_result"
    }
   ],
   "source": [
    "# need to insert Symbol column before combining\n",
    "msft.insert(0, 'Symbol', 'MSFT')\n",
    "aapl.insert(0, 'Symbol', 'AAPL')\n",
    "\n",
    "# concatenate the MSFT and AAPL data\n",
    "# index will consist of the Date column, which we will sort\n",
    "combined = pd.concat([msft, aapl]).sort_index()\n",
    "\n",
    "# this pushes the index into a column and resets to a \n",
    "# default integer index\n",
    "s4p = combined.reset_index();\n",
    "s4p[:5]"
   ]
  },
  {
   "cell_type": "code",
   "execution_count": 111,
   "id": "4e95cfdb",
   "metadata": {
    "collapsed": false,
    "jupyter": {
     "outputs_hidden": false
    }
   },
   "outputs": [
    {
     "data": {
      "text/plain": [
       "Symbol        AAPL    MSFT\n",
       "Date                      \n",
       "2012-01-03  12.417  21.201\n",
       "2012-01-04  12.484  21.699\n",
       "2012-01-05  12.622  21.921"
      ]
     },
     "execution_count": 111,
     "metadata": {},
     "output_type": "execute_result"
    }
   ],
   "source": [
    "# pivot Date into the Index, make the columns match the\n",
    "# unique values in the Symbol column, and the values \n",
    "# will be the AdjClose values\n",
    "closes = s4p.pivot(index='Date', columns='Symbol', \n",
    "                   values='Adj Close')\n",
    "closes[:3]"
   ]
  },
  {
   "cell_type": "markdown",
   "id": "3098f48d",
   "metadata": {},
   "source": [
    "## Stacking and Unstacking"
   ]
  },
  {
   "cell_type": "code",
   "execution_count": 114,
   "id": "b5d8be0f",
   "metadata": {
    "collapsed": false,
    "jupyter": {
     "outputs_hidden": false
    }
   },
   "outputs": [
    {
     "data": {
      "text/plain": [
       "Date        Symbol\n",
       "2012-01-03  AAPL      12.417\n",
       "            MSFT      21.201\n",
       "2012-01-04  AAPL      12.484\n",
       "            MSFT      21.699\n",
       "                       ...  \n",
       "2012-12-27  AAPL      15.690\n",
       "            MSFT      21.955\n",
       "2012-12-28  AAPL      15.524\n",
       "            MSFT      21.621\n",
       "Length: 498, dtype: float64"
      ]
     },
     "execution_count": 114,
     "metadata": {},
     "output_type": "execute_result"
    }
   ],
   "source": [
    "# stack the first level of columns into the index\n",
    "# essentially, moves AAPL and MSFT into the index\n",
    "# leaving a single colum which is the AdjClose values\n",
    "stackedCloses = closes.stack()\n",
    "stackedCloses"
   ]
  },
  {
   "cell_type": "code",
   "execution_count": 118,
   "id": "f22f3be0",
   "metadata": {
    "collapsed": false,
    "jupyter": {
     "outputs_hidden": false
    }
   },
   "outputs": [
    {
     "name": "stdout",
     "output_type": "stream",
     "text": [
      "Stock  Date      \n",
      "AAPL   2012-01-03    12.417\n",
      "Name: Adj Close, dtype: float64\n"
     ]
    }
   ],
   "source": [
    "# Concatenate the AAPL and MSFT Jan 2012 data, there will be duplicate index labels\n",
    "withDups = pd.concat([msftA01, aaplA01], keys=['MSFT', 'AAPL'], names=['Stock', 'Date'])\n",
    "\n",
    "# To retrieve close values by specifying both the date and ticker\n",
    "close_value = withDups.loc[('AAPL', '2012-01-03'), 'Adj Close']\n",
    "print(close_value)"
   ]
  },
  {
   "cell_type": "code",
   "execution_count": 120,
   "id": "b72ee1f7",
   "metadata": {
    "collapsed": false,
    "jupyter": {
     "outputs_hidden": false
    }
   },
   "outputs": [
    {
     "name": "stdout",
     "output_type": "stream",
     "text": [
      "Date        Symbol\n",
      "2012-01-03  AAPL      12.417\n",
      "            MSFT      21.201\n",
      "dtype: float64\n"
     ]
    }
   ],
   "source": [
    "# Lookup on just the date, which will give us two values, one each for AAPL and MSFT\n",
    "values_on_date = stackedCloses.loc[('2012-01-03')]\n",
    "print(values_on_date)"
   ]
  },
  {
   "cell_type": "code",
   "execution_count": 124,
   "id": "2d07caa5",
   "metadata": {
    "collapsed": false,
    "jupyter": {
     "outputs_hidden": false
    }
   },
   "outputs": [
    {
     "name": "stderr",
     "output_type": "stream",
     "text": [
      "[*********************100%%**********************]  1 of 1 completed\n",
      "[*********************100%%**********************]  1 of 1 completed"
     ]
    },
    {
     "name": "stdout",
     "output_type": "stream",
     "text": [
      "            Adj Close\n",
      "Date                 \n",
      "2012-01-03     21.201\n",
      "2012-01-04     21.699\n",
      "2012-01-05     21.921\n",
      "2012-01-06     22.262\n",
      "...               ...\n",
      "2012-01-26     23.363\n",
      "2012-01-27     23.149\n",
      "2012-01-30     23.450\n",
      "2012-01-31     23.386\n",
      "\n",
      "[20 rows x 1 columns]\n"
     ]
    },
    {
     "name": "stderr",
     "output_type": "stream",
     "text": [
      "\n"
     ]
    }
   ],
   "source": [
    "import yfinance as yf\n",
    "import datetime\n",
    "import pandas as pd\n",
    "\n",
    "# Start and end dates\n",
    "start = datetime.datetime(2012, 1, 1)\n",
    "end = datetime.datetime(2012, 12, 30)\n",
    "\n",
    "# Load the data\n",
    "msft = yf.download(\"MSFT\", start=start, end=end)\n",
    "aapl = yf.download(\"AAPL\", start=start, end=end)\n",
    "\n",
    "# Extract only the Jan 2012 AAPL values using loc\n",
    "aaplA01 = aapl.loc['2012-01', ['Adj Close']]\n",
    "\n",
    "# Extract the Jan 2012 MSFT values using loc\n",
    "msftA01 = msft.loc['2012-01', ['Adj Close']]\n",
    "\n",
    "# Concatenate the AAPL and MSFT Jan 2012 data, there will be duplicate index labels\n",
    "stackedCloses = pd.concat([msftA01, aaplA01], keys=['MSFT', 'AAPL'], names=['Stock', 'Date'])\n",
    "\n",
    "# Look up all values for the MSFT symbol\n",
    "msft_values = stackedCloses.loc['MSFT']\n",
    "print(msft_values)"
   ]
  },
  {
   "cell_type": "code",
   "execution_count": 126,
   "id": "c8dc5562",
   "metadata": {
    "collapsed": false,
    "jupyter": {
     "outputs_hidden": false
    }
   },
   "outputs": [
    {
     "data": {
      "text/plain": [
       "       Adj Close                                                         \\\n",
       "Date  2012-01-03 2012-01-04 2012-01-05 2012-01-06 2012-01-09 2012-01-10   \n",
       "Stock                                                                     \n",
       "MSFT      21.201     21.699     21.921     22.262     21.969     22.048   \n",
       "AAPL      12.417     12.484     12.622     12.754     12.734     12.780   \n",
       "\n",
       "                  ...                                                         \\\n",
       "Date  2012-01-11  ... 2012-01-23 2012-01-24 2012-01-25 2012-01-26 2012-01-27   \n",
       "Stock             ...                                                          \n",
       "MSFT      21.953  ...     23.545     23.236     23.410     23.363     23.149   \n",
       "AAPL      12.759  ...     12.906     12.694     13.487     13.425     13.506   \n",
       "\n",
       "                             \n",
       "Date  2012-01-30 2012-01-31  \n",
       "Stock                        \n",
       "MSFT      23.450     23.386  \n",
       "AAPL      13.679     13.783  \n",
       "\n",
       "[2 rows x 20 columns]"
      ]
     },
     "execution_count": 126,
     "metadata": {},
     "output_type": "execute_result"
    }
   ],
   "source": [
    "# pivots the last level of the index back into a column\n",
    "unstackedCloses = stackedCloses.unstack()\n",
    "unstackedCloses[:3]"
   ]
  },
  {
   "cell_type": "markdown",
   "id": "8867051f",
   "metadata": {},
   "source": [
    "## Melting"
   ]
  },
  {
   "cell_type": "code",
   "execution_count": 129,
   "id": "0f362995",
   "metadata": {
    "collapsed": false,
    "jupyter": {
     "outputs_hidden": false
    }
   },
   "outputs": [
    {
     "data": {
      "text/plain": [
       "        Date Symbol variable   value\n",
       "0 2012-01-03   MSFT     Open  26.550\n",
       "1 2012-01-03   AAPL     Open  14.621\n",
       "2 2012-01-04   MSFT     Open  26.820\n",
       "3 2012-01-04   AAPL     Open  14.643\n",
       "4 2012-01-05   MSFT     Open  27.380"
      ]
     },
     "execution_count": 129,
     "metadata": {},
     "output_type": "execute_result"
    }
   ],
   "source": [
    "# melt making id_vars of Date and Symbol, making the \n",
    "# column names the variable and the for each the value\n",
    "melted = pd.melt(s4p, id_vars=['Date', 'Symbol'])\n",
    "melted[:5]"
   ]
  },
  {
   "cell_type": "code",
   "execution_count": 131,
   "id": "58673a35",
   "metadata": {
    "collapsed": false,
    "jupyter": {
     "outputs_hidden": false
    }
   },
   "outputs": [
    {
     "data": {
      "text/plain": [
       "           Date Symbol   variable      value\n",
       "0    2012-01-03   MSFT       Open  2.655e+01\n",
       "498  2012-01-03   MSFT       High  2.696e+01\n",
       "996  2012-01-03   MSFT        Low  2.639e+01\n",
       "1494 2012-01-03   MSFT      Close  2.677e+01\n",
       "1992 2012-01-03   MSFT  Adj Close  2.120e+01\n",
       "2490 2012-01-03   MSFT     Volume  6.473e+07"
      ]
     },
     "execution_count": 131,
     "metadata": {},
     "output_type": "execute_result"
    }
   ],
   "source": [
    "# extract the values for the data for MSFT on 2012-01-03\n",
    "melted[(melted.Date=='2012-01-03') & (melted.Symbol=='MSFT')]"
   ]
  },
  {
   "cell_type": "markdown",
   "id": "d9bc568d",
   "metadata": {},
   "source": [
    "# Grouping and aggregation"
   ]
  },
  {
   "cell_type": "markdown",
   "id": "3b5f4791",
   "metadata": {},
   "source": [
    "## Splitting"
   ]
  },
  {
   "cell_type": "code",
   "execution_count": 135,
   "id": "77f2da72",
   "metadata": {
    "collapsed": false,
    "jupyter": {
     "outputs_hidden": false
    }
   },
   "outputs": [
    {
     "data": {
      "text/plain": [
       "        Date  Year  Month Symbol  Adj Close\n",
       "0 2012-01-03  2012      1   MSFT     21.201\n",
       "1 2012-01-03  2012      1   AAPL     12.417\n",
       "2 2012-01-04  2012      1   MSFT     21.699\n",
       "3 2012-01-04  2012      1   AAPL     12.484\n",
       "4 2012-01-05  2012      1   MSFT     21.921"
      ]
     },
     "execution_count": 135,
     "metadata": {},
     "output_type": "execute_result"
    }
   ],
   "source": [
    "# construct a DataFrame to demonstrate splitting\n",
    "# extract from combined the Symbol and AdjClose, and reset the index\n",
    "s4g = combined[['Symbol', 'Adj Close']].reset_index()\n",
    "# now, add two columns, year and month, using the year and month\n",
    "# portions of the data as integers\n",
    "s4g.insert(1, 'Year', pd.DatetimeIndex(s4g['Date']).year)\n",
    "s4g.insert(2, 'Month',pd.DatetimeIndex(s4g['Date']).month)\n",
    "s4g[:5]"
   ]
  },
  {
   "cell_type": "code",
   "execution_count": 137,
   "id": "6e841050",
   "metadata": {
    "collapsed": false,
    "jupyter": {
     "outputs_hidden": false
    }
   },
   "outputs": [
    {
     "data": {
      "text/plain": [
       "<pandas.core.groupby.generic.DataFrameGroupBy object at 0x34d117a10>"
      ]
     },
     "execution_count": 137,
     "metadata": {},
     "output_type": "execute_result"
    }
   ],
   "source": [
    "# group by the Symbol column\n",
    "s4g.groupby('Symbol')"
   ]
  },
  {
   "cell_type": "code",
   "execution_count": 139,
   "id": "fdab8565",
   "metadata": {
    "collapsed": false,
    "jupyter": {
     "outputs_hidden": false
    }
   },
   "outputs": [
    {
     "data": {
      "text/plain": [
       "pandas.io.formats.printing.PrettyDict"
      ]
     },
     "execution_count": 139,
     "metadata": {},
     "output_type": "execute_result"
    }
   ],
   "source": [
    "# group again, but save the result this time\n",
    "grouped = s4g.groupby('Symbol')\n",
    "# the groupby object has a property groups, which shows how\n",
    "# all rows will in mapped into the groups.   \n",
    "# the type of this object is a python dict\n",
    "type(grouped.groups)"
   ]
  },
  {
   "cell_type": "code",
   "execution_count": 141,
   "id": "9ed60267",
   "metadata": {
    "collapsed": false,
    "jupyter": {
     "outputs_hidden": false
    }
   },
   "outputs": [
    {
     "data": {
      "text/plain": [
       "{'AAPL': [1, 3, 5, 7, 9, 11, 13, 14, 16, 18, 20, 23, 25, 27, 29, 30, 33, 34, 37, 38, 41, 43, 44, 46, 49, 51, 52, 54, 57, 59, 61, 62, 64, 67, 68, 71, 72, 75, 77, 79, 81, 82, 84, 86, 89, 90, 93, 95, 96, 99, 100, 103, 105, 107, 109, 111, 112, 114, 117, 119, 121, 122, 124, 126, 128, 130, 132, 134, 137, 139, 140, 142, 145, 147, 149, 151, 153, 154, 156, 158, 160, 163, 164, 166, 168, 170, 173, 175, 176, 178, 180, 183, 184, 186, 189, 190, 193, 194, 196, 198, ...], 'MSFT': [0, 2, 4, 6, 8, 10, 12, 15, 17, 19, 21, 22, 24, 26, 28, 31, 32, 35, 36, 39, 40, 42, 45, 47, 48, 50, 53, 55, 56, 58, 60, 63, 65, 66, 69, 70, 73, 74, 76, 78, 80, 83, 85, 87, 88, 91, 92, 94, 97, 98, 101, 102, 104, 106, 108, 110, 113, 115, 116, 118, 120, 123, 125, 127, 129, 131, 133, 135, 136, 138, 141, 143, 144, 146, 148, 150, 152, 155, 157, 159, 161, 162, 165, 167, 169, 171, 172, 174, 177, 179, 181, 182, 185, 187, 188, 191, 192, 195, 197, 199, ...]}"
      ]
     },
     "execution_count": 141,
     "metadata": {},
     "output_type": "execute_result"
    }
   ],
   "source": [
    "# show the mappings of rows to groups\n",
    "grouped.groups"
   ]
  },
  {
   "cell_type": "code",
   "execution_count": 143,
   "id": "6336bf77",
   "metadata": {
    "collapsed": false,
    "jupyter": {
     "outputs_hidden": false
    }
   },
   "outputs": [
    {
     "data": {
      "text/plain": [
       "(2, 2)"
      ]
     },
     "execution_count": 143,
     "metadata": {},
     "output_type": "execute_result"
    }
   ],
   "source": [
    "# these report the number of groups that resulted from\n",
    "# the grouping\n",
    "len(grouped), grouped.ngroups"
   ]
  },
  {
   "cell_type": "code",
   "execution_count": 151,
   "id": "7c2ab61e",
   "metadata": {
    "collapsed": false,
    "jupyter": {
     "outputs_hidden": false
    }
   },
   "outputs": [],
   "source": [
    "# this function will print the contents of a group\n",
    "def print_groups (groupobject):\n",
    "    for name, group in groupobject:\n",
    "        print (name)\n",
    "        print (group.head())"
   ]
  },
  {
   "cell_type": "code",
   "execution_count": 153,
   "id": "958a3ded",
   "metadata": {
    "collapsed": false,
    "jupyter": {
     "outputs_hidden": false
    }
   },
   "outputs": [
    {
     "name": "stdout",
     "output_type": "stream",
     "text": [
      "AAPL\n",
      "        Date  Year  Month Symbol  Adj Close\n",
      "1 2012-01-03  2012      1   AAPL     12.417\n",
      "3 2012-01-04  2012      1   AAPL     12.484\n",
      "5 2012-01-05  2012      1   AAPL     12.622\n",
      "7 2012-01-06  2012      1   AAPL     12.754\n",
      "9 2012-01-09  2012      1   AAPL     12.734\n",
      "MSFT\n",
      "        Date  Year  Month Symbol  Adj Close\n",
      "0 2012-01-03  2012      1   MSFT     21.201\n",
      "2 2012-01-04  2012      1   MSFT     21.699\n",
      "4 2012-01-05  2012      1   MSFT     21.921\n",
      "6 2012-01-06  2012      1   MSFT     22.262\n",
      "8 2012-01-09  2012      1   MSFT     21.969\n"
     ]
    }
   ],
   "source": [
    "# examine our resulting groups\n",
    "print_groups(grouped)"
   ]
  },
  {
   "cell_type": "code",
   "execution_count": 155,
   "id": "b087afba",
   "metadata": {
    "collapsed": false,
    "jupyter": {
     "outputs_hidden": false
    }
   },
   "outputs": [
    {
     "data": {
      "text/plain": [
       "Symbol\n",
       "AAPL    249\n",
       "MSFT    249\n",
       "dtype: int64"
      ]
     },
     "execution_count": 155,
     "metadata": {},
     "output_type": "execute_result"
    }
   ],
   "source": [
    "# .size will tell us the count of items in each group\n",
    "grouped.size()"
   ]
  },
  {
   "cell_type": "code",
   "execution_count": 157,
   "id": "39ffc34e",
   "metadata": {
    "collapsed": false,
    "jupyter": {
     "outputs_hidden": false
    }
   },
   "outputs": [
    {
     "data": {
      "text/plain": [
       "          Date  Year  Month Symbol  Adj Close\n",
       "0   2012-01-03  2012      1   MSFT     21.201\n",
       "2   2012-01-04  2012      1   MSFT     21.699\n",
       "4   2012-01-05  2012      1   MSFT     21.921\n",
       "6   2012-01-06  2012      1   MSFT     22.262\n",
       "..         ...   ...    ...    ...        ...\n",
       "491 2012-12-24  2012     12   MSFT     22.036\n",
       "493 2012-12-26  2012     12   MSFT     21.873\n",
       "495 2012-12-27  2012     12   MSFT     21.955\n",
       "496 2012-12-28  2012     12   MSFT     21.621\n",
       "\n",
       "[249 rows x 5 columns]"
      ]
     },
     "execution_count": 157,
     "metadata": {},
     "output_type": "execute_result"
    }
   ],
   "source": [
    "# a specific group can be retrieved using .get_group()\n",
    "# which returns a DataFrame representing the specified group\n",
    "grouped.get_group('MSFT')"
   ]
  },
  {
   "cell_type": "code",
   "execution_count": 159,
   "id": "64326817",
   "metadata": {
    "collapsed": false,
    "jupyter": {
     "outputs_hidden": false
    }
   },
   "outputs": [
    {
     "name": "stdout",
     "output_type": "stream",
     "text": [
      "('AAPL', 2012, 1)\n",
      "        Date  Year  Month Symbol  Adj Close\n",
      "1 2012-01-03  2012      1   AAPL     12.417\n",
      "3 2012-01-04  2012      1   AAPL     12.484\n",
      "5 2012-01-05  2012      1   AAPL     12.622\n",
      "7 2012-01-06  2012      1   AAPL     12.754\n",
      "9 2012-01-09  2012      1   AAPL     12.734\n",
      "('AAPL', 2012, 2)\n",
      "         Date  Year  Month Symbol  Adj Close\n",
      "41 2012-02-01  2012      2   AAPL     13.775\n",
      "43 2012-02-02  2012      2   AAPL     13.742\n",
      "44 2012-02-03  2012      2   AAPL     13.880\n",
      "46 2012-02-06  2012      2   AAPL     14.009\n",
      "49 2012-02-07  2012      2   AAPL     14.156\n",
      "('AAPL', 2012, 3)\n",
      "         Date  Year  Month Symbol  Adj Close\n",
      "81 2012-03-01  2012      3   AAPL     16.440\n",
      "82 2012-03-02  2012      3   AAPL     16.462\n",
      "84 2012-03-05  2012      3   AAPL     16.099\n",
      "86 2012-03-06  2012      3   AAPL     16.011\n",
      "89 2012-03-07  2012      3   AAPL     16.024\n",
      "('AAPL', 2012, 4)\n",
      "          Date  Year  Month Symbol  Adj Close\n",
      "124 2012-04-02  2012      4   AAPL     18.679\n",
      "126 2012-04-03  2012      4   AAPL     19.002\n",
      "128 2012-04-04  2012      4   AAPL     18.851\n",
      "130 2012-04-05  2012      4   AAPL     19.134\n",
      "132 2012-04-09  2012      4   AAPL     19.211\n",
      "('AAPL', 2012, 5)\n",
      "          Date  Year  Month Symbol  Adj Close\n",
      "164 2012-05-01  2012      5   AAPL     17.577\n",
      "166 2012-05-02  2012      5   AAPL     17.694\n",
      "168 2012-05-03  2012      5   AAPL     17.568\n",
      "170 2012-05-04  2012      5   AAPL     17.068\n",
      "173 2012-05-07  2012      5   AAPL     17.195\n",
      "('AAPL', 2012, 6)\n",
      "          Date  Year  Month Symbol  Adj Close\n",
      "208 2012-06-01  2012      6   AAPL     16.939\n",
      "211 2012-06-04  2012      6   AAPL     17.039\n",
      "213 2012-06-05  2012      6   AAPL     16.995\n",
      "215 2012-06-06  2012      6   AAPL     17.255\n",
      "217 2012-06-07  2012      6   AAPL     17.263\n",
      "('AAPL', 2012, 7)\n",
      "          Date  Year  Month Symbol  Adj Close\n",
      "250 2012-07-02  2012      7   AAPL     17.891\n",
      "252 2012-07-03  2012      7   AAPL     18.099\n",
      "254 2012-07-05  2012      7   AAPL     18.417\n",
      "257 2012-07-06  2012      7   AAPL     18.294\n",
      "259 2012-07-09  2012      7   AAPL     18.536\n",
      "('AAPL', 2012, 8)\n",
      "          Date  Year  Month Symbol  Adj Close\n",
      "293 2012-08-01  2012      8   AAPL     18.322\n",
      "295 2012-08-02  2012      8   AAPL     18.352\n",
      "296 2012-08-03  2012      8   AAPL     18.591\n",
      "298 2012-08-06  2012      8   AAPL     18.798\n",
      "301 2012-08-07  2012      8   AAPL     18.748\n",
      "('AAPL', 2012, 9)\n",
      "          Date  Year  Month Symbol  Adj Close\n",
      "338 2012-09-04  2012      9   AAPL     20.468\n",
      "340 2012-09-05  2012      9   AAPL     20.324\n",
      "343 2012-09-06  2012      9   AAPL     20.507\n",
      "344 2012-09-07  2012      9   AAPL     20.634\n",
      "347 2012-09-10  2012      9   AAPL     20.097\n",
      "('AAPL', 2012, 10)\n",
      "          Date  Year  Month Symbol  Adj Close\n",
      "377 2012-10-01  2012     10   AAPL     19.996\n",
      "379 2012-10-02  2012     10   AAPL     20.054\n",
      "380 2012-10-03  2012     10   AAPL     20.361\n",
      "382 2012-10-04  2012     10   AAPL     20.220\n",
      "385 2012-10-05  2012     10   AAPL     19.789\n",
      "('AAPL', 2012, 11)\n",
      "          Date  Year  Month Symbol  Adj Close\n",
      "419 2012-11-01  2012     11   AAPL     18.090\n",
      "420 2012-11-02  2012     11   AAPL     17.491\n",
      "423 2012-11-05  2012     11   AAPL     17.728\n",
      "425 2012-11-06  2012     11   AAPL     17.675\n",
      "427 2012-11-07  2012     11   AAPL     16.998\n",
      "('AAPL', 2012, 12)\n",
      "          Date  Year  Month Symbol  Adj Close\n",
      "460 2012-12-03  2012     12   AAPL     17.857\n",
      "463 2012-12-04  2012     12   AAPL     17.542\n",
      "464 2012-12-05  2012     12   AAPL     16.413\n",
      "466 2012-12-06  2012     12   AAPL     16.671\n",
      "468 2012-12-07  2012     12   AAPL     16.244\n",
      "('MSFT', 2012, 1)\n",
      "        Date  Year  Month Symbol  Adj Close\n",
      "0 2012-01-03  2012      1   MSFT     21.201\n",
      "2 2012-01-04  2012      1   MSFT     21.699\n",
      "4 2012-01-05  2012      1   MSFT     21.921\n",
      "6 2012-01-06  2012      1   MSFT     22.262\n",
      "8 2012-01-09  2012      1   MSFT     21.969\n",
      "('MSFT', 2012, 2)\n",
      "         Date  Year  Month Symbol  Adj Close\n",
      "40 2012-02-01  2012      2   MSFT     23.671\n",
      "42 2012-02-02  2012      2   MSFT     23.719\n",
      "45 2012-02-03  2012      2   MSFT     23.949\n",
      "47 2012-02-06  2012      2   MSFT     23.917\n",
      "48 2012-02-07  2012      2   MSFT     24.036\n",
      "('MSFT', 2012, 3)\n",
      "         Date  Year  Month Symbol  Adj Close\n",
      "80 2012-03-01  2012      3   MSFT     25.740\n",
      "83 2012-03-02  2012      3   MSFT     25.573\n",
      "85 2012-03-05  2012      3   MSFT     25.350\n",
      "87 2012-03-06  2012      3   MSFT     25.159\n",
      "88 2012-03-07  2012      3   MSFT     25.382\n",
      "('MSFT', 2012, 4)\n",
      "          Date  Year  Month Symbol  Adj Close\n",
      "125 2012-04-02  2012      4   MSFT     25.740\n",
      "127 2012-04-03  2012      4   MSFT     25.461\n",
      "129 2012-04-04  2012      4   MSFT     24.879\n",
      "131 2012-04-05  2012      4   MSFT     25.127\n",
      "133 2012-04-09  2012      4   MSFT     24.792\n",
      "('MSFT', 2012, 5)\n",
      "          Date  Year  Month Symbol  Adj Close\n",
      "165 2012-05-01  2012      5   MSFT     25.517\n",
      "167 2012-05-02  2012      5   MSFT     25.350\n",
      "169 2012-05-03  2012      5   MSFT     25.318\n",
      "171 2012-05-04  2012      5   MSFT     24.696\n",
      "172 2012-05-07  2012      5   MSFT     24.433\n",
      "('MSFT', 2012, 6)\n",
      "          Date  Year  Month Symbol  Adj Close\n",
      "209 2012-06-01  2012      6   MSFT     22.828\n",
      "210 2012-06-04  2012      6   MSFT     22.908\n",
      "212 2012-06-05  2012      6   MSFT     22.876\n",
      "214 2012-06-06  2012      6   MSFT     23.550\n",
      "216 2012-06-07  2012      6   MSFT     23.454\n",
      "('MSFT', 2012, 7)\n",
      "          Date  Year  Month Symbol  Adj Close\n",
      "251 2012-07-02  2012      7   MSFT     24.521\n",
      "253 2012-07-03  2012      7   MSFT     24.682\n",
      "255 2012-07-05  2012      7   MSFT     24.634\n",
      "256 2012-07-06  2012      7   MSFT     24.224\n",
      "258 2012-07-09  2012      7   MSFT     24.072\n",
      "('MSFT', 2012, 8)\n",
      "          Date  Year  Month Symbol  Adj Close\n",
      "292 2012-08-01  2012      8   MSFT     23.598\n",
      "294 2012-08-02  2012      8   MSFT     23.422\n",
      "297 2012-08-03  2012      8   MSFT     23.871\n",
      "299 2012-08-06  2012      8   MSFT     24.032\n",
      "300 2012-08-07  2012      8   MSFT     24.280\n",
      "('MSFT', 2012, 9)\n",
      "          Date  Year  Month Symbol  Adj Close\n",
      "339 2012-09-04  2012      9   MSFT     24.546\n",
      "341 2012-09-05  2012      9   MSFT     24.546\n",
      "342 2012-09-06  2012      9   MSFT     25.322\n",
      "345 2012-09-07  2012      9   MSFT     24.999\n",
      "346 2012-09-10  2012      9   MSFT     24.813\n",
      "('MSFT', 2012, 10)\n",
      "          Date  Year  Month Symbol  Adj Close\n",
      "376 2012-10-01  2012     10   MSFT     23.819\n",
      "378 2012-10-02  2012     10   MSFT     23.957\n",
      "381 2012-10-03  2012     10   MSFT     24.118\n",
      "383 2012-10-04  2012     10   MSFT     24.256\n",
      "384 2012-10-05  2012     10   MSFT     24.110\n",
      "('MSFT', 2012, 11)\n",
      "          Date  Year  Month Symbol  Adj Close\n",
      "418 2012-11-01  2012     11   MSFT     23.844\n",
      "421 2012-11-02  2012     11   MSFT     23.827\n",
      "422 2012-11-05  2012     11   MSFT     23.932\n",
      "424 2012-11-06  2012     11   MSFT     24.118\n",
      "426 2012-11-07  2012     11   MSFT     23.488\n",
      "('MSFT', 2012, 12)\n",
      "          Date  Year  Month Symbol  Adj Close\n",
      "461 2012-12-03  2012     12   MSFT     21.523\n",
      "462 2012-12-04  2012     12   MSFT     21.474\n",
      "465 2012-12-05  2012     12   MSFT     21.719\n",
      "467 2012-12-06  2012     12   MSFT     21.768\n",
      "469 2012-12-07  2012     12   MSFT     21.548\n"
     ]
    },
    {
     "name": "stdout",
     "output_type": "stream",
     "text": [
      "\n",
      "('MSFT', 2012, 10)\n",
      "          Date  Year  Month Symbol  Adj Close\n",
      "376 2012-10-01  2012     10   MSFT      27.44\n",
      "378 2012-10-02  2012     10   MSFT      27.60\n",
      "381 2012-10-03  2012     10   MSFT      27.78\n",
      "383 2012-10-04  2012     10   MSFT      27.94\n",
      "384 2012-10-05  2012     10   MSFT      27.77\n",
      "('MSFT', 2012, 11)\n",
      "          Date  Year  Month Symbol  Adj Close\n",
      "418 2012-11-01  2012     11   MSFT      27.47\n",
      "421 2012-11-02  2012     11   MSFT      27.45\n",
      "422 2012-11-05  2012     11   MSFT      27.57\n",
      "424 2012-11-06  2012     11   MSFT      27.78\n",
      "426 2012-11-07  2012     11   MSFT      27.06\n",
      "('MSFT', 2012, 12)\n",
      "          Date  Year  Month Symbol  Adj Close\n",
      "461 2012-12-03  2012     12   MSFT      24.79\n",
      "462 2012-12-04  2012     12   MSFT      24.74\n",
      "465 2012-12-05  2012     12   MSFT      25.02\n",
      "467 2012-12-06  2012     12   MSFT      25.07\n",
      "469 2012-12-07  2012     12   MSFT      24.82\n"
     ]
    }
   ],
   "source": [
    "# group by three different fields and print the result\n",
    "mcg = s4g.groupby(['Symbol', 'Year', 'Month'])\n",
    "print_groups(mcg)"
   ]
  },
  {
   "cell_type": "code",
   "execution_count": 161,
   "id": "e40721db",
   "metadata": {
    "collapsed": false,
    "jupyter": {
     "outputs_hidden": false
    }
   },
   "outputs": [
    {
     "data": {
      "text/plain": [
       "                        Date  Adj Close\n",
       "Symbol Year Month                      \n",
       "MSFT   2012 1     2012-01-03     21.201\n",
       "AAPL   2012 1     2012-01-03     12.417\n",
       "MSFT   2012 1     2012-01-04     21.699\n",
       "AAPL   2012 1     2012-01-04     12.484\n",
       "...                      ...        ...\n",
       "            12    2012-12-27     15.690\n",
       "MSFT   2012 12    2012-12-27     21.955\n",
       "            12    2012-12-28     21.621\n",
       "AAPL   2012 12    2012-12-28     15.524\n",
       "\n",
       "[498 rows x 2 columns]"
      ]
     },
     "execution_count": 161,
     "metadata": {},
     "output_type": "execute_result"
    }
   ],
   "source": [
    "# set the index of the data to be the following three fields\n",
    "# we are creating a multiindex\n",
    "mi = s4g.set_index(['Symbol', 'Year', 'Month'])\n",
    "mi"
   ]
  },
  {
   "cell_type": "code",
   "execution_count": 163,
   "id": "7fcab159",
   "metadata": {
    "collapsed": false,
    "jupyter": {
     "outputs_hidden": false
    }
   },
   "outputs": [
    {
     "name": "stdout",
     "output_type": "stream",
     "text": [
      "AAPL\n",
      "                        Date  Adj Close\n",
      "Symbol Year Month                      \n",
      "AAPL   2012 1     2012-01-03     12.417\n",
      "            1     2012-01-04     12.484\n",
      "            1     2012-01-05     12.622\n",
      "            1     2012-01-06     12.754\n",
      "            1     2012-01-09     12.734\n",
      "MSFT\n",
      "                        Date  Adj Close\n",
      "Symbol Year Month                      \n",
      "MSFT   2012 1     2012-01-03     21.201\n",
      "            1     2012-01-04     21.699\n",
      "            1     2012-01-05     21.921\n",
      "            1     2012-01-06     22.262\n",
      "            1     2012-01-09     21.969\n"
     ]
    }
   ],
   "source": [
    "# now we can group based upon values in the actual index\n",
    "# the following groups by level 0 of the index (Month)\n",
    "mig_l1 = mi.groupby(level=0)\n",
    "print_groups(mig_l1)"
   ]
  },
  {
   "cell_type": "code",
   "execution_count": 165,
   "id": "affa85ef",
   "metadata": {
    "collapsed": false,
    "jupyter": {
     "outputs_hidden": false
    }
   },
   "outputs": [
    {
     "name": "stdout",
     "output_type": "stream",
     "text": [
      "('AAPL', 2012, 1)\n",
      "                        Date  Adj Close\n",
      "Symbol Year Month                      \n",
      "AAPL   2012 1     2012-01-03     12.417\n",
      "            1     2012-01-04     12.484\n",
      "            1     2012-01-05     12.622\n",
      "            1     2012-01-06     12.754\n",
      "            1     2012-01-09     12.734\n",
      "('AAPL', 2012, 2)\n",
      "                        Date  Adj Close\n",
      "Symbol Year Month                      \n",
      "AAPL   2012 2     2012-02-01     13.775\n",
      "            2     2012-02-02     13.742\n",
      "            2     2012-02-03     13.880\n",
      "            2     2012-02-06     14.009\n",
      "            2     2012-02-07     14.156\n",
      "('AAPL', 2012, 3)\n",
      "                        Date  Adj Close\n",
      "Symbol Year Month                      \n",
      "AAPL   2012 3     2012-03-01     16.440\n",
      "            3     2012-03-02     16.462\n",
      "            3     2012-03-05     16.099\n",
      "            3     2012-03-06     16.011\n",
      "            3     2012-03-07     16.024\n",
      "('AAPL', 2012, 4)\n",
      "                        Date  Adj Close\n",
      "Symbol Year Month                      \n",
      "AAPL   2012 4     2012-04-02     18.679\n",
      "            4     2012-04-03     19.002\n",
      "            4     2012-04-04     18.851\n",
      "            4     2012-04-05     19.134\n",
      "            4     2012-04-09     19.211\n",
      "('AAPL', 2012, 5)\n",
      "                        Date  Adj Close\n",
      "Symbol Year Month                      \n",
      "AAPL   2012 5     2012-05-01     17.577\n",
      "            5     2012-05-02     17.694\n",
      "            5     2012-05-03     17.568\n",
      "            5     2012-05-04     17.068\n",
      "            5     2012-05-07     17.195\n",
      "('AAPL', 2012, 6)\n",
      "                        Date  Adj Close\n",
      "Symbol Year Month                      \n",
      "AAPL   2012 6     2012-06-01     16.939\n",
      "            6     2012-06-04     17.039\n",
      "            6     2012-06-05     16.995\n",
      "            6     2012-06-06     17.255\n",
      "            6     2012-06-07     17.263\n",
      "('AAPL', 2012, 7)\n",
      "                        Date  Adj Close\n",
      "Symbol Year Month                      \n",
      "AAPL   2012 7     2012-07-02     17.891\n",
      "            7     2012-07-03     18.099\n",
      "            7     2012-07-05     18.417\n",
      "            7     2012-07-06     18.294\n",
      "            7     2012-07-09     18.536\n",
      "('AAPL', 2012, 8)\n",
      "                        Date  Adj Close\n",
      "Symbol Year Month                      \n",
      "AAPL   2012 8     2012-08-01     18.322\n",
      "            8     2012-08-02     18.352\n",
      "            8     2012-08-03     18.591\n",
      "            8     2012-08-06     18.798\n",
      "            8     2012-08-07     18.748\n",
      "('AAPL', 2012, 9)\n",
      "                        Date  Adj Close\n",
      "Symbol Year Month                      \n",
      "AAPL   2012 9     2012-09-04     20.468\n",
      "            9     2012-09-05     20.324\n",
      "            9     2012-09-06     20.507\n",
      "            9     2012-09-07     20.634\n",
      "            9     2012-09-10     20.097\n",
      "('AAPL', 2012, 10)\n",
      "                        Date  Adj Close\n",
      "Symbol Year Month                      \n",
      "AAPL   2012 10    2012-10-01     19.996\n",
      "            10    2012-10-02     20.054\n",
      "            10    2012-10-03     20.361\n",
      "            10    2012-10-04     20.220\n",
      "            10    2012-10-05     19.789\n",
      "('AAPL', 2012, 11)\n",
      "                        Date  Adj Close\n",
      "Symbol Year Month                      \n",
      "AAPL   2012 11    2012-11-01     18.090\n",
      "            11    2012-11-02     17.491\n",
      "            11    2012-11-05     17.728\n",
      "            11    2012-11-06     17.675\n",
      "            11    2012-11-07     16.998\n",
      "('AAPL', 2012, 12)\n",
      "                        Date  Adj Close\n",
      "Symbol Year Month                      \n",
      "AAPL   2012 12    2012-12-03     17.857\n",
      "            12    2012-12-04     17.542\n",
      "            12    2012-12-05     16.413\n",
      "            12    2012-12-06     16.671\n",
      "            12    2012-12-07     16.244\n",
      "('MSFT', 2012, 1)\n",
      "                        Date  Adj Close\n",
      "Symbol Year Month                      \n",
      "MSFT   2012 1     2012-01-03     21.201\n",
      "            1     2012-01-04     21.699\n",
      "            1     2012-01-05     21.921\n",
      "            1     2012-01-06     22.262\n",
      "            1     2012-01-09     21.969\n",
      "('MSFT', 2012, 2)\n",
      "                        Date  Adj Close\n",
      "Symbol Year Month                      \n",
      "MSFT   2012 2     2012-02-01     23.671\n",
      "            2     2012-02-02     23.719\n",
      "            2     2012-02-03     23.949\n",
      "            2     2012-02-06     23.917\n",
      "            2     2012-02-07     24.036\n",
      "('MSFT', 2012, 3)\n",
      "                        Date  Adj Close\n",
      "Symbol Year Month                      \n",
      "MSFT   2012 3     2012-03-01     25.740\n",
      "            3     2012-03-02     25.573\n",
      "            3     2012-03-05     25.350\n",
      "            3     2012-03-06     25.159\n",
      "            3     2012-03-07     25.382\n",
      "('MSFT', 2012, 4)\n",
      "                        Date  Adj Close\n",
      "Symbol Year Month                      \n",
      "MSFT   2012 4     2012-04-02     25.740\n",
      "            4     2012-04-03     25.461\n",
      "            4     2012-04-04     24.879\n",
      "            4     2012-04-05     25.127\n",
      "            4     2012-04-09     24.792\n",
      "('MSFT', 2012, 5)\n",
      "                        Date  Adj Close\n",
      "Symbol Year Month                      \n",
      "MSFT   2012 5     2012-05-01     25.517\n",
      "            5     2012-05-02     25.350\n",
      "            5     2012-05-03     25.318\n",
      "            5     2012-05-04     24.696\n",
      "            5     2012-05-07     24.433\n",
      "('MSFT', 2012, 6)\n",
      "                        Date  Adj Close\n",
      "Symbol Year Month                      \n",
      "MSFT   2012 6     2012-06-01     22.828\n",
      "            6     2012-06-04     22.908\n",
      "            6     2012-06-05     22.876\n",
      "            6     2012-06-06     23.550\n",
      "            6     2012-06-07     23.454\n",
      "('MSFT', 2012, 7)\n",
      "                        Date  Adj Close\n",
      "Symbol Year Month                      \n",
      "MSFT   2012 7     2012-07-02     24.521\n",
      "            7     2012-07-03     24.682\n",
      "            7     2012-07-05     24.634\n",
      "            7     2012-07-06     24.224\n",
      "            7     2012-07-09     24.072\n",
      "('MSFT', 2012, 8)\n",
      "                        Date  Adj Close\n",
      "Symbol Year Month                      \n",
      "MSFT   2012 8     2012-08-01     23.598\n",
      "            8     2012-08-02     23.422\n",
      "            8     2012-08-03     23.871\n",
      "            8     2012-08-06     24.032\n",
      "            8     2012-08-07     24.280\n",
      "('MSFT', 2012, 9)\n",
      "                        Date  Adj Close\n",
      "Symbol Year Month                      \n",
      "MSFT   2012 9     2012-09-04     24.546\n",
      "            9     2012-09-05     24.546\n",
      "            9     2012-09-06     25.322\n",
      "            9     2012-09-07     24.999\n",
      "            9     2012-09-10     24.813\n",
      "('MSFT', 2012, 10)\n",
      "                        Date  Adj Close\n",
      "Symbol Year Month                      \n",
      "MSFT   2012 10    2012-10-01     23.819\n",
      "            10    2012-10-02     23.957\n",
      "            10    2012-10-03     24.118\n",
      "            10    2012-10-04     24.256\n",
      "            10    2012-10-05     24.110\n",
      "('MSFT', 2012, 11)\n",
      "                        Date  Adj Close\n",
      "Symbol Year Month                      \n",
      "MSFT   2012 11    2012-11-01     23.844\n",
      "            11    2012-11-02     23.827\n",
      "            11    2012-11-05     23.932\n",
      "            11    2012-11-06     24.118\n",
      "            11    2012-11-07     23.488\n",
      "('MSFT', 2012, 12)\n",
      "                        Date  Adj Close\n",
      "Symbol Year Month                      \n",
      "MSFT   2012 12    2012-12-03     21.523\n",
      "            12    2012-12-04     21.474\n",
      "            12    2012-12-05     21.719\n",
      "            12    2012-12-06     21.768\n",
      "            12    2012-12-07     21.548\n"
     ]
    }
   ],
   "source": [
    "# group by three levels in the index using their names\n",
    "mig_l12 = mi.groupby(level=['Symbol', 'Year', 'Month'])\n",
    "print_groups(mig_l12)"
   ]
  },
  {
   "cell_type": "markdown",
   "id": "689b5364",
   "metadata": {},
   "source": [
    "# Aggregation"
   ]
  },
  {
   "cell_type": "code",
   "execution_count": 168,
   "id": "adb0eb0a",
   "metadata": {
    "collapsed": false,
    "jupyter": {
     "outputs_hidden": false
    }
   },
   "outputs": [
    {
     "data": {
      "text/plain": [
       "                   Adj Close\n",
       "Symbol Year Month           \n",
       "AAPL   2012 1         12.941\n",
       "            2         15.024\n",
       "            3         17.438\n",
       "            4         18.298\n",
       "...                      ...\n",
       "MSFT   2012 9         24.863\n",
       "            10        23.477\n",
       "            11        22.575\n",
       "            12        21.971\n",
       "\n",
       "[24 rows x 1 columns]"
      ]
     },
     "execution_count": 168,
     "metadata": {},
     "output_type": "execute_result"
    }
   ],
   "source": [
    "# this will apply the mean function to each group\n",
    "mig_l12.agg(np.mean)"
   ]
  },
  {
   "cell_type": "code",
   "execution_count": 170,
   "id": "81c8e52f",
   "metadata": {
    "collapsed": false,
    "jupyter": {
     "outputs_hidden": false
    }
   },
   "outputs": [
    {
     "data": {
      "text/plain": [
       "  Symbol  Year  Month  Adj Close\n",
       "0   AAPL  2012      1     12.941\n",
       "1   AAPL  2012      2     15.024\n",
       "2   AAPL  2012      3     17.438\n",
       "3   AAPL  2012      4     18.298\n",
       "4   AAPL  2012      5     17.050"
      ]
     },
     "execution_count": 170,
     "metadata": {},
     "output_type": "execute_result"
    }
   ],
   "source": [
    "# example of groupby that also ignores the index\n",
    "# resulting in a default integer index\n",
    "# this also has the mean function applied\n",
    "s4g.groupby(['Symbol', 'Year', 'Month'], \n",
    "            as_index=False).agg(np.mean)[:5]"
   ]
  },
  {
   "cell_type": "code",
   "execution_count": 172,
   "id": "58791a70",
   "metadata": {
    "collapsed": false,
    "jupyter": {
     "outputs_hidden": false
    }
   },
   "outputs": [
    {
     "data": {
      "text/plain": [
       "                  Adj Close       \n",
       "                       mean    std\n",
       "Symbol Year Month                 \n",
       "AAPL   2012 1        12.941  0.403\n",
       "            2        15.024  0.800\n",
       "            3        17.438  0.933\n",
       "            4        18.298  0.686\n",
       "...                     ...    ...\n",
       "MSFT   2012 9        24.863  0.374\n",
       "            10       23.477  0.579\n",
       "            11       22.575  0.869\n",
       "            12       21.971  0.316\n",
       "\n",
       "[24 rows x 2 columns]"
      ]
     },
     "execution_count": 172,
     "metadata": {},
     "output_type": "execute_result"
    }
   ],
   "source": [
    "# apply multiple functions to each group in one call\n",
    "mig_l12.agg([np.mean, np.std])"
   ]
  }
 ],
 "metadata": {
  "kernelspec": {
   "display_name": "Python 3 (ipykernel)",
   "language": "python",
   "name": "python3"
  },
  "language_info": {
   "codemirror_mode": {
    "name": "ipython",
    "version": 3
   },
   "file_extension": ".py",
   "mimetype": "text/x-python",
   "name": "python",
   "nbconvert_exporter": "python",
   "pygments_lexer": "ipython3",
   "version": "3.11.7"
  }
 },
 "nbformat": 4,
 "nbformat_minor": 5
}
